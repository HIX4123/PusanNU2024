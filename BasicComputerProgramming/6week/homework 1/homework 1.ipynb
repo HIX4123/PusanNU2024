{
 "cells": [
  {
   "cell_type": "markdown",
   "metadata": {},
   "source": [
    "# Report 1\n",
    "\n",
    "분반: 105\n",
    "\n",
    "학과: 컴퓨터공학과 컴퓨터공학전공\\\n",
    "학번: 202355517\\\n",
    "이름: 권민규"
   ]
  },
  {
   "cell_type": "code",
   "execution_count": 1,
   "metadata": {},
   "outputs": [
    {
     "name": "stdout",
     "output_type": "stream",
     "text": [
      "권민규님의 키는 183.1cm이고, 몸무게는 83.1kg입니다.\n",
      "BMI 지수는 24.79로 과체중입니다.\n"
     ]
    }
   ],
   "source": [
    "name = input(\"이름을 입력하세요: \")\n",
    "height = float(input(\"키(cm)를 입력하세요: \"))\n",
    "weight = float(input(\"몸무게(kg)를 입력하세요: \"))\n",
    "\n",
    "bmi = weight / (height / 100) ** 2\n",
    "\n",
    "obesity_table = {0: \"저체중\", 1: \"정상\", 2: \"과체중\", 3: \"비만\", 4: \"고도비만\"}\n",
    "\n",
    "obesity = (\n",
    "    0 if bmi < 18.5 else 1 if bmi < 23 else 2 if bmi < 25 else 3 if bmi < 30 else 4\n",
    ")\n",
    "\n",
    "print(\n",
    "    f\"{name}님의 키는 {height}cm이고, 몸무게는 {weight}kg입니다.\\nBMI 지수는 {bmi:.2f}로 {obesity_table[obesity]}입니다.\"\n",
    ")"
   ]
  }
 ],
 "metadata": {
  "kernelspec": {
   "display_name": "base",
   "language": "python",
   "name": "python3"
  },
  "language_info": {
   "codemirror_mode": {
    "name": "ipython",
    "version": 3
   },
   "file_extension": ".py",
   "mimetype": "text/x-python",
   "name": "python",
   "nbconvert_exporter": "python",
   "pygments_lexer": "ipython3",
   "version": "3.11.7"
  }
 },
 "nbformat": 4,
 "nbformat_minor": 2
}
