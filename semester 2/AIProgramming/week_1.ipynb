{
  "cells": [
    {
      "cell_type": "markdown",
      "metadata": {
        "id": "05cN9FFdcJjj"
      },
      "source": [
        "# Session 1 - type, variable"
      ]
    },
    {
      "cell_type": "markdown",
      "metadata": {
        "id": "Nhe7cLGYbOnc"
      },
      "source": [
        "### Values and Types"
      ]
    },
    {
      "cell_type": "code",
      "execution_count": 13,
      "metadata": {
        "colab": {
          "base_uri": "https://localhost:8080/"
        },
        "id": "pJPO62JZZzGu",
        "outputId": "5b531dcb-3eda-46a7-f74a-2079d77e6306"
      },
      "outputs": [
        {
          "name": "stdout",
          "output_type": "stream",
          "text": [
            "<class 'int'>\n",
            "<class 'float'>\n",
            "<class 'str'>\n",
            "<class 'bool'>\n"
          ]
        }
      ],
      "source": [
        "a = 5\n",
        "print(type(a))  # int\n",
        "b = 3.14\n",
        "print(type(b))  # float\n",
        "c = \"Hello\"\n",
        "print(type(c))  # str\n",
        "d = True\n",
        "print(type(d))  # bool"
      ]
    },
    {
      "cell_type": "markdown",
      "metadata": {
        "id": "Fp0pke2TbQqB"
      },
      "source": [
        "### Numbers"
      ]
    },
    {
      "cell_type": "code",
      "execution_count": 14,
      "metadata": {
        "id": "rqZwYevdbRNM"
      },
      "outputs": [
        {
          "name": "stdout",
          "output_type": "stream",
          "text": [
            "7 3.14 3.14 13 493 26\n"
          ]
        }
      ],
      "source": [
        "a = 7\n",
        "B = 100, 000, 000  # 100_000_000\n",
        "c = 3.14\n",
        "d = 0b1101  # binary\n",
        "e = 0o755  # octal\n",
        "f = 0x1A  # hexadecimal\n",
        "print(a, b, c, d, e, f)"
      ]
    },
    {
      "cell_type": "markdown",
      "metadata": {
        "id": "Eyl2CmdVbR1F"
      },
      "source": [
        "### Variables"
      ]
    },
    {
      "cell_type": "code",
      "execution_count": 15,
      "metadata": {
        "id": "zjq9DaTIbgIZ"
      },
      "outputs": [
        {
          "name": "stdout",
          "output_type": "stream",
          "text": [
            "Alice 30 1.75 False\n"
          ]
        }
      ],
      "source": [
        "name = \"Alice\"\n",
        "age = 30\n",
        "height = 1.75\n",
        "is_student = False\n",
        "\n",
        "print(name, age, height, is_student)"
      ]
    },
    {
      "cell_type": "markdown",
      "metadata": {
        "id": "E104XykDbpN3"
      },
      "source": [
        "### Naming Rules"
      ]
    },
    {
      "cell_type": "code",
      "execution_count": 16,
      "metadata": {
        "id": "6RgsKtMtbhR-"
      },
      "outputs": [],
      "source": [
        "# 2things = 1          # invalid\n",
        "# my-name = “alice”    # invalid\n",
        "# Name = ”bob”         # case-sensitive\n",
        "# name = ”charlie”\n",
        "# int = 5              # keyword\n",
        "# float = 3.14         # keyword"
      ]
    },
    {
      "cell_type": "markdown",
      "metadata": {
        "id": "rpKgJD-ybvTN"
      },
      "source": [
        "### Arithmetic Operations"
      ]
    },
    {
      "cell_type": "code",
      "execution_count": 17,
      "metadata": {
        "id": "laAwMfpBbsVe"
      },
      "outputs": [
        {
          "name": "stdout",
          "output_type": "stream",
          "text": [
            "10 3.0 12 3.3333333333333335 3 1 8 20\n"
          ]
        }
      ],
      "source": [
        "addition = 7 + 3\n",
        "subtraction = 5.5 - 2.5\n",
        "multiplication = 3 * 4\n",
        "division = 10 / 3\n",
        "floor_division = 10 // 3\n",
        "modulus = 10 % 3\n",
        "exponentiation = 2**3\n",
        "result = (2 + 3) * 4\n",
        "print(\n",
        "    addition,\n",
        "    subtraction,\n",
        "    multiplication,\n",
        "    division,\n",
        "    floor_division,\n",
        "    modulus,\n",
        "    exponentiation,\n",
        "    result,\n",
        ")"
      ]
    },
    {
      "cell_type": "markdown",
      "metadata": {
        "id": "E6mfIpHwbyul"
      },
      "source": [
        "### Type Conversion"
      ]
    },
    {
      "cell_type": "code",
      "execution_count": 18,
      "metadata": {
        "id": "cRpNgM-LbxHK"
      },
      "outputs": [
        {
          "name": "stdout",
          "output_type": "stream",
          "text": [
            "Result data type: <class 'float'>\n",
            "Result: 52\n"
          ]
        }
      ],
      "source": [
        "num_int = 5\n",
        "num_float = 2.0\n",
        "result = num_int + num_float  # “5” + 2.0 TypeError\n",
        "print(\"Result data type:\", type(result))\n",
        "\n",
        "num_str = \"42\"\n",
        "num_int = int(num_str)\n",
        "result = num_int + 10\n",
        "print(\"Result:\", result)"
      ]
    },
    {
      "cell_type": "markdown",
      "metadata": {
        "id": "efAB4RVDb4WV"
      },
      "source": [
        "### Comparison and Logical Operators"
      ]
    },
    {
      "cell_type": "code",
      "execution_count": 19,
      "metadata": {
        "id": "t7HV5003b2Ic"
      },
      "outputs": [
        {
          "name": "stdout",
          "output_type": "stream",
          "text": [
            "True\n"
          ]
        }
      ],
      "source": [
        "x = 5\n",
        "y = 10\n",
        "z = 15\n",
        "result = x < y and y < z\n",
        "\n",
        "print(result)"
      ]
    },
    {
      "cell_type": "markdown",
      "metadata": {
        "id": "hxlf6YdQb76Q"
      },
      "source": [
        "### Variables and Assignment"
      ]
    },
    {
      "cell_type": "code",
      "execution_count": 20,
      "metadata": {
        "id": "TNZbCpBAb5n2"
      },
      "outputs": [
        {
          "name": "stdout",
          "output_type": "stream",
          "text": [
            "7 8\n"
          ]
        }
      ],
      "source": [
        "x = 5\n",
        "y = x + 3\n",
        "x = 7\n",
        "\n",
        "print(x, y)"
      ]
    },
    {
      "cell_type": "markdown",
      "metadata": {
        "id": "IWU3Q8tYb_yw"
      },
      "source": [
        "### Console Output\n"
      ]
    },
    {
      "cell_type": "code",
      "execution_count": 21,
      "metadata": {
        "id": "TnFfSuy2b9c0"
      },
      "outputs": [
        {
          "name": "stdout",
          "output_type": "stream",
          "text": [
            "Hello, World!\n",
            "a-b-c d-e-f\n",
            "A -> B -> C -> END"
          ]
        }
      ],
      "source": [
        "print(\"Hello, World!\")\n",
        "print(\"a\", \"b\", \"c\", sep=\"-\", end=\" \")\n",
        "print(\"d\", \"e\", \"f\", sep=\"-\")\n",
        "print(\"A\", \"B\", \"C\", sep=\" -> \", end=\" -> END\")"
      ]
    },
    {
      "cell_type": "markdown",
      "metadata": {
        "id": "ZYJeA4fpcGNk"
      },
      "source": [
        "# Lab"
      ]
    },
    {
      "cell_type": "markdown",
      "metadata": {
        "id": "0AZqhmeccW7p"
      },
      "source": [
        "1. Create a string variable called 'course_name' with the value \"Python for Non-Majors\", and print its length.\n",
        "\n",
        "hint: len()\n",
        "\n",
        "\n"
      ]
    },
    {
      "cell_type": "code",
      "execution_count": null,
      "metadata": {
        "id": "SBUQ1WRTc1Nz"
      },
      "outputs": [],
      "source": []
    },
    {
      "cell_type": "markdown",
      "metadata": {
        "id": "mGbPfQJEc5pl"
      },
      "source": [
        "2. Rename the following invalid variable names to follow Python naming rules: 1st_name, @age, Full-Name, class, list.\n",
        "\n",
        "\n"
      ]
    },
    {
      "cell_type": "code",
      "execution_count": null,
      "metadata": {
        "id": "mGAC-9rSc7Qd"
      },
      "outputs": [],
      "source": []
    },
    {
      "cell_type": "markdown",
      "metadata": {
        "id": "INqFk2K5c7ks"
      },
      "source": [
        "3. Calculate the result of 5 multiplied by 3, divided by 2, and raised to the power of 4. Use parentheses to ensure correct precedence.\n",
        "\n"
      ]
    },
    {
      "cell_type": "code",
      "execution_count": null,
      "metadata": {
        "id": "B2c46qWfc8z0"
      },
      "outputs": [],
      "source": []
    },
    {
      "cell_type": "markdown",
      "metadata": {
        "id": "jAEoPcBXc9kM"
      },
      "source": [
        "\n",
        "4. Print the values of three variables on the same line, separated by commas and a space.\n",
        "\n",
        "\tname = \"Alice\", age = 30, city = \"New York\""
      ]
    },
    {
      "cell_type": "code",
      "execution_count": null,
      "metadata": {
        "id": "nJN7nZ1Nc-ad"
      },
      "outputs": [],
      "source": []
    },
    {
      "cell_type": "markdown",
      "metadata": {
        "id": "EkRNBCyLctUY"
      },
      "source": [
        "5. Create a variable containing a string and reassign it to an integer.\n",
        "\n",
        "\n",
        "\n"
      ]
    },
    {
      "cell_type": "code",
      "execution_count": null,
      "metadata": {
        "id": "BxdeHEF_cB3C"
      },
      "outputs": [],
      "source": []
    },
    {
      "cell_type": "markdown",
      "metadata": {
        "id": "8urakjF8dBKW"
      },
      "source": [
        "6. Check the data type of a float variable and convert it to an integer.\n",
        "\n",
        "\n"
      ]
    },
    {
      "cell_type": "code",
      "execution_count": null,
      "metadata": {
        "id": "gDSlPn3DdDOM"
      },
      "outputs": [],
      "source": []
    },
    {
      "cell_type": "markdown",
      "metadata": {
        "id": "Zlqm6hu3dDno"
      },
      "source": [
        "7. Given an integer and a float, calculate their sum and product. Store the results in two separate variables and print them.\n",
        "\n",
        "\n"
      ]
    },
    {
      "cell_type": "code",
      "execution_count": null,
      "metadata": {
        "id": "04L2YydrdE13"
      },
      "outputs": [],
      "source": []
    },
    {
      "cell_type": "markdown",
      "metadata": {
        "id": "DsXdhO5zdFQX"
      },
      "source": [
        "8. Use comparison and logical operators to evaluate a condition. The comparison should check if x is less than y, and if y is less than z. Print the value of result to the console.\n",
        "\n",
        "\tx = 10, y = 20, z = 30"
      ]
    },
    {
      "cell_type": "code",
      "execution_count": null,
      "metadata": {
        "id": "ZFivLJHCdGK3"
      },
      "outputs": [],
      "source": []
    },
    {
      "cell_type": "markdown",
      "metadata": {
        "id": "XO_7stRmdZS9"
      },
      "source": [
        "# Session 2 - string"
      ]
    },
    {
      "cell_type": "markdown",
      "metadata": {
        "id": "dBWr2-TEdgIv"
      },
      "source": [
        "### string"
      ]
    },
    {
      "cell_type": "code",
      "execution_count": 22,
      "metadata": {
        "id": "hS3ZSmItdli2"
      },
      "outputs": [
        {
          "name": "stdout",
          "output_type": "stream",
          "text": [
            "Hello, World! Hello, World! This is a\n",
            "                      multiline string\n"
          ]
        }
      ],
      "source": [
        "single_quote = \"Hello, World!\"\n",
        "double_quote = \"Hello, World!\"\n",
        "multiline_string = \"\"\"This is a\n",
        "                      multiline string\"\"\"\n",
        "\n",
        "# my_string[0] = \"h\"     # TypeError\n",
        "\n",
        "print(single_quote, double_quote, multiline_string)"
      ]
    },
    {
      "cell_type": "markdown",
      "metadata": {
        "id": "RHUhbAS3dpZz"
      },
      "source": [
        "### Concatenation and Repetition\n"
      ]
    },
    {
      "cell_type": "code",
      "execution_count": 23,
      "metadata": {
        "id": "IxlTOTNgdl8Z"
      },
      "outputs": [
        {
          "name": "stdout",
          "output_type": "stream",
          "text": [
            "Hello World\n",
            "--------------------\n"
          ]
        }
      ],
      "source": [
        "greeting = \"Hello\" + \" \" + \"World\"\n",
        "line = \"-\" * 20\n",
        "\n",
        "print(greeting)\n",
        "print(line)"
      ]
    },
    {
      "cell_type": "markdown",
      "metadata": {
        "id": "qSRTM6iLdsHX"
      },
      "source": [
        "### String Functions and Methods"
      ]
    },
    {
      "cell_type": "code",
      "execution_count": 24,
      "metadata": {
        "id": "B4LmG84gdsl1"
      },
      "outputs": [
        {
          "name": "stdout",
          "output_type": "stream",
          "text": [
            "13 HELLO, WORLD! hello, there! hello world\n"
          ]
        }
      ],
      "source": [
        "s = \"hello, world!\"\n",
        "length = len(s)\n",
        "uppercase = s.upper()\n",
        "replaced = s.replace(\"world\", \"there\")\n",
        "clean_str = s.strip().lower().replace(\",\", \"\").replace(\"!\", \"\")  # chaining\n",
        "\n",
        "print(length, uppercase, replaced, clean_str)"
      ]
    },
    {
      "cell_type": "markdown",
      "metadata": {
        "id": "O0bjRMDqdyA1"
      },
      "source": [
        "### Indices and Slices\n"
      ]
    },
    {
      "cell_type": "code",
      "execution_count": 25,
      "metadata": {
        "id": "MOf-YzBqdvya"
      },
      "outputs": [
        {
          "name": "stdout",
          "output_type": "stream",
          "text": [
            "P n yth nohtyP\n"
          ]
        }
      ],
      "source": [
        "text = \"Python\"\n",
        "first_char = text[0]\n",
        "last_char = text[-1]\n",
        "slice1 = text[1:4]\n",
        "slice2 = text[::-1]\n",
        "\n",
        "print(first_char, last_char, slice1, slice2)"
      ]
    },
    {
      "cell_type": "markdown",
      "metadata": {
        "id": "ofvakbu3d1Gk"
      },
      "source": [
        "### Format Method\n"
      ]
    },
    {
      "cell_type": "code",
      "execution_count": 26,
      "metadata": {
        "id": "delyIF8td1b-"
      },
      "outputs": [
        {
          "name": "stdout",
          "output_type": "stream",
          "text": [
            "Alice is 30 years old.\n"
          ]
        }
      ],
      "source": [
        "name = \"Alice\"\n",
        "age = 30\n",
        "output = \"{} is {} years old.\".format(name, age)\n",
        "\n",
        "print(output)"
      ]
    },
    {
      "cell_type": "markdown",
      "metadata": {
        "id": "ZNn50GHwd_9c"
      },
      "source": [
        "### Format Specification and Field Width\n"
      ]
    },
    {
      "cell_type": "code",
      "execution_count": 27,
      "metadata": {
        "id": "aGWueyhaeARk"
      },
      "outputs": [
        {
          "name": "stdout",
          "output_type": "stream",
          "text": [
            "10    +     5 =  15  \n"
          ]
        }
      ],
      "source": [
        "x = 10\n",
        "y = 5\n",
        "output = \"{0:<5} + {1:>5} = {2:^5}\".format(x, y, x + y)\n",
        "\n",
        "print(output)"
      ]
    },
    {
      "cell_type": "markdown",
      "metadata": {
        "id": "_k_vBc6ReDWc"
      },
      "source": [
        "### Floating-Point Numbers and Percentages\n"
      ]
    },
    {
      "cell_type": "code",
      "execution_count": 28,
      "metadata": {
        "id": "y78K2ZSzeCTW"
      },
      "outputs": [
        {
          "name": "stdout",
          "output_type": "stream",
          "text": [
            "3.14\n",
            "85.0%\n"
          ]
        }
      ],
      "source": [
        "pi = 3.14159265\n",
        "percentage = 0.85\n",
        "formatted_pi = \"{:.2f}\".format(pi)\n",
        "formatted_percentage = \"{:.1%}\".format(percentage)\n",
        "\n",
        "print(formatted_pi)\n",
        "print(formatted_percentage)"
      ]
    },
    {
      "cell_type": "markdown",
      "metadata": {
        "id": "272lO-USeGa-"
      },
      "source": [
        "### Escape Sequences\n"
      ]
    },
    {
      "cell_type": "code",
      "execution_count": 29,
      "metadata": {
        "id": "P8nl9cl-eG9X"
      },
      "outputs": [
        {
          "name": "stdout",
          "output_type": "stream",
          "text": [
            "She said, \"Hello!\"\n",
            "Line 1\n",
            "Line 2\n"
          ]
        }
      ],
      "source": [
        "text = 'She said, \"Hello!\"'\n",
        "multiline = \"Line 1\\nLine 2\"\n",
        "\n",
        "print(text)\n",
        "print(multiline)"
      ]
    },
    {
      "cell_type": "markdown",
      "metadata": {
        "id": "WP8mSI7WeL-E"
      },
      "source": [
        "### Keyboard Input\n"
      ]
    },
    {
      "cell_type": "code",
      "execution_count": 30,
      "metadata": {
        "id": "3S9qvGmGeMO0"
      },
      "outputs": [
        {
          "name": "stdout",
          "output_type": "stream",
          "text": [
            "Hello, SeworL you are 19 years old.\n"
          ]
        }
      ],
      "source": [
        "name = input(\"Enter your name: \")\n",
        "age = int(input(\"Enter your age: \"))\n",
        "\n",
        "print(\"Hello,\", name, \"you are\", age, \"years old.\")"
      ]
    },
    {
      "cell_type": "markdown",
      "metadata": {
        "id": "F4N3v7IDeRtz"
      },
      "source": [
        "### Indentation"
      ]
    },
    {
      "cell_type": "code",
      "execution_count": 31,
      "metadata": {
        "id": "B_d_eTEGeSBt"
      },
      "outputs": [
        {
          "name": "stdout",
          "output_type": "stream",
          "text": [
            "Hello, world!\n",
            "This is a properly indented block of code.\n"
          ]
        }
      ],
      "source": [
        "def print_hello():\n",
        "    \"\"\"\n",
        "    Prints \"Hello, world!\" and \"This is a properly indented block of code.\"\n",
        "    \"\"\"\n",
        "    print(\"Hello, world!\")\n",
        "    print(\"This is a properly indented block of code.\")\n",
        "\n",
        "\n",
        "\n",
        "print_hello()"
      ]
    },
    {
      "cell_type": "markdown",
      "metadata": {
        "id": "2TdGi0RgeV_y"
      },
      "source": [
        "### Line Joining\n"
      ]
    },
    {
      "cell_type": "code",
      "execution_count": 32,
      "metadata": {
        "id": "KGlH7hvNeWXd"
      },
      "outputs": [
        {
          "name": "stdout",
          "output_type": "stream",
          "text": [
            "This is a very long string that we want to break into multiple lines for better readability.\n",
            "['red', 'blue', 'green']\n"
          ]
        }
      ],
      "source": [
        "# Explicit line joining\n",
        "long_string = \"This is a very long string that we want to \\\n",
        "break into multiple lines for better readability.\"\n",
        "\n",
        "# Implicit line joining\n",
        "colors = [\n",
        "    \"red\",\n",
        "    \"blue\",\n",
        "    \"green\",\n",
        "]\n",
        "\n",
        "print(long_string)\n",
        "print(colors)"
      ]
    },
    {
      "cell_type": "markdown",
      "metadata": {
        "id": "9fgcLU2reahl"
      },
      "source": [
        "# Lab"
      ]
    },
    {
      "cell_type": "markdown",
      "metadata": {
        "id": "dI9p5_rNec8G"
      },
      "source": [
        "1. Create a string of 10 asterisks using repetition, and print the length of the string.\n",
        "\n",
        "\ttext = “*”"
      ]
    },
    {
      "cell_type": "code",
      "execution_count": null,
      "metadata": {
        "id": "nvheaxJOedT9"
      },
      "outputs": [],
      "source": []
    },
    {
      "cell_type": "markdown",
      "metadata": {
        "id": "wDOVnwLTee8p"
      },
      "source": [
        "2. Convert a string to title case and print the result. hint: title()\n",
        "\n",
        "\ttext = \"hello world\""
      ]
    },
    {
      "cell_type": "code",
      "execution_count": null,
      "metadata": {
        "id": "YeC_cgT3ee8q"
      },
      "outputs": [],
      "source": []
    },
    {
      "cell_type": "markdown",
      "metadata": {
        "id": "J5zjEzX3efP0"
      },
      "source": [
        "3. Slice a string to obtain every second character, starting from the first character.\n",
        "\n",
        "\ttext = \"Python is fun!\""
      ]
    },
    {
      "cell_type": "code",
      "execution_count": null,
      "metadata": {
        "id": "Q7DxZNeGefP0"
      },
      "outputs": [],
      "source": []
    },
    {
      "cell_type": "markdown",
      "metadata": {
        "id": "SVmkUvFEefSw"
      },
      "source": [
        "4. Create a string containing double quotes and a newline character.\n",
        "\n",
        "\ttext = This is a string with \"double quotes\" and a newline"
      ]
    },
    {
      "cell_type": "code",
      "execution_count": null,
      "metadata": {
        "id": "1h3JnFZ3efSx"
      },
      "outputs": [],
      "source": []
    },
    {
      "cell_type": "markdown",
      "metadata": {
        "id": "Ig4Qqk6fefV5"
      },
      "source": [
        "5. Use the 'sep' argument in the print() function to print a list of items separated by commas.\n",
        "\n",
        "\tItems = apple, banana, orange"
      ]
    },
    {
      "cell_type": "code",
      "execution_count": null,
      "metadata": {
        "id": "wiEtWocNefV6"
      },
      "outputs": [],
      "source": []
    },
    {
      "cell_type": "markdown",
      "metadata": {
        "id": "bqPkCSx-efYw"
      },
      "source": [
        "6. Get user input for a floating-point number and print its square."
      ]
    },
    {
      "cell_type": "code",
      "execution_count": null,
      "metadata": {
        "id": "LDvc1P3HefYx"
      },
      "outputs": [],
      "source": []
    },
    {
      "cell_type": "markdown",
      "metadata": {
        "id": "6HbHQ3mDefbV"
      },
      "source": [
        "7. Create a string 'email' and use string methods to replace '@' with ' [at] ' and '.' with ' [dot] '.\n",
        "\n",
        "\temail = \"john.doe@example.com\"\n",
        "\n",
        "hint: replace() in str"
      ]
    },
    {
      "cell_type": "code",
      "execution_count": null,
      "metadata": {
        "id": "W1YLTHq4efbV"
      },
      "outputs": [],
      "source": []
    }
  ],
  "metadata": {
    "colab": {
      "provenance": [],
      "toc_visible": true
    },
    "kernelspec": {
      "display_name": "Python 3",
      "name": "python3"
    },
    "language_info": {
      "codemirror_mode": {
        "name": "ipython",
        "version": 3
      },
      "file_extension": ".py",
      "mimetype": "text/x-python",
      "name": "python",
      "nbconvert_exporter": "python",
      "pygments_lexer": "ipython3",
      "version": "3.12.4"
    }
  },
  "nbformat": 4,
  "nbformat_minor": 0
}
