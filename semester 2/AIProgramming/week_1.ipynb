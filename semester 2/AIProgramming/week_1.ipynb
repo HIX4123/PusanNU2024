{
  "nbformat": 4,
  "nbformat_minor": 0,
  "metadata": {
    "colab": {
      "provenance": [],
      "toc_visible": true
    },
    "kernelspec": {
      "name": "python3",
      "display_name": "Python 3"
    },
    "language_info": {
      "name": "python"
    }
  },
  "cells": [
    {
      "cell_type": "markdown",
      "source": [
        "# Session 1 - type, variable"
      ],
      "metadata": {
        "id": "05cN9FFdcJjj"
      }
    },
    {
      "cell_type": "markdown",
      "source": [
        "### Values and Types"
      ],
      "metadata": {
        "id": "Nhe7cLGYbOnc"
      }
    },
    {
      "cell_type": "code",
      "execution_count": null,
      "metadata": {
        "id": "pJPO62JZZzGu",
        "colab": {
          "base_uri": "https://localhost:8080/"
        },
        "outputId": "5b531dcb-3eda-46a7-f74a-2079d77e6306"
      },
      "outputs": [
        {
          "output_type": "stream",
          "name": "stdout",
          "text": [
            "<class 'int'>\n",
            "<class 'float'>\n",
            "<class 'str'>\n",
            "<class 'bool'>\n"
          ]
        }
      ],
      "source": [
        "a = 5\n",
        "print(type(a)) # int\n",
        "b = 3.14\n",
        "print(type(b)) # float\n",
        "c = \"Hello\"\n",
        "print(type(c)) # str\n",
        "d = True\n",
        "print(type(d)) # bool\n",
        "\n"
      ]
    },
    {
      "cell_type": "markdown",
      "source": [
        "### Numbers"
      ],
      "metadata": {
        "id": "Fp0pke2TbQqB"
      }
    },
    {
      "cell_type": "code",
      "source": [
        "a = 7\n",
        "B = 100,000,000     # 100_000_000\n",
        "c = 3.14\n",
        "d = 0b1101  # binary\n",
        "e = 0o755   # octal\n",
        "f = 0x1a      # hexadecimal\n",
        "print(a, b, c, d, e, f)\n"
      ],
      "metadata": {
        "id": "rqZwYevdbRNM"
      },
      "execution_count": null,
      "outputs": []
    },
    {
      "cell_type": "markdown",
      "source": [
        "### Variables"
      ],
      "metadata": {
        "id": "Eyl2CmdVbR1F"
      }
    },
    {
      "cell_type": "code",
      "source": [
        "name = \"Alice\"\n",
        "age = 30\n",
        "height = 1.75\n",
        "is_student = False\n",
        "\n",
        "print(name, age, height, is_student)\n"
      ],
      "metadata": {
        "id": "zjq9DaTIbgIZ"
      },
      "execution_count": null,
      "outputs": []
    },
    {
      "cell_type": "markdown",
      "source": [
        "### Naming Rules"
      ],
      "metadata": {
        "id": "E104XykDbpN3"
      }
    },
    {
      "cell_type": "code",
      "source": [
        "2things = 1          # invalid\n",
        "my-name = “alice”    # invalid\n",
        "Name = ”bob”         # case-sensitive\n",
        "name = ”charlie”\n",
        "int = 5              # keyword\n",
        "float = 3.14         # keyword\n"
      ],
      "metadata": {
        "id": "6RgsKtMtbhR-"
      },
      "execution_count": null,
      "outputs": []
    },
    {
      "cell_type": "markdown",
      "source": [
        "### Arithmetic Operations"
      ],
      "metadata": {
        "id": "rpKgJD-ybvTN"
      }
    },
    {
      "cell_type": "code",
      "source": [
        "addition = 7 + 3\n",
        "subtraction = 5.5 - 2.5\n",
        "multiplication = 3 * 4\n",
        "division = 10 / 3\n",
        "floor_division = 10 // 3\n",
        "modulus = 10 % 3\n",
        "exponentiation = 2 ** 3\n",
        "result = (2 + 3) * 4\n",
        "print(addition, subtraction, multiplication, division, floor_division, modulus, exponentiation, result)\n"
      ],
      "metadata": {
        "id": "laAwMfpBbsVe"
      },
      "execution_count": null,
      "outputs": []
    },
    {
      "cell_type": "markdown",
      "source": [
        "### Type Conversion"
      ],
      "metadata": {
        "id": "E6mfIpHwbyul"
      }
    },
    {
      "cell_type": "code",
      "source": [
        "num_int = 5\n",
        "num_float = 2.0\n",
        "result = num_int + num_float                    # “5” + 2.0 TypeError\n",
        "print(\"Result data type:\", type(result))\n",
        "\n",
        "num_str = \"42\"\n",
        "num_int = int(num_str)\n",
        "result = num_int + 10\n",
        "print(\"Result:\", result)\n"
      ],
      "metadata": {
        "id": "cRpNgM-LbxHK"
      },
      "execution_count": null,
      "outputs": []
    },
    {
      "cell_type": "markdown",
      "source": [
        "### Comparison and Logical Operators"
      ],
      "metadata": {
        "id": "efAB4RVDb4WV"
      }
    },
    {
      "cell_type": "code",
      "source": [
        "x = 5\n",
        "y = 10\n",
        "z = 15\n",
        "result = x < y and y < z\n",
        "\n",
        "print(result)\n"
      ],
      "metadata": {
        "id": "t7HV5003b2Ic"
      },
      "execution_count": null,
      "outputs": []
    },
    {
      "cell_type": "markdown",
      "source": [
        "### Variables and Assignment"
      ],
      "metadata": {
        "id": "hxlf6YdQb76Q"
      }
    },
    {
      "cell_type": "code",
      "source": [
        "x = 5\n",
        "y = x + 3\n",
        "x = 7\n",
        "\n",
        "print(x, y)\n"
      ],
      "metadata": {
        "id": "TNZbCpBAb5n2"
      },
      "execution_count": null,
      "outputs": []
    },
    {
      "cell_type": "markdown",
      "source": [
        "### Console Output\n"
      ],
      "metadata": {
        "id": "IWU3Q8tYb_yw"
      }
    },
    {
      "cell_type": "code",
      "source": [
        "print(\"Hello, World!\")\n",
        "print(\"a\", \"b\", \"c\", sep=\"-\", end=\" \")\n",
        "print(\"d\", \"e\", \"f\", sep=\"-\")\n",
        "print(\"A\", \"B\", \"C\", sep=\" -> \", end=\" -> END\")\n"
      ],
      "metadata": {
        "id": "TnFfSuy2b9c0"
      },
      "execution_count": null,
      "outputs": []
    },
    {
      "cell_type": "markdown",
      "source": [
        "# Lab"
      ],
      "metadata": {
        "id": "ZYJeA4fpcGNk"
      }
    },
    {
      "cell_type": "markdown",
      "source": [
        "1. Create a string variable called 'course_name' with the value \"Python for Non-Majors\", and print its length.\n",
        "\n",
        "hint: len()\n",
        "\n",
        "\n"
      ],
      "metadata": {
        "id": "0AZqhmeccW7p"
      }
    },
    {
      "cell_type": "code",
      "source": [],
      "metadata": {
        "id": "SBUQ1WRTc1Nz"
      },
      "execution_count": null,
      "outputs": []
    },
    {
      "cell_type": "markdown",
      "source": [
        "2. Rename the following invalid variable names to follow Python naming rules: 1st_name, @age, Full-Name, class, list.\n",
        "\n",
        "\n"
      ],
      "metadata": {
        "id": "mGbPfQJEc5pl"
      }
    },
    {
      "cell_type": "code",
      "source": [],
      "metadata": {
        "id": "mGAC-9rSc7Qd"
      },
      "execution_count": null,
      "outputs": []
    },
    {
      "cell_type": "markdown",
      "source": [
        "3. Calculate the result of 5 multiplied by 3, divided by 2, and raised to the power of 4. Use parentheses to ensure correct precedence.\n",
        "\n"
      ],
      "metadata": {
        "id": "INqFk2K5c7ks"
      }
    },
    {
      "cell_type": "code",
      "source": [],
      "metadata": {
        "id": "B2c46qWfc8z0"
      },
      "execution_count": null,
      "outputs": []
    },
    {
      "cell_type": "markdown",
      "source": [
        "\n",
        "4. Print the values of three variables on the same line, separated by commas and a space.\n",
        "\n",
        "\tname = \"Alice\", age = 30, city = \"New York\""
      ],
      "metadata": {
        "id": "jAEoPcBXc9kM"
      }
    },
    {
      "cell_type": "code",
      "source": [],
      "metadata": {
        "id": "nJN7nZ1Nc-ad"
      },
      "execution_count": null,
      "outputs": []
    },
    {
      "cell_type": "markdown",
      "source": [
        "5. Create a variable containing a string and reassign it to an integer.\n",
        "\n",
        "\n",
        "\n"
      ],
      "metadata": {
        "id": "EkRNBCyLctUY"
      }
    },
    {
      "cell_type": "code",
      "source": [],
      "metadata": {
        "id": "BxdeHEF_cB3C"
      },
      "execution_count": null,
      "outputs": []
    },
    {
      "cell_type": "markdown",
      "source": [
        "6. Check the data type of a float variable and convert it to an integer.\n",
        "\n",
        "\n"
      ],
      "metadata": {
        "id": "8urakjF8dBKW"
      }
    },
    {
      "cell_type": "code",
      "source": [],
      "metadata": {
        "id": "gDSlPn3DdDOM"
      },
      "execution_count": null,
      "outputs": []
    },
    {
      "cell_type": "markdown",
      "source": [
        "7. Given an integer and a float, calculate their sum and product. Store the results in two separate variables and print them.\n",
        "\n",
        "\n"
      ],
      "metadata": {
        "id": "Zlqm6hu3dDno"
      }
    },
    {
      "cell_type": "code",
      "source": [],
      "metadata": {
        "id": "04L2YydrdE13"
      },
      "execution_count": null,
      "outputs": []
    },
    {
      "cell_type": "markdown",
      "source": [
        "8. Use comparison and logical operators to evaluate a condition. The comparison should check if x is less than y, and if y is less than z. Print the value of result to the console.\n",
        "\n",
        "\tx = 10, y = 20, z = 30"
      ],
      "metadata": {
        "id": "DsXdhO5zdFQX"
      }
    },
    {
      "cell_type": "code",
      "source": [],
      "metadata": {
        "id": "ZFivLJHCdGK3"
      },
      "execution_count": null,
      "outputs": []
    },
    {
      "cell_type": "markdown",
      "source": [
        "# Session 2 - string"
      ],
      "metadata": {
        "id": "XO_7stRmdZS9"
      }
    },
    {
      "cell_type": "markdown",
      "source": [
        "### string"
      ],
      "metadata": {
        "id": "dBWr2-TEdgIv"
      }
    },
    {
      "cell_type": "code",
      "source": [
        "single_quote = 'Hello, World!'\n",
        "double_quote = \"Hello, World!\"\n",
        "multiline_string = '''This is a\n",
        "                      multiline string'''\n",
        "\n",
        "my_string[0] = \"h\"     # TypeError\n",
        "\n",
        "print(single_quote, double_quote, multiline_string)\n"
      ],
      "metadata": {
        "id": "hS3ZSmItdli2"
      },
      "execution_count": null,
      "outputs": []
    },
    {
      "cell_type": "markdown",
      "source": [
        "### Concatenation and Repetition\n"
      ],
      "metadata": {
        "id": "RHUhbAS3dpZz"
      }
    },
    {
      "cell_type": "code",
      "source": [
        "greeting = \"Hello\" + \" \" + \"World\"\n",
        "line = \"-\" * 20\n",
        "\n",
        "print(greeting)\n",
        "print(line)\n"
      ],
      "metadata": {
        "id": "IxlTOTNgdl8Z"
      },
      "execution_count": null,
      "outputs": []
    },
    {
      "cell_type": "markdown",
      "source": [
        "### String Functions and Methods"
      ],
      "metadata": {
        "id": "qSRTM6iLdsHX"
      }
    },
    {
      "cell_type": "code",
      "source": [
        "s = \"hello, world!\"\n",
        "length = len(s)\n",
        "uppercase = s.upper()\n",
        "replaced = s.replace(\"world\", \"there\")\n",
        "clean_str = s.strip().lower().replace(',', '').replace('!', '')  # chaining\n",
        "\n",
        "print(length, uppercase, replaced, clean_str)\n"
      ],
      "metadata": {
        "id": "B4LmG84gdsl1"
      },
      "execution_count": null,
      "outputs": []
    },
    {
      "cell_type": "markdown",
      "source": [
        "### Indices and Slices\n"
      ],
      "metadata": {
        "id": "O0bjRMDqdyA1"
      }
    },
    {
      "cell_type": "code",
      "source": [
        "text = \"Python\"\n",
        "first_char = text[0]\n",
        "last_char = text[-1]\n",
        "slice1 = text[1:4]\n",
        "slice2 = text[::-1]\n",
        "\n",
        "print(first_char, last_char, slice1, slice2)\n"
      ],
      "metadata": {
        "id": "MOf-YzBqdvya"
      },
      "execution_count": null,
      "outputs": []
    },
    {
      "cell_type": "markdown",
      "source": [
        "### Format Method\n"
      ],
      "metadata": {
        "id": "ofvakbu3d1Gk"
      }
    },
    {
      "cell_type": "code",
      "source": [
        "name = \"Alice\"\n",
        "age = 30\n",
        "output = \"{} is {} years old.\".format(name, age)\n",
        "\n",
        "print(output)\n"
      ],
      "metadata": {
        "id": "delyIF8td1b-"
      },
      "execution_count": null,
      "outputs": []
    },
    {
      "cell_type": "markdown",
      "source": [
        "### Format Specification and Field Width\n"
      ],
      "metadata": {
        "id": "ZNn50GHwd_9c"
      }
    },
    {
      "cell_type": "code",
      "source": [
        "x = 10\n",
        "y = 5\n",
        "output = \"{0:<5} + {1:>5} = {2:^5}\".format(x, y, x + y)\n",
        "\n",
        "print(output)\n"
      ],
      "metadata": {
        "id": "aGWueyhaeARk"
      },
      "execution_count": null,
      "outputs": []
    },
    {
      "cell_type": "markdown",
      "source": [
        "### Floating-Point Numbers and Percentages\n"
      ],
      "metadata": {
        "id": "_k_vBc6ReDWc"
      }
    },
    {
      "cell_type": "code",
      "source": [
        "pi = 3.14159265\n",
        "percentage = 0.85\n",
        "formatted_pi = \"{:.2f}\".format(pi)\n",
        "formatted_percentage = \"{:.1%}\".format(percentage)\n",
        "\n",
        "print(formatted_pi)\n",
        "print(formatted_percentage)\n"
      ],
      "metadata": {
        "id": "y78K2ZSzeCTW"
      },
      "execution_count": null,
      "outputs": []
    },
    {
      "cell_type": "markdown",
      "source": [
        "### Escape Sequences\n"
      ],
      "metadata": {
        "id": "272lO-USeGa-"
      }
    },
    {
      "cell_type": "code",
      "source": [
        "text = \"She said, \\\"Hello!\\\"\"\n",
        "multiline = \"Line 1\\nLine 2\"\n",
        "\n",
        "print(text)\n",
        "print(multiline)\n"
      ],
      "metadata": {
        "id": "P8nl9cl-eG9X"
      },
      "execution_count": null,
      "outputs": []
    },
    {
      "cell_type": "markdown",
      "source": [
        "### Keyboard Input\n"
      ],
      "metadata": {
        "id": "WP8mSI7WeL-E"
      }
    },
    {
      "cell_type": "code",
      "source": [
        "name = input(\"Enter your name: \")\n",
        "age = int(input(\"Enter your age: \"))\n",
        "\n",
        "print(\"Hello,\", name, \"you are\", age, \"years old.\")\n"
      ],
      "metadata": {
        "id": "3S9qvGmGeMO0"
      },
      "execution_count": null,
      "outputs": []
    },
    {
      "cell_type": "markdown",
      "source": [
        "### Indentation"
      ],
      "metadata": {
        "id": "F4N3v7IDeRtz"
      }
    },
    {
      "cell_type": "code",
      "source": [
        "def print_hello():\n",
        "    print(\"Hello, world!\")\n",
        "    print(\"This is a properly indented block of code.\")\n",
        "\n",
        "print_hello()\n"
      ],
      "metadata": {
        "id": "B_d_eTEGeSBt"
      },
      "execution_count": null,
      "outputs": []
    },
    {
      "cell_type": "markdown",
      "source": [
        "### Line Joining\n"
      ],
      "metadata": {
        "id": "2TdGi0RgeV_y"
      }
    },
    {
      "cell_type": "code",
      "source": [
        "# Explicit line joining\n",
        "long_string = \"This is a very long string that we want to \\\n",
        "break into multiple lines for better readability.\"\n",
        "\n",
        "# Implicit line joining\n",
        "colors = [    \"red\",    \"blue\",    \"green\",]\n",
        "\n",
        "print(long_string)\n",
        "print(colors)\n"
      ],
      "metadata": {
        "id": "KGlH7hvNeWXd"
      },
      "execution_count": null,
      "outputs": []
    },
    {
      "cell_type": "markdown",
      "source": [
        "# Lab"
      ],
      "metadata": {
        "id": "9fgcLU2reahl"
      }
    },
    {
      "cell_type": "markdown",
      "source": [
        "1. Create a string of 10 asterisks using repetition, and print the length of the string.\n",
        "\n",
        "\ttext = “*”"
      ],
      "metadata": {
        "id": "dI9p5_rNec8G"
      }
    },
    {
      "cell_type": "code",
      "source": [],
      "metadata": {
        "id": "nvheaxJOedT9"
      },
      "execution_count": null,
      "outputs": []
    },
    {
      "cell_type": "markdown",
      "source": [
        "2. Convert a string to title case and print the result. hint: title()\n",
        "\n",
        "\ttext = \"hello world\""
      ],
      "metadata": {
        "id": "wDOVnwLTee8p"
      }
    },
    {
      "cell_type": "code",
      "source": [],
      "metadata": {
        "id": "YeC_cgT3ee8q"
      },
      "execution_count": null,
      "outputs": []
    },
    {
      "cell_type": "markdown",
      "source": [
        "3. Slice a string to obtain every second character, starting from the first character.\n",
        "\n",
        "\ttext = \"Python is fun!\""
      ],
      "metadata": {
        "id": "J5zjEzX3efP0"
      }
    },
    {
      "cell_type": "code",
      "source": [],
      "metadata": {
        "id": "Q7DxZNeGefP0"
      },
      "execution_count": null,
      "outputs": []
    },
    {
      "cell_type": "markdown",
      "source": [
        "4. Create a string containing double quotes and a newline character.\n",
        "\n",
        "\ttext = This is a string with \"double quotes\" and a newline"
      ],
      "metadata": {
        "id": "SVmkUvFEefSw"
      }
    },
    {
      "cell_type": "code",
      "source": [],
      "metadata": {
        "id": "1h3JnFZ3efSx"
      },
      "execution_count": null,
      "outputs": []
    },
    {
      "cell_type": "markdown",
      "source": [
        "5. Use the 'sep' argument in the print() function to print a list of items separated by commas.\n",
        "\n",
        "\tItems = apple, banana, orange"
      ],
      "metadata": {
        "id": "Ig4Qqk6fefV5"
      }
    },
    {
      "cell_type": "code",
      "source": [],
      "metadata": {
        "id": "wiEtWocNefV6"
      },
      "execution_count": null,
      "outputs": []
    },
    {
      "cell_type": "markdown",
      "source": [
        "6. Get user input for a floating-point number and print its square."
      ],
      "metadata": {
        "id": "bqPkCSx-efYw"
      }
    },
    {
      "cell_type": "code",
      "source": [],
      "metadata": {
        "id": "LDvc1P3HefYx"
      },
      "execution_count": null,
      "outputs": []
    },
    {
      "cell_type": "markdown",
      "source": [
        "7. Create a string 'email' and use string methods to replace '@' with ' [at] ' and '.' with ' [dot] '.\n",
        "\n",
        "\temail = \"john.doe@example.com\"\n",
        "\n",
        "hint: replace() in str"
      ],
      "metadata": {
        "id": "6HbHQ3mDefbV"
      }
    },
    {
      "cell_type": "code",
      "source": [],
      "metadata": {
        "id": "W1YLTHq4efbV"
      },
      "execution_count": null,
      "outputs": []
    }
  ]
}