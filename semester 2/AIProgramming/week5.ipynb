{
  "cells": [
    {
      "cell_type": "markdown",
      "metadata": {
        "id": "tRRCegBQtwri"
      },
      "source": [
        "## 0. Prerequisite"
      ]
    },
    {
      "cell_type": "code",
      "execution_count": 1,
      "metadata": {
        "colab": {
          "base_uri": "https://localhost:8080/"
        },
        "id": "EJwZpmxStwGz",
        "outputId": "d7c53a19-4e59-4980-acd4-bfb2c368d609"
      },
      "outputs": [],
      "source": [
        "# from google.colab import drive\n",
        "\n",
        "# drive.mount('/content/gdrive/', force_remount=True)\n"
      ]
    },
    {
      "cell_type": "markdown",
      "metadata": {
        "id": "QfhPmqKAvB_A"
      },
      "source": [
        "## p4. Reading Text Files"
      ]
    },
    {
      "cell_type": "code",
      "execution_count": 2,
      "metadata": {
        "colab": {
          "base_uri": "https://localhost:8080/"
        },
        "id": "hI_ujRWqtL7N",
        "outputId": "a0116bc5-2fff-4f9b-d992-9e75092ba6f3"
      },
      "outputs": [],
      "source": [
        "# !cat \"./AIP_05_Data Processing and File Access_data/FirstPresidents.txt\""
      ]
    },
    {
      "cell_type": "code",
      "execution_count": 3,
      "metadata": {
        "colab": {
          "base_uri": "https://localhost:8080/"
        },
        "id": "RK8sYPN6t95O",
        "outputId": "a7fe2691-7bd6-4f56-d504-9bda218bbd62"
      },
      "outputs": [
        {
          "name": "stdout",
          "output_type": "stream",
          "text": [
            "George Washington\n",
            "John Adams\n",
            "Thomas Jefferson\n",
            "\n",
            "['George Washington', 'John Adams', 'Thomas Jefferson']\n",
            "\n",
            "George Washington\n",
            "John Adams\n",
            "Thomas Jefferson\n"
          ]
        }
      ],
      "source": [
        "def main():\n",
        "  '''\n",
        "  Display the names of the first three presidents.\n",
        "  '''\n",
        "  file = \"./AIP_05_Data Processing and File Access_data/FirstPresidents.txt\"\n",
        "  displayWithForLoop(file)\n",
        "  print()\n",
        "  displayWithListComprehension(file)\n",
        "  print()\n",
        "  displayWithReadline(file)\n",
        "\n",
        "def displayWithForLoop(file):\n",
        "  infile = open(file, 'r')\n",
        "  for line in infile:\n",
        "    print(line.rstrip())\n",
        "  infile.close()\n",
        "\n",
        "def displayWithListComprehension(file):\n",
        "  infile = open(file, 'r')\n",
        "  listPres = [line.rstrip() for line in infile]\n",
        "  infile.close()\n",
        "  print(listPres)\n",
        "\n",
        "def displayWithReadline(file):\n",
        "  infile = open(file, 'r')\n",
        "  line = infile.readline()\n",
        "  while line != \"\":\n",
        "    print(line.rstrip())\n",
        "    line = infile.readline()\n",
        "  infile.close()\n",
        "\n",
        "main()"
      ]
    },
    {
      "cell_type": "markdown",
      "metadata": {
        "id": "tTPoVCbGvJGJ"
      },
      "source": [
        "## p9. Creating Text Files"
      ]
    },
    {
      "cell_type": "code",
      "execution_count": 4,
      "metadata": {
        "colab": {
          "base_uri": "https://localhost:8080/"
        },
        "id": "28pEGWJ8vh5A",
        "outputId": "c5399e06-06f1-4541-ca9c-d4fb787772f1"
      },
      "outputs": [],
      "source": [
        "# !cat /content/gdrive/MyDrive/States.txt"
      ]
    },
    {
      "cell_type": "code",
      "execution_count": 5,
      "metadata": {
        "colab": {
          "base_uri": "https://localhost:8080/"
        },
        "id": "XcgTfbBEvJmf",
        "outputId": "6ed0dfa3-1482-454b-82c8-c9829ca34787"
      },
      "outputs": [
        {
          "name": "stdout",
          "output_type": "stream",
          "text": [
            "statesList ['Alabama', 'Alaska', 'Arizona', 'Arkansas', 'California', 'Colorado', 'Connecticut', 'Delaware', 'Florida', 'Georgia', 'Hawaii', 'Idaho', 'Illinois', 'Indiana', 'Iowa', 'Kansas', 'Kentucky', 'Louisiana', 'Maine', 'Maryland', 'Massachusetts', 'Michigan', 'Minnesota', 'Mississippi', 'Missouri', 'Montana', 'Nebraska', 'Nevada', 'New Hampshire', 'New Jersey', 'New Mexico', 'New York', 'North Carolina', 'North Dakota', 'Ohio', 'Oklahoma', 'Oregon', 'Pennsylvania', 'Rhode Island', 'South Carolina', 'South Dakota', 'Tennessee', 'Texas', 'Utah', 'Vermont', 'Virginia', 'Washington', 'West Virginia', 'Wisconsin', 'Wyoming']\n",
            "sortedStatesList ['Alabama', 'Alaska', 'Arizona', 'Arkansas', 'California', 'Colorado', 'Connecticut', 'Delaware', 'Florida', 'Georgia', 'Hawaii', 'Idaho', 'Illinois', 'Indiana', 'Iowa', 'Kansas', 'Kentucky', 'Louisiana', 'Maine', 'Maryland', 'Massachusetts', 'Michigan', 'Minnesota', 'Mississippi', 'Missouri', 'Montana', 'Nebraska', 'Nevada', 'New Hampshire', 'New Jersey', 'New Mexico', 'New York', 'North Carolina', 'North Dakota', 'Ohio', 'Oklahoma', 'Oregon', 'Pennsylvania', 'Rhode Island', 'South Carolina', 'South Dakota', 'Tennessee', 'Texas', 'Utah', 'Vermont', 'Virginia', 'Washington', 'West Virginia', 'Wisconsin', 'Wyoming']\n"
          ]
        }
      ],
      "source": [
        "def main():\n",
        "  '''\n",
        "  Create a text file containing the 50 states in alphabetical order.\n",
        "  '''\n",
        "  fileName = './AIP_05_Data Processing and File Access_data/States.txt'\n",
        "  sortedFileName = './AIP_05_Data Processing and File Access_data/StatesAlpha.txt'\n",
        "  statesList = createListFromFile(fileName)\n",
        "  print('statesList', statesList)\n",
        "  createSortedFile(statesList, sortedFileName)\n",
        "  sortedStatesList = createListFromFile(sortedFileName)\n",
        "  print('sortedStatesList', sortedStatesList)\n",
        "\n",
        "def createListFromFile(fileName):\n",
        "  infile = open(fileName, 'r')\n",
        "  desiredList = [line.rstrip() for line in infile]\n",
        "  infile.close()\n",
        "  return desiredList\n",
        "\n",
        "def createSortedFile(listName, fileName):\n",
        "  listName.sort()\n",
        "  for i in range(len(listName)):\n",
        "    listName[i] = listName[i] + \"\\n\"\n",
        "  outfile = open(fileName, 'w')\n",
        "  outfile.writelines(listName)\n",
        "  outfile.close()\n",
        "\n",
        "main()"
      ]
    },
    {
      "cell_type": "markdown",
      "metadata": {
        "id": "xqPOSvt5wRmY"
      },
      "source": [
        "## p26. Accessing the Data in a CSV File"
      ]
    },
    {
      "cell_type": "code",
      "execution_count": 6,
      "metadata": {
        "colab": {
          "base_uri": "https://localhost:8080/"
        },
        "id": "z5oCSKJSwPzI",
        "outputId": "9951821a-bb11-4329-ea75-601420c42b9c"
      },
      "outputs": [],
      "source": [
        "# !cat /content/gdrive/MyDrive/UN.txt"
      ]
    },
    {
      "cell_type": "code",
      "execution_count": 7,
      "metadata": {
        "colab": {
          "base_uri": "https://localhost:8080/"
        },
        "id": "MCu3WswexuK3",
        "outputId": "834eb7d3-8418-48e4-dfe6-6fa3674928f2"
      },
      "outputs": [],
      "source": [
        "import csv\n",
        "from itertools import groupby\n",
        "first = lambda x: x[0]\n",
        "fileName = './AIP_05_Data Processing and File Access_data/UN.txt'\n",
        "\n",
        "def getContinentList():\n",
        "  contents = list()\n",
        "  with open(fileName, 'r') as f_read:\n",
        "    reader = csv.reader(f_read)\n",
        "    for row in reader:\n",
        "      contents.append(row)\n",
        "\n",
        "  return set(map(first, groupby(contents, lambda x: x[1])))\n",
        "\n"
      ]
    },
    {
      "cell_type": "code",
      "execution_count": 8,
      "metadata": {
        "colab": {
          "base_uri": "https://localhost:8080/"
        },
        "id": "xyiOdRbKwt2q",
        "outputId": "da13e27f-6c9f-4f1e-9957-5912ba08b34d"
      },
      "outputs": [
        {
          "name": "stdout",
          "output_type": "stream",
          "text": [
            "Afghanistan\n",
            "Armenia\n",
            "Azerbaijan\n",
            "Bahrain\n",
            "Bangladesh\n",
            "Bhutan\n",
            "Brunei Darussalam\n",
            "Cambodia\n",
            "China\n",
            "Cyprus\n",
            "Democratic People's Republic of Korea\n",
            "Georgia\n",
            "India\n",
            "Indonesia\n",
            "Iran\n",
            "Iraq\n",
            "Israel\n",
            "Japan\n",
            "Jordan\n",
            "Kazakhstan\n",
            "Kuwait\n",
            "Kyrgyzstan\n",
            "Lao People's Democratic Republic\n",
            "Lebanon\n",
            "Malaysia\n",
            "Maldives\n",
            "Mongolia\n",
            "Myanmar\n",
            "Nepal\n",
            "Oman\n",
            "Pakistan\n",
            "Philippines\n",
            "Qatar\n",
            "Republic of Korea\n",
            "Saudi Arabia\n",
            "Singapore\n",
            "Sri Lanka\n",
            "Syrian Arab Republic\n",
            "Tajikistan\n",
            "Thailand\n",
            "Timor-Leste\n",
            "Turkey\n",
            "Turkmenistan\n",
            "United Arab Emirates\n",
            "Uzbekistan\n",
            "Vietnam\n",
            "Yemen\n"
          ]
        }
      ],
      "source": [
        "def main():\n",
        "  '''\n",
        "  Display the countries in a specified continent.\n",
        "  '''\n",
        "  continent = input(f\"Enter the name of a continent: {*getContinentList(),} \")\n",
        "  continent = continent.title() # Allow for all lower\n",
        "  if continent != \"Antarctica\": # case letters. (남극대륙)\n",
        "    infile = open(fileName, 'r')\n",
        "    for line in infile:\n",
        "      data = line.split(',')\n",
        "      if data[1] == continent:\n",
        "        print(data[0])\n",
        "    infile.close()\n",
        "  else:\n",
        "    print(\"There are no countries in Antarctica.\")\n",
        "\n",
        "main()"
      ]
    },
    {
      "cell_type": "markdown",
      "metadata": {
        "id": "ReVjqehk0SeG"
      },
      "source": [
        "## p.28 Analyzing the Data in a CSV File with a List"
      ]
    },
    {
      "cell_type": "code",
      "execution_count": 9,
      "metadata": {
        "colab": {
          "base_uri": "https://localhost:8080/"
        },
        "id": "FhigR3i40SBU",
        "outputId": "8aae607e-4076-472e-ef9b-d5ed8e062f56"
      },
      "outputs": [
        {
          "name": "stdout",
          "output_type": "stream",
          "text": [
            "Country             Area (sq. mi.)\n",
            "Russian Federation  6,592,800\n",
            "Canada              3,855,000\n",
            "United States       3,794,066\n",
            "China               3,696,100\n",
            "Brazil              3,287,597\n"
          ]
        }
      ],
      "source": [
        "fileName = './AIP_05_Data Processing and File Access_data/UN.txt'\n",
        "outputFileName = './AIP_05_Data Processing and File Access_data/UNByArea.txt'\n",
        "\n",
        "from enum import Enum\n",
        "class Column(Enum):\n",
        "  COUNTRY = 0\n",
        "  CONTINENT = 1\n",
        "  POPULATION = 2\n",
        "  AREA = 3\n",
        "\n",
        "def main():\n",
        "  '''\n",
        "  Create a file containing all countries and areas, ordered by area.\n",
        "  Display first five lines of the file.\n",
        "  '''\n",
        "  countries = placeRecordsIntoList(fileName)\n",
        "  countries.sort(key=lambda country: country[3], reverse=True) # sort by area\n",
        "\n",
        "  displayFiveLargestCountries(countries)\n",
        "  createNewFile(countries)\n",
        "\n",
        "def placeRecordsIntoList(fileName):\n",
        "\n",
        "  infile = open(fileName, 'r')\n",
        "  listOfRecords = [line.rstrip() for line in infile]\n",
        "  infile.close()\n",
        "  for i in range(len(listOfRecords)):\n",
        "    listOfRecords[i] = listOfRecords[i].split(',')\n",
        "    listOfRecords[i][Column.POPULATION.value] = eval(listOfRecords[i][Column.POPULATION.value]) # population\n",
        "    listOfRecords[i][Column.AREA.value] = eval(listOfRecords[i][Column.AREA.value]) # area\n",
        "\n",
        "  return listOfRecords\n",
        "\n",
        "def displayFiveLargestCountries(countries, n=5):\n",
        "  print(\"{0:20}{1:9}\".format(\"Country\", \"Area (sq. mi.)\"))\n",
        "  for i in range(n):\n",
        "    print(\"{0:20}{1:9,d}\".format(countries[i][0], countries[i][3]))\n",
        "\n",
        "def createNewFile(countries):\n",
        "  '''\n",
        "  Create file of countries and their areas.\n",
        "  '''\n",
        "  outfile = open(outputFileName, 'w')\n",
        "  for country in countries:\n",
        "    outfile.write(country[Column.COUNTRY.value] + ',' + str(country[Column.AREA.value])+ \"\\n\")\n",
        "  outfile.close()\n",
        "\n",
        "main()"
      ]
    },
    {
      "cell_type": "code",
      "execution_count": 10,
      "metadata": {
        "colab": {
          "base_uri": "https://localhost:8080/"
        },
        "id": "8u7BNgjD3rO9",
        "outputId": "21c0172e-e637-46ba-f836-04434aed81c6"
      },
      "outputs": [],
      "source": [
        "# !cat /content/gdrive/MyDrive/UNbyArea.txt"
      ]
    },
    {
      "cell_type": "markdown",
      "metadata": {
        "id": "hKpE5CNtMYmB"
      },
      "source": [
        "## p.39 Using a Dictionary as a Frequency Table"
      ]
    },
    {
      "cell_type": "code",
      "execution_count": 11,
      "metadata": {
        "colab": {
          "base_uri": "https://localhost:8080/"
        },
        "id": "S5TBe37bMYDD",
        "outputId": "166254b8-f63a-4ec0-c725-6d4d51cf91a6"
      },
      "outputs": [],
      "source": [
        "# !cat /content/gdrive/MyDrive/Gettysburg.txt"
      ]
    },
    {
      "cell_type": "code",
      "execution_count": 12,
      "metadata": {
        "colab": {
          "base_uri": "https://localhost:8080/"
        },
        "id": "ry5V2sVrNL7V",
        "outputId": "473f22b2-1392-4eb8-b959-5f73e9abe90b"
      },
      "outputs": [
        {
          "name": "stdout",
          "output_type": "stream",
          "text": [
            "The Gettysburg Address contains 268 words.\n",
            "The Gettysburg Address contains 139 different words.\n",
            "\n",
            "The most common words and their frequencies are:\n",
            "     that: 13\n",
            "     the: 11\n",
            "     we: 10\n",
            "     to: 8\n",
            "     here: 8\n",
            "     a: 7\n",
            "     and: 6\n"
          ]
        }
      ],
      "source": [
        "fileName = './AIP_05_Data Processing and File Access_data/Gettysburg.txt'\n",
        "\n",
        "def main():\n",
        "  '''\n",
        "  Analyze word frequencies in the Gettysburg Address,\n",
        "  which is written in a single line.\n",
        "  '''\n",
        "  listOfWords = formListOfWords(fileName)\n",
        "  freq = createFrequencyDictionary(listOfWords)\n",
        "  displayWordCount(listOfWords, freq)\n",
        "  displayMostCommonWords(freq)\n",
        "\n",
        "def formListOfWords(fileName):\n",
        "  infile = open(fileName)\n",
        "  originalLine = infile.read().lower()\n",
        "  infile.close()\n",
        "  # Remove punctuation marks from the line.\n",
        "  line = \"\"\n",
        "  for ch in originalLine:\n",
        "    if ('a' <= ch <= 'z') or (ch == \" \"):\n",
        "      line += ch\n",
        "  # Place the individual words into a list.\n",
        "  listOfWords = line.split()\n",
        "  return listOfWords\n",
        "\n",
        "def createFrequencyDictionary(listOfWords):\n",
        "  '''\n",
        "  Create dictionary with each item having the form word:word frequency.\n",
        "  '''\n",
        "  freq = {}\n",
        "  # an empty dictionary\n",
        "  for word in listOfWords:\n",
        "    freq[word] = 0\n",
        "  for word in listOfWords:\n",
        "    freq[word] = freq[word] + 1\n",
        "  return freq\n",
        "\n",
        "def displayWordCount(listOfWords, freq):\n",
        "  print(\"The Gettysburg Address contains\", len(listOfWords), \"words.\")\n",
        "  print(\"The Gettysburg Address contains\", len(freq), \"different words.\")\n",
        "  print()\n",
        "\n",
        "\n",
        "def displayMostCommonWords(freq):\n",
        "  '''\n",
        "  Common words are those with frequency > 5.\n",
        "  '''\n",
        "  print(\"The most common words and their frequencies are:\")\n",
        "  listOfMostCommonWords = []\n",
        "  for word in freq.keys():\n",
        "    if freq[word] >= 6:\n",
        "      listOfMostCommonWords.append((word, freq[word]))\n",
        "  listOfMostCommonWords.sort(key=lambda x: x[1], reverse=True)\n",
        "  for item in listOfMostCommonWords:\n",
        "    print(\"    \", item[0] + ':', item[1])\n",
        "\n",
        "main()"
      ]
    },
    {
      "cell_type": "markdown",
      "metadata": {
        "id": "6p4rrnSGRkF-"
      },
      "source": [
        "## p.45 Dictionary-Valued Dictionaries"
      ]
    },
    {
      "cell_type": "code",
      "execution_count": 13,
      "metadata": {
        "colab": {
          "base_uri": "https://localhost:8080/"
        },
        "id": "Zt6rtGz3R0R3",
        "outputId": "c3480163-93e0-474d-eac3-cb58aea53dbc"
      },
      "outputs": [],
      "source": [
        "# !cat /content/gdrive/MyDrive/UNDict.dat"
      ]
    },
    {
      "cell_type": "code",
      "execution_count": 14,
      "metadata": {
        "colab": {
          "base_uri": "https://localhost:8080/"
        },
        "id": "9sF8b2SRRjzv",
        "outputId": "62f39954-2e66-442f-fed9-51bcebdccccf"
      },
      "outputs": [
        {
          "name": "stdout",
          "output_type": "stream",
          "text": [
            "Enter the name of a continent China: 1,355.70\n",
            " India: 1,236.30\n",
            " Indonesia: 253.60\n",
            " Pakistan: 196.20\n",
            " Bangladesh: 166.30\n",
            " Japan: 127.10\n",
            " Philippines: 107.70\n",
            " Vietnam: 93.40\n",
            " Turkey: 81.60\n",
            " Iran: 80.80\n",
            " Thailand: 67.70\n",
            " Myanmar: 55.70\n",
            " Republic of Korea: 49.00\n",
            " Iraq: 32.60\n",
            " Afghanistan: 31.80\n",
            " Nepal: 31.00\n",
            " Malaysia: 30.10\n",
            " Uzbekistan: 28.90\n",
            " Saudi Arabia: 27.30\n",
            " Yemen: 26.10\n",
            " Democratic People's Republic of Korea: 24.90\n",
            " Sri Lanka: 22.90\n",
            " Syrian Arab Republic: 18.00\n",
            " Kazakhstan: 18.00\n",
            " Cambodia: 15.50\n",
            " Azerbaijan: 9.70\n",
            " Tajikistan: 8.10\n",
            " Jordan: 7.90\n",
            " Israel: 7.80\n",
            " Lao People's Democratic Republic: 6.80\n",
            " Lebanon: 5.90\n",
            " Singapore: 5.60\n",
            " Kyrgyzstan: 5.60\n",
            " United Arab Emirates: 5.60\n",
            " Turkmenistan: 5.10\n",
            " Georgia: 4.90\n",
            " Oman: 3.20\n",
            " Armenia: 3.10\n",
            " Mongolia: 3.00\n",
            " Kuwait: 2.70\n",
            " Qatar: 2.10\n",
            " Bahrain: 1.30\n",
            " Timor-Leste: 1.20\n",
            " Cyprus: 1.20\n",
            " Bhutan: 0.73\n",
            " Brunei Darussalam: 0.42\n",
            " Maldives: 0.39\n"
          ]
        }
      ],
      "source": [
        "import pickle\n",
        "\n",
        "fileName = './AIP_05_Data Processing and File Access_data/UNDict.dat'\n",
        "\n",
        "def main():\n",
        "  '''\n",
        "  Display countries (and their population) from a specified continent.\n",
        "  '''\n",
        "  nations = getDictionary(fileName)\n",
        "  print(\"Enter the name of a continent\", end='')\n",
        "  continent = input(\"other than Antarctica: ('Europe', 'Asia', 'North America', 'South America', 'Africa', 'Australia/Oceania') \")\n",
        "  continentDict = constructContinentNations(nations, continent)\n",
        "  displaySortedResults(continentDict)\n",
        "\n",
        "def getDictionary(fileName):\n",
        "  infile = open(fileName, 'rb')\n",
        "  countries = pickle.load(infile)\n",
        "  infile.close()\n",
        "  return countries\n",
        "\n",
        "def constructContinentNations(nations, continent):\n",
        "  '''\n",
        "  Reduce the full 193 item dictionary to a dictionary\n",
        "  consisting solely of the countries in the specified continent.\n",
        "  '''\n",
        "  continentDict = {} # an empty dictionary\n",
        "  for nation in nations: # or nations.keys()\n",
        "    if nations[nation][\"cont\"] == continent:\n",
        "      continentDict[nation] = nations[nation]\n",
        "  return continentDict\n",
        "\n",
        "def displaySortedResults(dictionaryName):\n",
        "  '''\n",
        "  Display countries in descending order by population.\n",
        "  '''\n",
        "  continentList = sorted(dictionaryName.items(), key=lambda k: k[1][\"popl\"], reverse=True)\n",
        "  for k in continentList:\n",
        "    print(\" {0:s}: {1:,.2f}\".format(k[0], k[1][\"popl\"]))\n",
        "\n",
        "main()"
      ]
    },
    {
      "cell_type": "markdown",
      "metadata": {
        "id": "d4YKhuyuTd1z"
      },
      "source": [
        "## p.48 Using a Dictionary with Tuples as Keys"
      ]
    },
    {
      "cell_type": "code",
      "execution_count": 15,
      "metadata": {
        "colab": {
          "base_uri": "https://localhost:8080/"
        },
        "id": "VPe_8BDZTdDC",
        "outputId": "88443ef1-41fa-4434-dada-08573b811476"
      },
      "outputs": [],
      "source": [
        "# !cat /content/gdrive/MyDrive/USpresStatesDict.dat"
      ]
    },
    {
      "cell_type": "code",
      "execution_count": 16,
      "metadata": {
        "colab": {
          "base_uri": "https://localhost:8080/"
        },
        "id": "m9sHYSwaToBH",
        "outputId": "558e6a4a-d09e-4642-a598-1b1c40f22ad1"
      },
      "outputs": [
        {
          "name": "stdout",
          "output_type": "stream",
          "text": [
            "There are no presidents from Asia.\n"
          ]
        }
      ],
      "source": [
        "import pickle\n",
        "\n",
        "fileName = './AIP_05_Data Processing and File Access_data/USpresStatesDict.dat'\n",
        "\n",
        "def main():\n",
        "  '''\n",
        "  Displays the presidents from the given state ordered alphabetically by their last names.\n",
        "  '''\n",
        "  presDict = createDictFromBinaryFile(fileName)\n",
        "  state = getState(presDict)\n",
        "  displayOutput(state, presDict)\n",
        "\n",
        "def createDictFromBinaryFile(fileName):\n",
        "  infile = open(fileName, 'rb')\n",
        "  dictionary = pickle.load(infile)\n",
        "  infile.close()\n",
        "  return dictionary\n",
        "\n",
        "def getState(dictName):\n",
        "  state = input(\"Enter the name of a state: \")\n",
        "  if state in dictName.values():\n",
        "    return state\n",
        "  else:\n",
        "    return \"There are no presidents from \" + state + '.'\n",
        "\n",
        "def displayOutput(state, dictName):\n",
        "  if state.startswith(\"There\"):\n",
        "    print(state)\n",
        "  else:\n",
        "    print(\"Presidents from\", state + ':')\n",
        "    for pres in sorted(dictName):# in sorted list of names\n",
        "      if dictName[pres] == state:\n",
        "        print(\" \" + pres[1] + \" \" + pres[0])\n",
        "\n",
        "main()\n"
      ]
    },
    {
      "cell_type": "markdown",
      "metadata": {
        "id": "fEplFR44Uf_l"
      },
      "source": [
        "## p.22 Sets"
      ]
    },
    {
      "cell_type": "code",
      "execution_count": 17,
      "metadata": {
        "colab": {
          "base_uri": "https://localhost:8080/"
        },
        "id": "ukICo_7ZUfoG",
        "outputId": "5212a3db-79ba-4bcc-e2fb-dbb82174493d"
      },
      "outputs": [],
      "source": [
        "# !cat /content/gdrive/MyDrive/VPres.txt"
      ]
    },
    {
      "cell_type": "code",
      "execution_count": 18,
      "metadata": {
        "colab": {
          "base_uri": "https://localhost:8080/"
        },
        "id": "tML0dJdkUwAX",
        "outputId": "bc9c256b-8cf8-416d-8276-6acd194e9fdc"
      },
      "outputs": [],
      "source": [
        "# !cat /content/gdrive/MyDrive/USPres.txt"
      ]
    },
    {
      "cell_type": "code",
      "execution_count": 19,
      "metadata": {
        "id": "94kOsiDEU8aM"
      },
      "outputs": [],
      "source": [
        "\n",
        "vPresFileName = './AIP_05_Data Processing and File Access_data/VPres.txt'\n",
        "usPresFileName = './AIP_05_Data Processing and File Access_data/USPres.txt'\n",
        "writtenFileName = './AIP_05_Data Processing and File Access_data/PresAndVPres.txt'\n",
        "\n",
        "def main():\n",
        "  '''\n",
        "  Create a file of the presidents who also served as vice-presidents.\n",
        "  '''\n",
        "  vicePresSet = createSetFromFile(vPresFileName)\n",
        "  presSet = createSetFromFile(usPresFileName)\n",
        "  bothPresAndVPresSet = createIntersection(vicePresSet, presSet)\n",
        "  writeNamesToFile(bothPresAndVPresSet, writtenFileName)\n",
        "\n",
        "def createSetFromFile(fileName):\n",
        "  '''\n",
        "  Assume that the last line of the file ends with a newline character.\n",
        "  '''\n",
        "  infile = open(fileName, 'r')\n",
        "  namesSet = {name for name in infile}\n",
        "  infile.close()\n",
        "  return namesSet\n",
        "\n",
        "def createIntersection(set1, set2):\n",
        "  return set1.intersection(set2)\n",
        "\n",
        "def writeNamesToFile(setName, fileName):\n",
        "  outfile = open(fileName, 'w')\n",
        "  outfile.writelines(setName)\n",
        "  outfile.close()\n",
        "\n",
        "main()"
      ]
    },
    {
      "cell_type": "code",
      "execution_count": 20,
      "metadata": {
        "colab": {
          "base_uri": "https://localhost:8080/"
        },
        "id": "lUvRrD-HVgSD",
        "outputId": "c52d62d3-2997-4114-baa7-e08581cfb0d8"
      },
      "outputs": [],
      "source": [
        "# !cat /content/gdrive/MyDrive/PresAndVPres.txt"
      ]
    },
    {
      "cell_type": "markdown",
      "metadata": {
        "id": "ZYJeA4fpcGNk"
      },
      "source": [
        "# Lab"
      ]
    },
    {
      "cell_type": "code",
      "execution_count": 21,
      "metadata": {
        "id": "J4cISJndoP_-"
      },
      "outputs": [],
      "source": [
        "# from google.colab import drive\n",
        "\n",
        "# drive.mount('/content/gdrive/', force_remount=True)"
      ]
    },
    {
      "cell_type": "markdown",
      "metadata": {
        "id": "0AZqhmeccW7p"
      },
      "source": [
        "\n",
        "\n",
        "## 1. Count Unique Words\n",
        "\n",
        "Given a text file, count the unique words present in the file.\n",
        "\n",
        "\n",
        "\n",
        "\n",
        "\n",
        "\n"
      ]
    },
    {
      "cell_type": "code",
      "execution_count": 22,
      "metadata": {
        "colab": {
          "base_uri": "https://localhost:8080/"
        },
        "id": "RNYIQCYnt9ca",
        "outputId": "26019cbc-35bd-4a48-92c9-1b528b809591"
      },
      "outputs": [],
      "source": [
        "# !cat /content/gdrive/MyDrive/input1.txt"
      ]
    },
    {
      "cell_type": "code",
      "execution_count": null,
      "metadata": {
        "id": "19HbTZd5XI4i"
      },
      "outputs": [],
      "source": []
    },
    {
      "cell_type": "markdown",
      "metadata": {
        "id": "mGbPfQJEc5pl"
      },
      "source": [
        "## 2.  Find the Frequency of Each Word\n",
        "\n",
        "Given a text file, find the frequency of each word present in the file.\n",
        "\n",
        "\n"
      ]
    },
    {
      "cell_type": "code",
      "execution_count": 23,
      "metadata": {
        "colab": {
          "base_uri": "https://localhost:8080/"
        },
        "id": "S-DJlxyK4FgZ",
        "outputId": "48771702-4283-464a-9c8b-2fd5bcf8dd5b"
      },
      "outputs": [],
      "source": [
        "# !cat /content/gdrive/MyDrive/input1.txt"
      ]
    },
    {
      "cell_type": "code",
      "execution_count": null,
      "metadata": {
        "id": "4OXPr0YxXJwx"
      },
      "outputs": [],
      "source": []
    },
    {
      "cell_type": "markdown",
      "metadata": {
        "id": "INqFk2K5c7ks"
      },
      "source": [
        "## 3. Read a CSV File into a List of Dictionaries\n",
        "\n",
        "Given a CSV file, read its content into a  dictionary where keys are column names.\n",
        "\n"
      ]
    },
    {
      "cell_type": "code",
      "execution_count": 24,
      "metadata": {
        "colab": {
          "base_uri": "https://localhost:8080/"
        },
        "id": "u-O90MGn4Hmy",
        "outputId": "b9c6bd0e-5316-43b2-c034-2eb28852aa05"
      },
      "outputs": [],
      "source": [
        "# !cat /content/gdrive/MyDrive/input3.txt"
      ]
    },
    {
      "cell_type": "code",
      "execution_count": null,
      "metadata": {
        "id": "eGhwwXv4XKXX"
      },
      "outputs": [],
      "source": []
    },
    {
      "cell_type": "markdown",
      "metadata": {
        "id": "EkRNBCyLctUY"
      },
      "source": [
        "## 4. Replace Specific Words\n",
        "\n",
        "Given a text file and a dictionary of words to replace, replace specific words in the file and write new words to 'output5.txt'.\n",
        "\n",
        "\n",
        "\n",
        "\n",
        "\n"
      ]
    },
    {
      "cell_type": "code",
      "execution_count": 25,
      "metadata": {
        "colab": {
          "base_uri": "https://localhost:8080/"
        },
        "id": "0pHKWtb4C56e",
        "outputId": "f670fa33-5fca-4edc-d514-5932401753b6"
      },
      "outputs": [],
      "source": [
        "# !cat /content/gdrive/MyDrive/input5.txt"
      ]
    },
    {
      "cell_type": "code",
      "execution_count": 26,
      "metadata": {
        "id": "EunA-prkmILl"
      },
      "outputs": [],
      "source": [
        "dict_words = {\n",
        "    \"intelligence\": \"Intel\",\n",
        "    \"computer\": \"Computer\",\n",
        "    \"artificial\": \"Artificial\",\n",
        "    \"human\": \"Human\",\n",
        "    \"problem\": \"Issue\",\n",
        "    \"learning\": \"Studying\"\n",
        "}"
      ]
    },
    {
      "cell_type": "code",
      "execution_count": 27,
      "metadata": {
        "id": "-givegtKXKzN"
      },
      "outputs": [],
      "source": [
        "# !cat /content/gdrive/MyDrive/output5.txt"
      ]
    }
  ],
  "metadata": {
    "colab": {
      "provenance": [],
      "toc_visible": true
    },
    "kernelspec": {
      "display_name": "aip",
      "language": "python",
      "name": "python3"
    },
    "language_info": {
      "codemirror_mode": {
        "name": "ipython",
        "version": 3
      },
      "file_extension": ".py",
      "mimetype": "text/x-python",
      "name": "python",
      "nbconvert_exporter": "python",
      "pygments_lexer": "ipython3",
      "version": "3.12.4"
    }
  },
  "nbformat": 4,
  "nbformat_minor": 0
}
