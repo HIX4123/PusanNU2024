{
  "cells": [
    {
      "cell_type": "markdown",
      "metadata": {
        "id": "AL3MoBZO5NpL"
      },
      "source": [
        "## User-Defined Classes\n",
        "\n",
        "\n"
      ]
    },
    {
      "cell_type": "code",
      "execution_count": null,
      "metadata": {
        "id": "M3ABCUJiIqOC"
      },
      "outputs": [
        {
          "ename": "",
          "evalue": "",
          "output_type": "error",
          "traceback": [
            "\u001b[1;31m'.conda (Python 3.11.10)'(으)로 셀을 실행하려면 ipykernel 패키지가 필요합니다.\n",
            "\u001b[1;31m다음 명령어를 실행하여 Python 환경에 'ipykernel'을(를) 설치합니다. \n",
            "\u001b[1;31m 명령: 'conda install -p c:\\Users\\rnjsa\\Desktop\\PusanNU2024\\.conda ipykernel --update-deps --force-reinstall'"
          ]
        }
      ],
      "source": [
        "class Rectangle:\n",
        "    def __init__(self, width=1, height=1):\n",
        "        self._width = width\n",
        "        self._height = height\n",
        "        self.__width = width\n",
        "        self.__height = height\n",
        "\n",
        "    def setWidth(self, width):\n",
        "        self._width = width\n",
        "\n",
        "    def setHeight(self, height):\n",
        "        self._height = height\n",
        "\n",
        "    def getWidth(self):\n",
        "        return self._width\n",
        "\n",
        "    def getHeight(self):\n",
        "        return self._height\n",
        "\n",
        "    def area(self):\n",
        "        return self._width * self._height\n",
        "\n",
        "    def perimeter(self):\n",
        "        return 2 * (self._width + self._height)\n",
        "\n",
        "    def __area(self):\n",
        "        return self.__width * self.__height\n",
        "\n",
        "    def _area(self):\n",
        "        return self.__width * self.__height\n",
        "\n",
        "    def __perimeter(self):\n",
        "        return 2 * (self.__width + self.__height)\n",
        "\n",
        "    def _perimeter(self):\n",
        "        return 2 * (self.__width + self.__height)\n",
        "\n",
        "    def __str__(self):\n",
        "        return \"Width: \" + str(self._width) + \"\\nHeight: \" + str(self._height)"
      ]
    },
    {
      "cell_type": "code",
      "execution_count": null,
      "metadata": {
        "colab": {
          "base_uri": "https://localhost:8080/"
        },
        "id": "ywmEZzMyLzZk",
        "outputId": "a79de206-5a56-4c43-ffc7-a65b17e5c7ad"
      },
      "outputs": [],
      "source": [
        "# Create a rectangle of width 4 and height 5\n",
        "r = Rectangle(4, 5)\n",
        "print(r)  # Uses the __str__ method to report the state\n",
        "# Create a rectangle with the default values for width and\n",
        "# height\n",
        "r = Rectangle()\n",
        "print(r)\n",
        "# Create a rectangle of width 4 and default height 1\n",
        "r = Rectangle(4)\n",
        "print(r)\n",
        "r = Rectangle()\n",
        "# Use the mutator methods.\n",
        "r.setWidth(4)\n",
        "r.setHeight(5)\n",
        "print(\"The rectangle has the following measurements:\")\n",
        "# Use the accessor methods.\n",
        "print(\"Width is\", r.getWidth())\n",
        "print(\"Height is\", r.getHeight())\n",
        "# Use other methods.\n",
        "print(\"Area is\", r.area())\n",
        "print(\"Perimeter is\", r.perimeter())"
      ]
    },
    {
      "cell_type": "code",
      "execution_count": null,
      "metadata": {
        "colab": {
          "base_uri": "https://localhost:8080/"
        },
        "id": "RpcSVieaL_nb",
        "outputId": "c622d20f-5559-400e-d18e-e944fb3447dc"
      },
      "outputs": [],
      "source": [
        "print(\"Width is\", r._width)\n",
        "print(\"Height is\", r._height)\n",
        "print(\"Area is\", r.area())\n",
        "print(\"Perimeter is\", r.perimeter())\n",
        "r.__dict__.keys()"
      ]
    },
    {
      "cell_type": "code",
      "execution_count": null,
      "metadata": {
        "colab": {
          "base_uri": "https://localhost:8080/"
        },
        "id": "2aP11_HXV-1M",
        "outputId": "9a0aa106-0b6c-46a3-f938-aec063a19a18"
      },
      "outputs": [],
      "source": [
        "print(dir(Rectangle))"
      ]
    },
    {
      "cell_type": "code",
      "execution_count": null,
      "metadata": {
        "colab": {
          "base_uri": "https://localhost:8080/"
        },
        "id": "SBUQ1WRTc1Nz",
        "outputId": "7c8b8878-2b26-4280-9392-0a9230396831"
      },
      "outputs": [],
      "source": [
        "# https://docs.python.org/2/tutorial/classes.html#private-variables-and-class-local-references\n",
        "# print(\"__Width is\", r.__width)\n",
        "# print(\"__Height is\", r.__height)\n",
        "print(\"__Area is\", r._area())\n",
        "print(\"__Perimeter is\", r._perimeter())"
      ]
    },
    {
      "cell_type": "markdown",
      "metadata": {
        "id": "qHeiIk6Pdh9y"
      },
      "source": [
        "## LGstudent Class"
      ]
    },
    {
      "cell_type": "markdown",
      "metadata": {
        "id": "TSa9F56LYKUn"
      },
      "source": [
        "* letter-grade students - (A, B, C, D, F)"
      ]
    },
    {
      "cell_type": "code",
      "execution_count": null,
      "metadata": {
        "id": "xMQLNosZeBz3"
      },
      "outputs": [],
      "source": [
        "class LGstudent:\n",
        "    def __init__(self, name=\"\", midterm=0, final=0):\n",
        "        self.__name = name\n",
        "        self.__midterm = midterm\n",
        "        self.__final = final\n",
        "\n",
        "    def setName(self, name):\n",
        "        self.__name = name\n",
        "\n",
        "    def setMidterm(self, midterm):\n",
        "        self.__midterm = midterm\n",
        "\n",
        "    def setFinal(self, final):\n",
        "        self.__final = final\n",
        "\n",
        "    def calcSemGrade(self):\n",
        "        grade = (self.__midterm + self.__final) / 2\n",
        "        grade = round(grade)\n",
        "        if grade >= 90:\n",
        "            return \"A\"\n",
        "        elif grade >= 80:\n",
        "            return \"B\"\n",
        "        elif grade >= 70:\n",
        "            return \"C\"\n",
        "        elif grade >= 60:\n",
        "            return \"D\"\n",
        "        else:\n",
        "            return \"F\"\n",
        "\n",
        "    def __str__(self):\n",
        "        return self.__name + \"\\t\" + self.calcSemGrade()"
      ]
    },
    {
      "cell_type": "code",
      "execution_count": null,
      "metadata": {
        "colab": {
          "base_uri": "https://localhost:8080/"
        },
        "id": "9SdhMfnjIOXN",
        "outputId": "850dbc90-80f1-4d7a-a6a1-6176c324b90b"
      },
      "outputs": [],
      "source": [
        "def main():\n",
        "    ## Calculate and display a student's semester letter grade.\n",
        "    name = input(\"Enter student's name: \")\n",
        "    midterm = float(input(\"Enter grade on midterm exam: \"))\n",
        "    final = float(input(\"Enter grade on final exam: \"))\n",
        "    # Create an instance of an LGstudent object.\n",
        "    st = LGstudent(name, midterm, final)\n",
        "    print(\"\\nNAME\\tGRADE\")\n",
        "    # Display student's name and semester letter grade.\n",
        "    print(st)\n",
        "\n",
        "\n",
        "main()"
      ]
    },
    {
      "cell_type": "markdown",
      "metadata": {
        "id": "jez5PEIbfiMt"
      },
      "source": [
        "## Lists of Objects"
      ]
    },
    {
      "cell_type": "code",
      "execution_count": null,
      "metadata": {
        "colab": {
          "base_uri": "https://localhost:8080/"
        },
        "id": "YhrsG-RVHpfI",
        "outputId": "17cb2af5-f248-431c-8f60-5a677c39a74f"
      },
      "outputs": [],
      "source": [
        "def main():\n",
        "    ## Calculate and display students' semester letter grades.\n",
        "    listOfStudents = []  # To holds objects each for a student\n",
        "    carryOn = \"Y\"\n",
        "    while carryOn == \"Y\":  # Repeat until user says 'N'\n",
        "        st = LGstudent()\n",
        "        # Obtain student's name and grades.\n",
        "        name = input(\"Enter student's name: \")\n",
        "        midterm = float(input(\"Enter student's grade on midterm exam: \"))\n",
        "        final = float(input(\"Enter student's grade on final exam: \"))\n",
        "        # Create an instance of an LGstudent object.\n",
        "        st = LGstudent(name, midterm, final)\n",
        "        listOfStudents.append(st)\n",
        "        # Insert object into list.\n",
        "        carryOn = input(\"Do you want to continue (Y/N)? \")\n",
        "        carryOn = carryOn.upper()\n",
        "    print(\"\\nNAME\\tGRADE\")\n",
        "    # Display students, names and semester letter grades.\n",
        "    for pupil in listOfStudents:\n",
        "        print(pupil)\n",
        "\n",
        "\n",
        "main()"
      ]
    },
    {
      "cell_type": "markdown",
      "metadata": {
        "id": "hslGpsG-gll4"
      },
      "source": [
        "## Inheritance"
      ]
    },
    {
      "cell_type": "code",
      "execution_count": null,
      "metadata": {
        "colab": {
          "base_uri": "https://localhost:8080/"
        },
        "id": "e2egenn1ISmS",
        "outputId": "bb760ae9-e290-48b7-fcbf-1197d3ca2880"
      },
      "outputs": [],
      "source": [
        "class Student:  # Superclass\n",
        "    def __init__(self, name=\"\", midterm=0, final=0):\n",
        "        self._name = name\n",
        "        self._midterm = midterm\n",
        "        self._final = final\n",
        "\n",
        "    def setName(self, name):\n",
        "        self._name = name\n",
        "\n",
        "    def setMidterm(self, midterm):\n",
        "        self._midterm = midterm\n",
        "\n",
        "    def setFinal(self, final):\n",
        "        self._final = final\n",
        "\n",
        "    def getName(self):\n",
        "        return self._name\n",
        "\n",
        "    def calcSemGrade(self):\n",
        "        pass\n",
        "\n",
        "    def __str__(self):\n",
        "        return self._name + \"\\t\" + self.calcSemGrade()\n",
        "\n",
        "\n",
        "s = Student()\n",
        "print(s.__dict__.keys())\n",
        "print(s.calcSemGrade())"
      ]
    },
    {
      "cell_type": "code",
      "execution_count": null,
      "metadata": {
        "colab": {
          "base_uri": "https://localhost:8080/"
        },
        "id": "biRIzRNoMd44",
        "outputId": "0449f1ab-e525-4570-8335-7ff2a2292f53"
      },
      "outputs": [],
      "source": [
        "# letter-grade students\n",
        "class LGstudent(Student):  # Subclass of Student\n",
        "    def calcSemGrade(self):\n",
        "        average = round((self._midterm + self._final) / 2)\n",
        "        if average >= 90:\n",
        "            return \"A\"\n",
        "        elif average >= 80:\n",
        "            return \"B\"\n",
        "        elif average >= 70:\n",
        "            return \"C\"\n",
        "        elif average >= 60:\n",
        "            return \"D\"\n",
        "        else:\n",
        "            return \"F\"\n",
        "\n",
        "\n",
        "# pass-fail students\n",
        "class PFstudent(Student):  # Subclass of Student\n",
        "    def calcSemGrade(self):\n",
        "        average = round((self._midterm + self._final) / 2)\n",
        "        if average >= 60:\n",
        "            return \"Pass\"\n",
        "        else:\n",
        "            return \"Fail\"\n",
        "\n",
        "\n",
        "lg = LGstudent()\n",
        "pf = PFstudent()\n",
        "\n",
        "print(dir(lg))\n",
        "print(dir(pf))\n",
        "print(lg.__dict__.keys())\n",
        "print(pf.__dict__.keys())\n",
        "print(lg.calcSemGrade())\n",
        "print(pf.calcSemGrade())"
      ]
    },
    {
      "cell_type": "code",
      "execution_count": null,
      "metadata": {
        "id": "GtR4wC0NMgpy"
      },
      "outputs": [],
      "source": [
        "def main():\n",
        "    # students and grades\n",
        "    listOfStudents = obtainListOfStudents()\n",
        "    displayResults(listOfStudents)\n",
        "\n",
        "\n",
        "def obtainListOfStudents():\n",
        "    listOfStudents = []\n",
        "    carryOn = \"Y\"\n",
        "    while carryOn == \"Y\":\n",
        "        name = input(\"Enter student's name: \")\n",
        "        midterm = float(input(\"Enter grade on midterm: \"))\n",
        "        final = float(input(\"Enter grade on final: \"))\n",
        "        category = input(\"Enter category (LG or PF): \")\n",
        "        if category.upper() == \"LG\":\n",
        "            st = LGstudent(name, midterm, final)\n",
        "        else:\n",
        "            st = PFstudent(name, midterm, final)\n",
        "        listOfStudents.append(st)\n",
        "        carryOn = input(\"Do you want to continue (Y/N)? \")\n",
        "        carryOn = carryOn.upper()\n",
        "    return listOfStudents\n",
        "\n",
        "\n",
        "def displayResults(listOfStudents):\n",
        "    print(\"\\nNAME\\tGRADE\")\n",
        "    # Sort students by name.\n",
        "    listOfStudents.sort(key=lambda x: x.getName())\n",
        "    for pupil in listOfStudents:\n",
        "        print(pupil)\n",
        "\n",
        "\n",
        "main()"
      ]
    },
    {
      "cell_type": "code",
      "execution_count": null,
      "metadata": {
        "colab": {
          "base_uri": "https://localhost:8080/"
        },
        "id": "q14HlQIdHcHt",
        "outputId": "d674cdb1-5385-4a23-ff0d-db1b1566c35b"
      },
      "outputs": [],
      "source": [
        "def displayResults(listOfStudents):\n",
        "    print(\"\\nNAME\\tGRADE\")\n",
        "    numberOfLGstudents = 0\n",
        "    listOfStudents.sort(key=lambda x: x.getName())\n",
        "    for pupil in listOfStudents:\n",
        "        print(pupil)\n",
        "        # Keep track of number of letter-grade students.\n",
        "        if isinstance(pupil, LGstudent):\n",
        "            numberOfLGstudents += 1\n",
        "    # Display number of students in each category.\n",
        "    print(\"Number of letter-grade students:\", numberOfLGstudents)\n",
        "    print(\"Number of pass-fail students:\", len(listOfStudents) - numberOfLGstudents)\n",
        "\n",
        "\n",
        "main()"
      ]
    },
    {
      "cell_type": "markdown",
      "metadata": {
        "id": "McMsVb4Iq40K"
      },
      "source": [
        "## Adding New Instance Variables to a Subclass"
      ]
    },
    {
      "cell_type": "code",
      "execution_count": null,
      "metadata": {
        "id": "enDvASizGj4y"
      },
      "outputs": [],
      "source": [
        "class PFstudent(Student):\n",
        "    # A new Boolean parameter fullTime is added\n",
        "    def __init__(self, name=\"\", midterm=0, final=0, fullTime=True):\n",
        "        super().__init__(name, midterm, final)\n",
        "        self._fullTime = fullTime\n",
        "\n",
        "    def setFullTime(self, fullTime):\n",
        "        self._fullTime = fullTime\n",
        "\n",
        "    def getFullTime(self):\n",
        "        return self._fullTime\n",
        "\n",
        "    def calcSemGrade(self):\n",
        "        average = round((self._midterm + self._final) / 2)\n",
        "        if average >= 60:\n",
        "            return \"Pass\"\n",
        "        else:\n",
        "            return \"Fail\"\n",
        "\n",
        "    def __str__(self):\n",
        "        if self._fullTime:\n",
        "            status = \"Full-time student\"\n",
        "        else:\n",
        "            status = \"Part-time student\"\n",
        "        return self._name + \"\\t\" + self.calcSemGrade() + \"\\t\" + status"
      ]
    },
    {
      "cell_type": "code",
      "execution_count": null,
      "metadata": {
        "colab": {
          "base_uri": "https://localhost:8080/"
        },
        "id": "YWJHyp8PGIXS",
        "outputId": "f8f15a4e-bf51-4370-dfc3-b57228df2819"
      },
      "outputs": [],
      "source": [
        "def main():\n",
        "    ## Calculate and display a student's semester letter grade\n",
        "    ## and status. Obtain student's name, grade on midterm\n",
        "    ## exam, and grade on final.\n",
        "    name = input(\"Enter student's name: \")\n",
        "    midterm = float(input(\"Enter grade on midterm: \"))\n",
        "    final = float(input(\"Enter grade on final: \"))\n",
        "    category = input(\"Enter category (LG or PF): \")\n",
        "    if category.upper() == \"LG\":\n",
        "        st = LGstudent(name, midterm, final)\n",
        "    else:\n",
        "        question = input(\"Is \" + name + \" a full time student (Y/N)? \")\n",
        "        if question.upper() == \"Y\":\n",
        "            fullTime = True\n",
        "        else:\n",
        "            fullTime = False\n",
        "        st = PFstudent(name, midterm, final, fullTime)\n",
        "        # Display student's name, semester letter grade, and status.\n",
        "    print(\"\\nNAME\\tGRADE\\tSTATUS\")\n",
        "    print(st)\n",
        "\n",
        "\n",
        "main()"
      ]
    },
    {
      "cell_type": "markdown",
      "metadata": {
        "id": "trpfqkpuq8VX"
      },
      "source": [
        "## Overriding a Method"
      ]
    },
    {
      "cell_type": "code",
      "execution_count": null,
      "metadata": {
        "id": "jb13r8SPrnHQ"
      },
      "outputs": [],
      "source": [
        "class LGstudent:\n",
        "    def __init__(self, name=\"\", midterm=0, final=0):\n",
        "        self._name = name\n",
        "        self._midterm = midterm\n",
        "        self._final = final\n",
        "\n",
        "    def setName(self, name):\n",
        "        self._name = name\n",
        "\n",
        "    def setMidterm(self, midterm):\n",
        "        self._midterm = midterm\n",
        "\n",
        "    def setFinal(self, final):\n",
        "        self._final = final\n",
        "\n",
        "    def getName(self):\n",
        "        return self._name\n",
        "\n",
        "    def calcSemGrade(self):\n",
        "        average = round((self._midterm + self._final) / 2)\n",
        "        if average >= 90:\n",
        "            return \"A\"\n",
        "        elif average >= 80:\n",
        "            return \"B\"\n",
        "        elif average >= 70:\n",
        "            return \"C\"\n",
        "        elif average >= 60:\n",
        "            return \"D\"\n",
        "        else:\n",
        "            return \"F\"\n",
        "\n",
        "    def __str__(self):\n",
        "        return self._name + \"\\t\" + self.calcSemGrade()\n",
        "\n",
        "\n",
        "class PFstudent(LGstudent):\n",
        "    def calcSemGrade(self):\n",
        "        average = round((self._midterm + self._final) / 2)\n",
        "        if average >= 60:\n",
        "            return \"Pass\"\n",
        "        else:\n",
        "            return \"Fail\""
      ]
    },
    {
      "cell_type": "code",
      "execution_count": null,
      "metadata": {
        "colab": {
          "base_uri": "https://localhost:8080/"
        },
        "id": "Ldsc9TuDrA_B",
        "outputId": "5940256b-c293-4a9a-94a5-674f170a74fe"
      },
      "outputs": [],
      "source": [
        "def main():\n",
        "    # Students and grades\n",
        "    listOfStudents = obtainListOfStudents()\n",
        "    displayResults(listOfStudents)\n",
        "\n",
        "\n",
        "def obtainListOfStudents():\n",
        "    listOfStudents = []\n",
        "    carryOn = \"Y\" \n",
        "    while carryOn == \"Y\":\n",
        "        name = input(\"Enter student's name: \")\n",
        "        midterm = float(input(\"Enter grade on midterm: \"))\n",
        "        final = float(input(\"Enter grade on final: \"))\n",
        "        category = input(\"Enter category (LG or PF): \")\n",
        "        if category.upper() == \"LG\":\n",
        "            st = LGstudent(name, midterm, final)\n",
        "        else:\n",
        "            st = PFstudent(name, midterm, final)\n",
        "        listOfStudents.append(st)\n",
        "        carryOn = input(\"Do you want to continue (Y/N)? \")\n",
        "        carryOn = carryOn.upper()\n",
        "    return listOfStudents\n",
        "\n",
        "\n",
        "def displayResults(listOfStudents):\n",
        "    print(\"\\nNAME\\tGRADE\")\n",
        "    listOfStudents.sort(key=lambda x: x.getName())\n",
        "    for pupil in listOfStudents:\n",
        "        print(pupil)\n",
        "\n",
        "\n",
        "main()"
      ]
    },
    {
      "cell_type": "markdown",
      "metadata": {
        "id": "hto5wpofviTw"
      },
      "source": [
        "## Decorators  for Class"
      ]
    },
    {
      "cell_type": "code",
      "execution_count": null,
      "metadata": {
        "id": "uCVvfxGQvkr_"
      },
      "outputs": [],
      "source": [
        "# Immutable Object\n",
        "class PNUStudent:\n",
        "    def __init__(self, name, major):\n",
        "        self._name = name\n",
        "        self._major = major\n",
        "\n",
        "    @staticmethod\n",
        "    def university():\n",
        "        return \"Pusan National University\"\n",
        "\n",
        "    @property\n",
        "    def name(self):\n",
        "        return self._name\n",
        "\n",
        "    # Validating Input Values\n",
        "    # @name.setter\n",
        "    # def name(self, name):\n",
        "    #   self._name = name.upper();\n",
        "\n",
        "    @property\n",
        "    def major(self):\n",
        "        return self._major\n",
        "\n",
        "    # Validating Input Values\n",
        "    # @major.setter\n",
        "    # def major(self, major):\n",
        "    #   self._major = major.upper()\n",
        "\n",
        "    def __str__(self):\n",
        "        return f\"name: {self._name}, major: {self._major}\"\n",
        "\n",
        "\n",
        "print(PNUStudent.university())\n",
        "\n",
        "ps = PNUStudent(\"Kim\", \"CS\")\n",
        "print(ps.university())\n",
        "print(ps.__dict__.keys())\n",
        "print(ps.name)\n",
        "print(ps.major)\n",
        "\n",
        "# the leading underscore (_) in names\n",
        "# non-public attributes and shouldn’t be accessed using dot notation\n",
        "ps._name = \"hello\"\n",
        "ps._major = \"math\"\n",
        "print(str(ps))\n",
        "\n",
        "ps.name = \"hello\"\n",
        "ps.major = \"math\""
      ]
    },
    {
      "cell_type": "code",
      "execution_count": null,
      "metadata": {
        "colab": {
          "base_uri": "https://localhost:8080/",
          "height": 35
        },
        "id": "EmIFfddQv4g_",
        "outputId": "442848e4-7783-4d31-9f86-a660e6c971b5"
      },
      "outputs": [],
      "source": [
        "PNUStudent.university()"
      ]
    },
    {
      "cell_type": "code",
      "execution_count": null,
      "metadata": {
        "colab": {
          "base_uri": "https://localhost:8080/"
        },
        "id": "_2GcAV3a2oMR",
        "outputId": "0917073f-2437-465d-8e6e-31c199790aea"
      },
      "outputs": [],
      "source": [
        "# some student\n",
        "class PNUStudent:\n",
        "    def __init__(self, name, major):\n",
        "        self.__name = name\n",
        "        self.__major = major\n",
        "\n",
        "    def __str__(self):\n",
        "        return f\"name: {self.__name}, major: {self.__major}\"\n",
        "\n",
        "\n",
        "ps = PNUStudent(\"Kim\", \"CS\")\n",
        "print(ps.__dict__.keys())\n",
        "# print(ps.__name)\n",
        "# print(ps.__major)\n",
        "\n",
        "ps.__name = \"hello\"  # ??\n",
        "ps.__major = \"math\"  # ??\n",
        "\n",
        "print(ps.__dict__.keys())\n",
        "print(str(ps))"
      ]
    },
    {
      "cell_type": "markdown",
      "metadata": {
        "id": "Q8GmLMjqs3Ek"
      },
      "source": [
        "# Lab"
      ]
    },
    {
      "cell_type": "markdown",
      "metadata": {
        "id": "54qkT3IJgKXc"
      },
      "source": [
        "## 1. Write a class Number with a method is_even_or_odd() that takes an integer as input (provided when an instance is created) and determines whether it's even or odd."
      ]
    },
    {
      "cell_type": "code",
      "execution_count": null,
      "metadata": {
        "id": "yTwTp_hfgKXd"
      },
      "outputs": [],
      "source": [
        "class Number:\n",
        "    pass"
      ]
    },
    {
      "cell_type": "code",
      "execution_count": null,
      "metadata": {
        "id": "AopfhDbwfEK-"
      },
      "outputs": [],
      "source": [
        "input_data_even_odd = [5, 2, -3, -4, 0]\n",
        "output_data_even_odd = [\"Odd\", \"Even\", \"Odd\", \"Even\", \"Even\"]\n",
        "\n",
        "for i, o in zip(input_data_even_odd, output_data_even_odd):\n",
        "    num = Number(i)\n",
        "    result = num.is_even_or_odd()\n",
        "    assert result == o"
      ]
    },
    {
      "cell_type": "markdown",
      "metadata": {
        "id": "mGbPfQJEc5pl"
      },
      "source": [
        "## 2. Add largest_of_three() method to the Number class that takes three numbers as input (provided when instances are created) and determines the largest of the three."
      ]
    },
    {
      "cell_type": "code",
      "execution_count": null,
      "metadata": {
        "id": "mGAC-9rSc7Qd"
      },
      "outputs": [],
      "source": [
        "class Number:\n",
        "    pass"
      ]
    },
    {
      "cell_type": "code",
      "execution_count": null,
      "metadata": {
        "id": "p3T2cNTyh_c5"
      },
      "outputs": [],
      "source": [
        "input_data_even_odd = [5, 2, -3, -4, 0]\n",
        "output_data_even_odd = [\"Odd\", \"Even\", \"Odd\", \"Even\", \"Even\"]\n",
        "\n",
        "for i, o in zip(input_data_even_odd, output_data_even_odd):\n",
        "    num = Number(i)\n",
        "    result = num.is_even_or_odd()\n",
        "    assert result == o\n",
        "\n",
        "input_data_largest_of_three = [(2, 4, 1), (1, 1, 1), (2, 2, 5), (-1, 0, -2)]\n",
        "output_data_largest_of_three = [4, 1, 5, 0]\n",
        "\n",
        "for i, o in zip(input_data_largest_of_three, output_data_largest_of_three):\n",
        "    num = Number(*i)\n",
        "    result = num.largest_of_three()\n",
        "    assert result == o"
      ]
    },
    {
      "cell_type": "markdown",
      "metadata": {
        "id": "INqFk2K5c7ks"
      },
      "source": [
        "## 3. Create a subclass SpecialNumber that inherits from the Number class and adds a method is_multiple_of_3_and_5() to determine if the given number is a multiple of both 3 and 5.\n",
        "\n"
      ]
    },
    {
      "cell_type": "code",
      "execution_count": null,
      "metadata": {
        "id": "B2c46qWfc8z0"
      },
      "outputs": [],
      "source": [
        "class SpecialNumber(Number):\n",
        "    pass"
      ]
    },
    {
      "cell_type": "code",
      "execution_count": null,
      "metadata": {
        "id": "ht0-VlpeiAaE"
      },
      "outputs": [],
      "source": [
        "input_data_even_odd = [5, 2, -3, -4, 0]\n",
        "output_data_even_odd = [\"Odd\", \"Even\", \"Odd\", \"Even\", \"Even\"]\n",
        "\n",
        "for i, o in zip(input_data_even_odd, output_data_even_odd):\n",
        "    num = SpecialNumber(i)\n",
        "    result = num.is_even_or_odd()\n",
        "    assert result == o\n",
        "\n",
        "input_data_largest_of_three = [(2, 4, 1), (1, 1, 1), (2, 2, 5), (-1, 0, -2)]\n",
        "output_data_largest_of_three = [4, 1, 5, 0]\n",
        "\n",
        "for i, o in zip(input_data_largest_of_three, output_data_largest_of_three):\n",
        "    num = Number(*i)\n",
        "    result = num.largest_of_three()\n",
        "    assert result == o\n",
        "\n",
        "input_data_multiple_3_5 = [15, 3, 5, 30, 0, -15]\n",
        "output_data_multiple_3_5 = [True, False, False, True, True, True]\n",
        "\n",
        "for i, o in zip(input_data_multiple_3_5, output_data_multiple_3_5):\n",
        "    num = SpecialNumber(i)\n",
        "    result = num.is_multiple_of_3_and_5()\n",
        "    assert result == o"
      ]
    },
    {
      "cell_type": "markdown",
      "metadata": {
        "id": "jAEoPcBXc9kM"
      },
      "source": [
        "## 4. Write a static method is_pythagorean_triple() in a class MathUtils that takes three numbers as input, uses a private method __is_valid() to check if the side lengths are valid, and determines whether they form a Pythagorean triple.\n",
        "\n",
        "> A Pythagorean triple consists of three positive integers a, b, and c such that:\n",
        "$$ a^2 + b^2 = c^2, (0 < a \\leq b \\leq c \\leq N) $$\n"
      ]
    },
    {
      "cell_type": "code",
      "execution_count": null,
      "metadata": {
        "id": "nJN7nZ1Nc-ad"
      },
      "outputs": [],
      "source": [
        "class MathUtils:\n",
        "    pass"
      ]
    },
    {
      "cell_type": "code",
      "execution_count": null,
      "metadata": {
        "id": "40DTZh8NYE6X"
      },
      "outputs": [],
      "source": [
        "input_data_pythagorean_triple = [\n",
        "    (3, 4, 5),\n",
        "    (5, 12, 13),\n",
        "    (6, 8, 10),\n",
        "    (7, 24, 25),\n",
        "    (2, 3, 4),\n",
        "    (0, 4, 4),\n",
        "]\n",
        "output_data_pythagorean_triple = [True, True, True, True, False, False]\n",
        "\n",
        "for input_values, output_value in zip(\n",
        "    input_data_pythagorean_triple, output_data_pythagorean_triple\n",
        "):\n",
        "    result = MathUtils.is_pythagorean_triple(*input_values)\n",
        "    assert result == output_value\n",
        "\n",
        "for input_values, output_value in zip(\n",
        "    input_data_pythagorean_triple, output_data_pythagorean_triple\n",
        "):\n",
        "    math_utils = MathUtils()\n",
        "    result = math_utils.is_pythagorean_triple_instance(*input_values)\n",
        "    assert result == output_value"
      ]
    },
    {
      "cell_type": "markdown",
      "metadata": {
        "id": "EkRNBCyLctUY"
      },
      "source": [
        "## 5. Write a class Person with a method calculate_bmi() that takes the weight (in kg) and height (in meters) as input when an instance is created. The method should calculate the BMI based on the formula and return the BMI category. Additionally, the method should validate the input (weight and height) to ensure both are positive values before performing the BMI calculation. If the input is invalid, return an appropriate error message.\n",
        "\n",
        "### Class Methods\n",
        "\n",
        "* def __is_valid(self) -> bool:\n",
        "\n",
        "* def calculate_bmi(self) -> str:\n",
        "\n",
        "### BMI calculation formula:\n",
        "\n",
        "BMI = weight(kg) / (height(m)²)\n",
        "\n",
        "\n",
        "### Output:\n",
        "\n",
        "* BMI < 18.5: Underweight\n",
        "\n",
        "* 18.5 <= BMI < 25.0: Normal weight\n",
        "\n",
        "* 25.0 <= BMI: Overweight\n",
        "\n",
        "\n",
        "### Validity Check:\n",
        "\n",
        "* The weight and height must be positive numbers.\n",
        "\n",
        "* If either the weight or height is non-positive, return \"Invalid input: Weight and height must be positive.\"\n",
        "\n",
        "\n",
        "\n"
      ]
    },
    {
      "cell_type": "code",
      "execution_count": null,
      "metadata": {
        "id": "yujQNQOgZKnI"
      },
      "outputs": [],
      "source": [
        "class Person:\n",
        "    pass"
      ]
    },
    {
      "cell_type": "code",
      "execution_count": null,
      "metadata": {
        "id": "BxdeHEF_cB3C"
      },
      "outputs": [],
      "source": [
        "input_data_bmi_calculator = [\n",
        "    (60, 1.7),\n",
        "    (45, 1.6),\n",
        "    (85, 1.8),\n",
        "    (100, 2),\n",
        "    (40, 1.5),\n",
        "    (60, 0),\n",
        "]\n",
        "output_data_bmi_calculator = [\n",
        "    \"Normal weight\",\n",
        "    \"Underweight\",\n",
        "    \"Overweight\",\n",
        "    \"Overweight\",\n",
        "    \"Underweight\",\n",
        "    \"Invalid input\",\n",
        "]\n",
        "\n",
        "for input_values, output_value in zip(\n",
        "    input_data_bmi_calculator, output_data_bmi_calculator\n",
        "):\n",
        "    person = Person(*input_values)\n",
        "    result = person.calculate_bmi()\n",
        "    assert result == output_value"
      ]
    },
    {
      "cell_type": "markdown",
      "metadata": {
        "id": "tdJa-fe6Lu_N"
      },
      "source": [
        "## 6. Implement a String class that solves the problems of checking if a string is a palindrome and if two strings are anagrams using two helper classes: Palandium and Anagrams. The String class should make use of these two helper classes to check for palindromes and anagrams.\n",
        "\n",
        "#### Palandium\n",
        "\n",
        "> Two strings are considered Palandiums if they both contain the same characters in reverse order. In other words, a string is a Palandium of another string if one is the reverse of the other. For example, \"level\" is Palandiums, but \"hello\" is not.\n",
        "\n",
        "#### Anagram\n",
        "> An anagram is a word or phrase that is formed by rearranging the letters of another word or phrase. In an anagram:\n",
        "\n",
        "> * All the letters from the original word must be used exactly once.\n",
        "\n",
        "> * The order of the letters in the resulting word doesn't matter, but the frequency of each letter must match."
      ]
    },
    {
      "cell_type": "code",
      "execution_count": null,
      "metadata": {
        "id": "mdV5_-bzb2RH"
      },
      "outputs": [],
      "source": [
        "class Palandium:\n",
        "    pass\n",
        "\n",
        "\n",
        "class Anagrams:\n",
        "    pass\n",
        "\n",
        "\n",
        "class String:\n",
        "    def __init__(self, s1: str, s2: str = None):\n",
        "        pass\n",
        "\n",
        "    def is_palindrome(self) -> bool:\n",
        "        pass\n",
        "\n",
        "    def are_anagrams(self) -> bool:\n",
        "        pass"
      ]
    },
    {
      "cell_type": "code",
      "execution_count": null,
      "metadata": {
        "id": "4CuQ-rftL-3y"
      },
      "outputs": [],
      "source": [
        "input_data_palindrome_checker = [\n",
        "    \"racecar\",\n",
        "    \"madam\",\n",
        "    \"hello\",\n",
        "    \"level\",\n",
        "    \"world\",\n",
        "    \"noon\",\n",
        "    \"python\",\n",
        "]\n",
        "output_data_palindrome_checker = [True, True, False, True, False, True, False]\n",
        "for input_value, output_value in zip(\n",
        "    input_data_palindrome_checker, output_data_palindrome_checker\n",
        "):\n",
        "    string_obj = String(input_value)\n",
        "    result = string_obj.is_palindrome()\n",
        "    assert result == output_value\n",
        "\n",
        "input_data_anagram_checker = [\n",
        "    (\"bored\", \"robed\"),\n",
        "    (\"listen\", \"silent\"),\n",
        "    (\"anagram\", \"nagaram\"),\n",
        "    (\"hello\", \"world\"),\n",
        "    (\"apple\", \"leppa\"),\n",
        "    (\"night\", \"thing\"),\n",
        "    (\"abc\", \"def\"),\n",
        "]\n",
        "output_data_anagram_checker = [True, True, True, False, True, True, False]\n",
        "\n",
        "for input_values, output_value in zip(\n",
        "    input_data_anagram_checker, output_data_anagram_checker\n",
        "):\n",
        "    string_obj = String(*input_values)\n",
        "    result = string_obj.are_anagrams()\n",
        "    assert result == output_value"
      ]
    },
    {
      "cell_type": "markdown",
      "metadata": {
        "id": "mPv8F8IDdsNB"
      },
      "source": [
        "## 8. Implement the pattern generation using three classes: Pattern, Line, and Glyph. Each class should have a well-defined responsibility, as outlined below.\n",
        "\n",
        "### Class Responsibilities\n",
        "\n",
        "#### Glyph: Represents a single character ('*' or space) in the pattern.\n",
        "\n",
        "> Methods:\n",
        "\n",
        "* __init__(self, symbol: str): Initializes the Glyph object with the symbol passed to it (either a space or a '*').\n",
        "\n",
        "* __str__(self) -> str: Returns the string representation of the glyph, which is the symbol itself.\n",
        "\n",
        "\n",
        "#### Line: Represents a single line of the pattern made up of multiple Glyph objects.\n",
        "\n",
        "> Methods:\n",
        "\n",
        "* __init__(self, stars: int, spaces: int): Initializes the Line object with the given number of stars and spaces. It creates a list of Glyph objects for both spaces and stars.\n",
        "\n",
        "* __str__(self) -> str: Returns the string representation of the entire line, consisting of spaces followed by stars.\n",
        "\n",
        "\n",
        "#### Pattern: Represents the full pattern, responsible for generating and printing multiple Line objects based on the input size.\n",
        "\n",
        "> Methods:\n",
        "\n",
        "* __init__(self, n: int): Initializes the Pattern object with the number of rows in the pattern.\n",
        "\n",
        "* gen_pattern(self) -> str: Generates the entire pattern by creating Line objects for each row. Returns a string representation of the full pattern.\n",
        "\n",
        "\n",
        "### Input/Output Example\n",
        "\n",
        "n = 5\n",
        "```\n",
        "*****\n",
        " ****\n",
        "  ***\n",
        "   **\n",
        "    *\n",
        "```"
      ]
    },
    {
      "cell_type": "code",
      "execution_count": null,
      "metadata": {
        "id": "HXATMsvJfr1f"
      },
      "outputs": [],
      "source": [
        "class Glyph:\n",
        "    pass\n",
        "\n",
        "\n",
        "class Line:\n",
        "    pass\n",
        "\n",
        "\n",
        "class Pattern:\n",
        "    pass"
      ]
    },
    {
      "cell_type": "code",
      "execution_count": null,
      "metadata": {
        "id": "tXDgAKGadyDx"
      },
      "outputs": [],
      "source": [
        "input_data_gen_pattern = [5, 3, 6, 1]\n",
        "output_data_gen_pattern = [\n",
        "    \"*****\\n ****\\n  ***\\n   **\\n    *\",\n",
        "    \"***\\n **\\n  *\",\n",
        "    \"******\\n *****\\n  ****\\n   ***\\n    **\\n     *\",\n",
        "    \"*\",\n",
        "]\n",
        "\n",
        "for input_value, output_value in zip(input_data_gen_pattern, output_data_gen_pattern):\n",
        "    pattern = Pattern(input_value)\n",
        "    result = pattern.gen_pattern()\n",
        "    assert result == output_value"
      ]
    },
    {
      "cell_type": "markdown",
      "metadata": {
        "id": "3azxgPdlgwVU"
      },
      "source": [
        "## 9. Write a class TextAnalyzer with a method word_frequency() that reads a text file (provided when an instance is created) and returns the frequency of each word present in the file. The words should be converted to lowercase, and punctuation marks should be ignored. Handle file not found exceptions appropriately.\n",
        "\n",
        "### File Url\n",
        "\n",
        "* [alice_in_wonderland.txt](https://gist.github.com/phillipj/4944029)\n",
        "\n",
        "* missing.txt - The file does not exist.\n",
        "\n",
        "* [expected_result.pkl](https://pusanackr-my.sharepoint.com/:u:/g/personal/tykim_pusan_ac_kr/EVLfSbS2oD1MiNUggJ1DuhsBHbBHrrJWh1PtG1QFU-6O6A?e=cKgjPC)\n",
        "\n",
        "* [missing_output.pkl](https://pusanackr-my.sharepoint.com/:u:/g/personal/tykim_pusan_ac_kr/EbrVk4AScgNDj8m9LWOuOgcBIbNb0JW5I7ND9f7CL9njkA?e=DHZrwg)\n",
        "\n",
        "\n",
        "\n"
      ]
    },
    {
      "cell_type": "code",
      "execution_count": null,
      "metadata": {
        "id": "4OXPr0YxXJwx"
      },
      "outputs": [],
      "source": [
        "class TextAnalyzer:\n",
        "    def __init__(self, file_path: str):\n",
        "        pass\n",
        "\n",
        "    def word_frequency(self) -> dict:\n",
        "        pass"
      ]
    },
    {
      "cell_type": "code",
      "execution_count": null,
      "metadata": {
        "id": "trMw_2Fdh97P"
      },
      "outputs": [],
      "source": [
        "import pickle\n",
        "\n",
        "input_file_path = \"alice_in_wonderland.txt\"\n",
        "expected_result_file = \"expected_result.pkl\"\n",
        "\n",
        "analyzer = TextAnalyzer(input_file_path)\n",
        "result = analyzer.word_frequency()\n",
        "\n",
        "expected_result = read_expected_result(expected_result_file)\n",
        "sorted_result = sorted(result.items(), key=lambda x: (-x[1], x[0]))\n",
        "assert sorted_result == expected_result\n",
        "\n",
        "\n",
        "missing_file_path = \"missing.txt\"\n",
        "expected_result_file = \"missing_output.pkl\"\n",
        "analyzer = TextAnalyzer(missing_file_path)\n",
        "\n",
        "expected_result = read_expected_result(expected_result_file)\n",
        "output = analyzer.word_frequency()\n",
        "\n",
        "assert output == expected_result"
      ]
    },
    {
      "cell_type": "code",
      "execution_count": null,
      "metadata": {
        "colab": {
          "base_uri": "https://localhost:8080/"
        },
        "id": "eH5-xC6ZjEvZ",
        "outputId": "304352cf-d03c-466f-e5fe-366ae5e4d893"
      },
      "outputs": [],
      "source": [
        "input_file_path = \"alice_in_wonderland.txt\"\n",
        "analyzer = TextAnalyzer(input_file_path)\n",
        "expected_result = analyzer.word_frequency()\n",
        "sorted_result = sorted(expected_result.items(), key=lambda x: (-x[1], x[0]))\n",
        "print(sorted_result)"
      ]
    },
    {
      "cell_type": "code",
      "execution_count": null,
      "metadata": {
        "colab": {
          "base_uri": "https://localhost:8080/"
        },
        "id": "M7My2CLfecPY",
        "outputId": "717a73f6-c01d-49a9-bc2f-1dde8fb9ff5b"
      },
      "outputs": [],
      "source": [
        "missing_file_path = \"missing.txt\"\n",
        "analyzer = TextAnalyzer(missing_file_path)\n",
        "missing_output = analyzer.word_frequency()\n",
        "print(missing_output)"
      ]
    },
    {
      "cell_type": "code",
      "execution_count": null,
      "metadata": {
        "id": "Z4yO7uLWjnLj"
      },
      "outputs": [],
      "source": [
        "def read_expected_result(expected_result_file):\n",
        "    try:\n",
        "        with open(expected_result_file, \"rb\") as f:\n",
        "            expected_result = pickle.load(f)\n",
        "    except FileNotFoundError:\n",
        "        print(\"Expected result file not found.\")\n",
        "        expected_result = None\n",
        "    finally:\n",
        "        return expected_result"
      ]
    },
    {
      "cell_type": "code",
      "execution_count": null,
      "metadata": {
        "id": "PC1D63wHi_XR"
      },
      "outputs": [],
      "source": [
        "import pickle\n",
        "\n",
        "\n",
        "def write_result(output_file, result):\n",
        "    with open(output_file, \"wb\") as f:\n",
        "        pickle.dump(result, f)\n",
        "\n",
        "\n",
        "output_file = \"missing_output.pkl\"\n",
        "write_result(output_file, missing_output)"
      ]
    },
    {
      "cell_type": "markdown",
      "metadata": {
        "id": "LtGlz5V2Nhmw"
      },
      "source": [
        "## 10. Write a class FileProcessor that processes numerical data from a file and provides methods to calculate basic statistics such as sum, average, minimum, maximum, and median.\n",
        "\n",
        "### File Url\n",
        "\n",
        "* [Numbers.txt](https://pusanackr-my.sharepoint.com/:t:/g/personal/tykim_pusan_ac_kr/EeQ5xlwX2fdHgL27RN2LLHwBN63unsJQnyiUmr1c3dOZdQ?e=hGmNkM)\n",
        "\n",
        "* [EmptyFile.txt](https://pusanackr-my.sharepoint.com/:t:/g/personal/tykim_pusan_ac_kr/EYQQFS6Qe6VEh6XdQZns8jwBG79f-Gn0A_L4ZqolHQtYNw?e=Rpwg6R)\n",
        "\n",
        "* InvalidFile.txt - The file does not exist.\n",
        "\n",
        "\n",
        "### Class and Methods\n",
        "\n",
        "* constructor (file_name): Initializes the class with the provided file name and sets up an empty list data that will store the numbers read from the file.\n",
        "\n",
        "* __read_file(): Reads the file and stores the numerical data from each line into the data list.\n",
        "\n",
        "> * If the file cannot be found, it raises a FileNotFoundError.\n",
        "> * If a line in the file cannot be converted to a number, it raises a ValueError.\n",
        "\n",
        "* calc_sum() -> float: Reads the file (if not already read), calculates, and returns the sum of the numbers in the file.\n",
        "\n",
        "> * If the file is not found or contains invalid data, it raises an appropriate exception.\n",
        "\n",
        "* calc_average() -> float: Uses calc_sum() to calculate the sum and returns the average of the numbers in the file.\n",
        "\n",
        "> * If the file is empty, it raises a ZeroDivisionError.\n",
        "> * If the file is not found or contains invalid data, it raises an appropriate exception.\n",
        "\n",
        "* calc_min() -> float: Returns the minimum number in the file.\n",
        "\n",
        "> * If the file is empty, it raises a ValueError.\n",
        "> * If the file is not found or contains invalid data, it raises an appropriate exception.\n",
        "\n",
        "* calc_max() -> float: Returns the maximum number in the file.\n",
        "\n",
        "> * If the file is empty, it raises a ValueError.\n",
        "> * If the file is not found or contains invalid data, it raises an appropriate exception.\n",
        "\n",
        "* calc_median() -> float: Returns the median of the numbers in the file.\n",
        "\n",
        "> * If the file is empty, it raises a ValueError.\n",
        "> * If the file is not found or contains invalid data, it raises an appropriate exception.\n",
        "\n",
        "### Error Handling\n",
        "\n",
        "The class should handle potential errors such as file not found or invalid data in the file by raising appropriate exceptions.\n",
        "\n",
        "* FileNotFoundError: Raised when the file does not exist.\n",
        "* ValueError: Raised when a line in the file cannot be converted to a float or when an empty file is provided for min, max, or median operations.\n",
        "* ZeroDivisionError: Raised when the file is empty and there is no data to calculate the average.\n",
        "\n"
      ]
    },
    {
      "cell_type": "code",
      "execution_count": null,
      "metadata": {
        "id": "2UAF4rYtNqtF"
      },
      "outputs": [],
      "source": [
        "class FileProcessor:\n",
        "    def __init__(self, file_name: str):\n",
        "        self.file_name = file_name\n",
        "        self.data = []\n",
        "\n",
        "    def _read_file(self):\n",
        "        try:\n",
        "            with open(self.file_name, \"r\") as infile:\n",
        "                self.data = [float(line.strip()) for line in infile if line.strip()]\n",
        "        except FileNotFoundError:\n",
        "            raise FileNotFoundError(f\"File '{self.file_name}' not found.\")\n",
        "        except ValueError as e:\n",
        "            raise ValueError(\n",
        "                f\"Error converting a line to float in '{self.file_name}': {e}\"\n",
        "            )\n",
        "\n",
        "    def calc_sum(self) -> float:\n",
        "        if not self.data:\n",
        "            self._read_file()\n",
        "        return round(sum(self.data), 1)\n",
        "\n",
        "    def calc_average(self) -> float:\n",
        "        if not self.data:\n",
        "            self._read_file()\n",
        "        if len(self.data) == 0:\n",
        "            raise ZeroDivisionError(\"No data available to calculate average.\")\n",
        "        return round(sum(self.data) / len(self.data), 1)\n",
        "\n",
        "    def calc_min(self) -> float:\n",
        "        if not self.data:\n",
        "            self._read_file()\n",
        "        if len(self.data) == 0:\n",
        "            raise ValueError(\"No data available to calculate minimum.\")\n",
        "        return round(min(self.data), 1)\n",
        "\n",
        "    def calc_max(self) -> float:\n",
        "        if not self.data:\n",
        "            self._read_file()\n",
        "        if len(self.data) == 0:\n",
        "            raise ValueError(\"No data available to calculate maximum.\")\n",
        "        return round(max(self.data), 1)\n",
        "\n",
        "    def calc_median(self) -> float:\n",
        "        if not self.data:\n",
        "            self._read_file()\n",
        "        if len(self.data) == 0:\n",
        "            raise ValueError(\"No data available to calculate median.\")\n",
        "\n",
        "        sorted_data = sorted(self.data)\n",
        "        mid = len(sorted_data) // 2\n",
        "        if len(sorted_data) % 2 == 0:\n",
        "            return round((sorted_data[mid - 1] + sorted_data[mid]) / 2, 1)\n",
        "        else:\n",
        "            return round(sorted_data[mid], 1)"
      ]
    },
    {
      "cell_type": "code",
      "execution_count": null,
      "metadata": {
        "id": "8HB7gKAQOZs4"
      },
      "outputs": [],
      "source": [
        "input_files = [\"./Numbers.txt\", \"./EmptyFile.txt\", \"./InvalidFile.txt\"]\n",
        "expected_sums = [23759.0, None, None]\n",
        "expected_averages = [475.2, None, None]\n",
        "expected_mins = [33.0, None, None]\n",
        "expected_maxs = [948.0, None, None]\n",
        "expected_medians = [442.5, None, None]\n",
        "\n",
        "failed_tests = []\n",
        "\n",
        "for (\n",
        "    file,\n",
        "    expected_sum,\n",
        "    expected_avg,\n",
        "    expected_min,\n",
        "    expected_max,\n",
        "    expected_median,\n",
        ") in zip(\n",
        "    input_files,\n",
        "    expected_sums,\n",
        "    expected_averages,\n",
        "    expected_mins,\n",
        "    expected_maxs,\n",
        "    expected_medians,\n",
        "):\n",
        "    processor = FileProcessor(file)\n",
        "\n",
        "    try:\n",
        "        result_sum = processor.calc_sum()\n",
        "        if expected_sum is not None:\n",
        "            assert round(result_sum, 1) == round(expected_sum, 1)\n",
        "    except (FileNotFoundError, ValueError, ZeroDivisionError) as e:\n",
        "        if expected_sum is None:\n",
        "            pass\n",
        "        else:\n",
        "            failed_tests.append(f\"Sum test failed for {file}: {e}\")\n",
        "\n",
        "    try:\n",
        "        result_avg = processor.calc_average()\n",
        "        if expected_avg is not None:\n",
        "            assert round(result_avg, 1) == round(expected_avg, 1)\n",
        "    except (FileNotFoundError, ValueError, ZeroDivisionError) as e:\n",
        "        if expected_avg is None:\n",
        "            pass\n",
        "        else:\n",
        "            failed_tests.append(f\"Average test failed for {file}: {e}\")\n",
        "\n",
        "    try:\n",
        "        result_min = processor.calc_min()\n",
        "        if expected_min is not None:\n",
        "            assert round(result_min, 1) == round(expected_min, 1)\n",
        "    except (FileNotFoundError, ValueError) as e:\n",
        "        if expected_min is None:\n",
        "            pass\n",
        "        else:\n",
        "            failed_tests.append(f\"Min test failed for {file}: {e}\")\n",
        "\n",
        "    try:\n",
        "        result_max = processor.calc_max()\n",
        "        if expected_max is not None:\n",
        "            assert round(result_max, 1) == round(expected_max, 1)\n",
        "    except (FileNotFoundError, ValueError) as e:\n",
        "        if expected_max is None:\n",
        "            pass\n",
        "        else:\n",
        "            failed_tests.append(f\"Max test failed for {file}: {e}\")\n",
        "\n",
        "    try:\n",
        "        result_median = processor.calc_median()\n",
        "        if expected_median is not None:\n",
        "            assert round(result_median, 1) == round(expected_median, 1)\n",
        "    except (FileNotFoundError, ValueError) as e:\n",
        "        if expected_median is None:\n",
        "            pass\n",
        "        else:\n",
        "            failed_tests.append(f\"Median test failed for {file}: {e}\")\n",
        "\n",
        "if failed_tests:\n",
        "    for test in failed_tests:\n",
        "        print(test)"
      ]
    },
    {
      "cell_type": "code",
      "execution_count": null,
      "metadata": {
        "id": "SHEybEtWQa8C"
      },
      "outputs": [],
      "source": [
        "import random\n",
        "\n",
        "random_numbers = random.sample(range(1, 1001), 50)\n",
        "file_path = \"./Numbers.txt\"\n",
        "\n",
        "with open(file_path, \"w\") as file:\n",
        "    for number in random_numbers:\n",
        "        file.write(f\"{number}\\n\")"
      ]
    },
    {
      "cell_type": "code",
      "execution_count": null,
      "metadata": {
        "id": "vEIO8Cm5S4jG"
      },
      "outputs": [],
      "source": []
    }
  ],
  "metadata": {
    "colab": {
      "provenance": [],
      "toc_visible": true
    },
    "kernelspec": {
      "display_name": "Python 3",
      "name": "python3"
    },
    "language_info": {
      "name": "python",
      "version": "3.11.10"
    }
  },
  "nbformat": 4,
  "nbformat_minor": 0
}
