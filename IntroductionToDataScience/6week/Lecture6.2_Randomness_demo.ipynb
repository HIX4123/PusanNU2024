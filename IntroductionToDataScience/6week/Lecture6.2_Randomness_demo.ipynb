{
  "cells": [
    {
      "cell_type": "code",
      "execution_count": 92,
      "metadata": {
        "id": "dWiw7lAHlK2H"
      },
      "outputs": [],
      "source": [
        "import pandas as pd\n",
        "import numpy as np"
      ]
    },
    {
      "cell_type": "code",
      "execution_count": 93,
      "metadata": {
        "colab": {
          "base_uri": "https://localhost:8080/"
        },
        "id": "MdIIAaJ5lQ-y",
        "outputId": "ed617432-8d9e-43e4-a394-9f829b96f254"
      },
      "outputs": [
        {
          "data": {
            "text/plain": [
              "array([ True, False,  True, False, False])"
            ]
          },
          "execution_count": 93,
          "metadata": {},
          "output_type": "execute_result"
        }
      ],
      "source": [
        "tosses = np.array(['Tails', 'Heads', 'Tails', 'Heads', 'Heads'])\n",
        "tosses == 'Tails'"
      ]
    },
    {
      "cell_type": "code",
      "execution_count": 94,
      "metadata": {
        "colab": {
          "base_uri": "https://localhost:8080/"
        },
        "id": "sR6xxsXWmTk3",
        "outputId": "63295d92-b9b5-4b2e-d052-ca6cb685098b"
      },
      "outputs": [
        {
          "data": {
            "text/plain": [
              "2"
            ]
          },
          "execution_count": 94,
          "metadata": {},
          "output_type": "execute_result"
        }
      ],
      "source": [
        "np.count_nonzero(tosses == 'Tails')"
      ]
    },
    {
      "cell_type": "code",
      "execution_count": 95,
      "metadata": {
        "colab": {
          "base_uri": "https://localhost:8080/"
        },
        "id": "F8i2EEcSmnMd",
        "outputId": "a4b3e1a8-8681-49ad-b6a4-47064250f20c"
      },
      "outputs": [
        {
          "data": {
            "text/plain": [
              "2"
            ]
          },
          "execution_count": 95,
          "metadata": {},
          "output_type": "execute_result"
        }
      ],
      "source": [
        "sum(tosses == 'Tails')"
      ]
    },
    {
      "cell_type": "code",
      "execution_count": 96,
      "metadata": {
        "colab": {
          "base_uri": "https://localhost:8080/",
          "height": 35
        },
        "id": "innYrFo9qsP3",
        "outputId": "5fa1ac44-bd79-4fc4-bd56-6181fc49fda3"
      },
      "outputs": [
        {
          "data": {
            "text/plain": [
              "'control'"
            ]
          },
          "execution_count": 96,
          "metadata": {},
          "output_type": "execute_result"
        }
      ],
      "source": [
        "two_groups = np.array(['treatment', 'control'])\n",
        "np.random.choice(two_groups)"
      ]
    },
    {
      "cell_type": "code",
      "execution_count": 97,
      "metadata": {
        "colab": {
          "base_uri": "https://localhost:8080/"
        },
        "id": "qLCK7e43s1xd",
        "outputId": "1aa808a6-9b94-43ec-b377-091c3adaeb4e"
      },
      "outputs": [
        {
          "data": {
            "text/plain": [
              "array(['control', 'control', 'control', 'treatment', 'control', 'control',\n",
              "       'treatment', 'treatment', 'treatment', 'control'], dtype='<U9')"
            ]
          },
          "execution_count": 97,
          "metadata": {},
          "output_type": "execute_result"
        }
      ],
      "source": [
        "np.random.choice(two_groups, 10)"
      ]
    },
    {
      "cell_type": "code",
      "execution_count": 98,
      "metadata": {
        "id": "DylkJSPJuE2M"
      },
      "outputs": [],
      "source": [
        "def one_bet(x):\n",
        "    \"\"\"Returns my net gain if the die shows x spots\"\"\"\n",
        "    if x <= 2:\n",
        "        return -1\n",
        "    elif x <= 4:\n",
        "        return 0\n",
        "    elif x <= 6:\n",
        "        return 1"
      ]
    },
    {
      "cell_type": "code",
      "execution_count": 99,
      "metadata": {
        "colab": {
          "base_uri": "https://localhost:8080/"
        },
        "id": "zX0IxH5Nu2Dr",
        "outputId": "ea8af2c3-783d-4696-c831-57da3a9e10c1"
      },
      "outputs": [
        {
          "data": {
            "text/plain": [
              "2"
            ]
          },
          "execution_count": 99,
          "metadata": {},
          "output_type": "execute_result"
        }
      ],
      "source": [
        "np.random.choice(np.arange(1, 7))"
      ]
    },
    {
      "cell_type": "code",
      "execution_count": 100,
      "metadata": {
        "colab": {
          "base_uri": "https://localhost:8080/"
        },
        "id": "V3qwpB8Ku_hc",
        "outputId": "cb927a49-75dc-4cde-8015-96e71de7f018"
      },
      "outputs": [
        {
          "data": {
            "text/plain": [
              "-1"
            ]
          },
          "execution_count": 100,
          "metadata": {},
          "output_type": "execute_result"
        }
      ],
      "source": [
        "one_bet(np.random.choice(np.arange(1, 7)))"
      ]
    },
    {
      "cell_type": "code",
      "execution_count": 101,
      "metadata": {
        "id": "c6TLGG6104Uy"
      },
      "outputs": [],
      "source": [
        "def bet_on_one_roll():\n",
        "    \"\"\"Returns my net gain on one bet\"\"\"\n",
        "    x = np.random.choice(np.arange(1, 7))  # roll a die once and record the number of spots\n",
        "    if x <= 2:\n",
        "        return -1\n",
        "    elif x <= 4:\n",
        "        return 0\n",
        "    elif x <= 6:\n",
        "        return 1"
      ]
    },
    {
      "cell_type": "code",
      "execution_count": null,
      "metadata": {
        "id": "I1E-XDGP05kQ"
      },
      "outputs": [],
      "source": []
    },
    {
      "cell_type": "code",
      "execution_count": 102,
      "metadata": {
        "id": "cdZTLuMQ07pK"
      },
      "outputs": [],
      "source": [
        "outcomes = np.array([])\n",
        "\n",
        "for i in np.arange(300):\n",
        "    outcome_of_bet = bet_on_one_roll()\n",
        "    outcomes = np.append(outcomes, outcome_of_bet)"
      ]
    },
    {
      "cell_type": "code",
      "execution_count": 103,
      "metadata": {
        "colab": {
          "base_uri": "https://localhost:8080/",
          "height": 424
        },
        "id": "9FQ856sO08_4",
        "outputId": "26ea0440-260e-4f3e-f86f-ec6d830b2bd1"
      },
      "outputs": [
        {
          "data": {
            "text/html": [
              "<div>\n",
              "<style scoped>\n",
              "    .dataframe tbody tr th:only-of-type {\n",
              "        vertical-align: middle;\n",
              "    }\n",
              "\n",
              "    .dataframe tbody tr th {\n",
              "        vertical-align: top;\n",
              "    }\n",
              "\n",
              "    .dataframe thead th {\n",
              "        text-align: right;\n",
              "    }\n",
              "</style>\n",
              "<table border=\"1\" class=\"dataframe\">\n",
              "  <thead>\n",
              "    <tr style=\"text-align: right;\">\n",
              "      <th></th>\n",
              "      <th>Outcome</th>\n",
              "    </tr>\n",
              "  </thead>\n",
              "  <tbody>\n",
              "    <tr>\n",
              "      <th>0</th>\n",
              "      <td>0.0</td>\n",
              "    </tr>\n",
              "    <tr>\n",
              "      <th>1</th>\n",
              "      <td>-1.0</td>\n",
              "    </tr>\n",
              "    <tr>\n",
              "      <th>2</th>\n",
              "      <td>0.0</td>\n",
              "    </tr>\n",
              "    <tr>\n",
              "      <th>3</th>\n",
              "      <td>1.0</td>\n",
              "    </tr>\n",
              "    <tr>\n",
              "      <th>4</th>\n",
              "      <td>0.0</td>\n",
              "    </tr>\n",
              "    <tr>\n",
              "      <th>...</th>\n",
              "      <td>...</td>\n",
              "    </tr>\n",
              "    <tr>\n",
              "      <th>295</th>\n",
              "      <td>0.0</td>\n",
              "    </tr>\n",
              "    <tr>\n",
              "      <th>296</th>\n",
              "      <td>1.0</td>\n",
              "    </tr>\n",
              "    <tr>\n",
              "      <th>297</th>\n",
              "      <td>0.0</td>\n",
              "    </tr>\n",
              "    <tr>\n",
              "      <th>298</th>\n",
              "      <td>-1.0</td>\n",
              "    </tr>\n",
              "    <tr>\n",
              "      <th>299</th>\n",
              "      <td>-1.0</td>\n",
              "    </tr>\n",
              "  </tbody>\n",
              "</table>\n",
              "<p>300 rows × 1 columns</p>\n",
              "</div>"
            ],
            "text/plain": [
              "     Outcome\n",
              "0        0.0\n",
              "1       -1.0\n",
              "2        0.0\n",
              "3        1.0\n",
              "4        0.0\n",
              "..       ...\n",
              "295      0.0\n",
              "296      1.0\n",
              "297      0.0\n",
              "298     -1.0\n",
              "299     -1.0\n",
              "\n",
              "[300 rows x 1 columns]"
            ]
          },
          "execution_count": 103,
          "metadata": {},
          "output_type": "execute_result"
        }
      ],
      "source": [
        "outcome_table = pd.DataFrame({'Outcome': outcomes})\n",
        "outcome_table"
      ]
    },
    {
      "cell_type": "code",
      "execution_count": 104,
      "metadata": {
        "colab": {
          "base_uri": "https://localhost:8080/",
          "height": 143
        },
        "id": "zfF5oDtz1oDy",
        "outputId": "52b1fca6-4df9-4776-88a6-8ea47844b29c"
      },
      "outputs": [
        {
          "data": {
            "text/html": [
              "<div>\n",
              "<style scoped>\n",
              "    .dataframe tbody tr th:only-of-type {\n",
              "        vertical-align: middle;\n",
              "    }\n",
              "\n",
              "    .dataframe tbody tr th {\n",
              "        vertical-align: top;\n",
              "    }\n",
              "\n",
              "    .dataframe thead th {\n",
              "        text-align: right;\n",
              "    }\n",
              "</style>\n",
              "<table border=\"1\" class=\"dataframe\">\n",
              "  <thead>\n",
              "    <tr style=\"text-align: right;\">\n",
              "      <th></th>\n",
              "      <th>Outcome</th>\n",
              "      <th>count</th>\n",
              "    </tr>\n",
              "  </thead>\n",
              "  <tbody>\n",
              "    <tr>\n",
              "      <th>0</th>\n",
              "      <td>-1.0</td>\n",
              "      <td>103</td>\n",
              "    </tr>\n",
              "    <tr>\n",
              "      <th>1</th>\n",
              "      <td>0.0</td>\n",
              "      <td>108</td>\n",
              "    </tr>\n",
              "    <tr>\n",
              "      <th>2</th>\n",
              "      <td>1.0</td>\n",
              "      <td>89</td>\n",
              "    </tr>\n",
              "  </tbody>\n",
              "</table>\n",
              "</div>"
            ],
            "text/plain": [
              "   Outcome  count\n",
              "0     -1.0    103\n",
              "1      0.0    108\n",
              "2      1.0     89"
            ]
          },
          "execution_count": 104,
          "metadata": {},
          "output_type": "execute_result"
        }
      ],
      "source": [
        "# outcome_table = outcome_table.groupby('Outcome')['Outcome'].count().reset_index(name='count').sort_values(by=['Outcome'],ascending=False)\n",
        "outcome_table = outcome_table.groupby('Outcome')['Outcome'].count()\n",
        "outcome_table = outcome_table.reset_index(name='count')\n",
        "coutcome_table = outcome_table.sort_values(by=['Outcome'],ascending=False)\n",
        "outcome_table"
      ]
    },
    {
      "cell_type": "code",
      "execution_count": 105,
      "metadata": {
        "colab": {
          "base_uri": "https://localhost:8080/",
          "height": 430
        },
        "id": "dBHP2a2T1WSm",
        "outputId": "6a98ae8f-7508-478d-e7a4-5de7f48e2396"
      },
      "outputs": [
        {
          "data": {
            "image/png": "[encoded data removed]",
            "text/plain": [
              "<Figure size 640x480 with 1 Axes>"
            ]
          },
          "metadata": {},
          "output_type": "display_data"
        }
      ],
      "source": [
        "fig = outcome_table.plot.barh(x='Outcome', y='count')"
      ]
    },
    {
      "cell_type": "code",
      "execution_count": 106,
      "metadata": {
        "id": "7cEC_UUV7lbV"
      },
      "outputs": [],
      "source": [
        "coin = np.array(['Heads', 'Tails'])"
      ]
    },
    {
      "cell_type": "code",
      "execution_count": 107,
      "metadata": {
        "colab": {
          "base_uri": "https://localhost:8080/"
        },
        "id": "Dt9b3n_17oz4",
        "outputId": "ca1ae1cd-4aae-4b1f-cd1d-6c07b46c9f64"
      },
      "outputs": [
        {
          "data": {
            "text/plain": [
              "array(['Heads', 'Tails', 'Tails', 'Heads', 'Tails', 'Tails', 'Heads',\n",
              "       'Heads', 'Tails', 'Tails'], dtype='<U5')"
            ]
          },
          "execution_count": 107,
          "metadata": {},
          "output_type": "execute_result"
        }
      ],
      "source": [
        "np.random.choice(coin, 10)\n"
      ]
    },
    {
      "cell_type": "code",
      "execution_count": 108,
      "metadata": {
        "colab": {
          "base_uri": "https://localhost:8080/"
        },
        "id": "On6QDXLy7taj",
        "outputId": "a3a74ba7-2259-4d72-f8de-84293eedc658"
      },
      "outputs": [
        {
          "data": {
            "text/plain": [
              "61"
            ]
          },
          "execution_count": 108,
          "metadata": {},
          "output_type": "execute_result"
        }
      ],
      "source": [
        "outcomes = np.random.choice(coin, 100)\n",
        "num_heads = np.count_nonzero(outcomes == 'Heads')\n",
        "num_heads"
      ]
    },
    {
      "cell_type": "code",
      "execution_count": 109,
      "metadata": {
        "id": "y9dzcJeA-ITu"
      },
      "outputs": [],
      "source": [
        "def one_simulated_value():\n",
        "    outcomes = np.random.choice(coin, 100)\n",
        "    return np.count_nonzero(outcomes == 'Heads')"
      ]
    },
    {
      "cell_type": "code",
      "execution_count": 110,
      "metadata": {
        "id": "ElDdisVw-Jxc"
      },
      "outputs": [],
      "source": [
        "num_repetitions = 20000   # number of repetitions\n",
        "\n",
        "heads = np.array([])\n",
        "\n",
        "for i in np.arange(num_repetitions):   # repeat the process num_repetitions times\n",
        "    new_value = one_simulated_value()  # simulate one value using the function defined\n",
        "    heads = np.append(heads, new_value) # augment the collection array with the simulated value\n",
        "\n",
        "# That's it! The simulation is done."
      ]
    },
    {
      "cell_type": "code",
      "execution_count": 111,
      "metadata": {
        "colab": {
          "base_uri": "https://localhost:8080/"
        },
        "id": "9wHgfYef_CLh",
        "outputId": "51d2dd05-ff5a-48f3-b033-774100d162a5"
      },
      "outputs": [
        {
          "data": {
            "text/plain": [
              "20000"
            ]
          },
          "execution_count": 111,
          "metadata": {},
          "output_type": "execute_result"
        }
      ],
      "source": [
        "len(heads)"
      ]
    },
    {
      "cell_type": "code",
      "execution_count": 112,
      "metadata": {
        "colab": {
          "base_uri": "https://localhost:8080/",
          "height": 466
        },
        "id": "lkCSYzyq_Ern",
        "outputId": "8b1cf37b-a005-43aa-dbed-cc40dbcde97c"
      },
      "outputs": [
        {
          "data": {
            "text/plain": [
              "Text(0.5, 0, '# of Heads')"
            ]
          },
          "execution_count": 112,
          "metadata": {},
          "output_type": "execute_result"
        },
        {
          "data": {
            "image/png": "[encoded data removed]",
            "text/plain": [
              "<Figure size 640x480 with 1 Axes>"
            ]
          },
          "metadata": {},
          "output_type": "display_data"
        }
      ],
      "source": [
        "rst_pd = pd.DataFrame(\n",
        "    {'Repetition': np.arange(1, num_repetitions + 1),\n",
        "    'Number of Heads': heads}\n",
        ")\n",
        "fig = rst_pd['Number of Heads'].hist(bins=np.arange(30.5, 69.6, 1), density = True, width=.9)\n",
        "# fig = rst_pd['Number of Heads'].hist(bins=np.arange(30.5, 69.6, 1), width =0.9, alpha=0.8)\n",
        "fig.set_xlabel('# of Heads')\n"
      ]
    },
    {
      "cell_type": "code",
      "execution_count": 113,
      "metadata": {
        "colab": {
          "base_uri": "https://localhost:8080/",
          "height": 363
        },
        "id": "Vy-BpqBFLnXx",
        "outputId": "bfb08c1f-d00a-46a9-cbb3-dfae4495c39f"
      },
      "outputs": [
        {
          "data": {
            "text/html": [
              "<div>\n",
              "<style scoped>\n",
              "    .dataframe tbody tr th:only-of-type {\n",
              "        vertical-align: middle;\n",
              "    }\n",
              "\n",
              "    .dataframe tbody tr th {\n",
              "        vertical-align: top;\n",
              "    }\n",
              "\n",
              "    .dataframe thead th {\n",
              "        text-align: right;\n",
              "    }\n",
              "</style>\n",
              "<table border=\"1\" class=\"dataframe\">\n",
              "  <thead>\n",
              "    <tr style=\"text-align: right;\">\n",
              "      <th></th>\n",
              "      <th>Tosses</th>\n",
              "      <th>Chance of at least one H</th>\n",
              "    </tr>\n",
              "  </thead>\n",
              "  <tbody>\n",
              "    <tr>\n",
              "      <th>0</th>\n",
              "      <td>1</td>\n",
              "      <td>0.500000</td>\n",
              "    </tr>\n",
              "    <tr>\n",
              "      <th>1</th>\n",
              "      <td>2</td>\n",
              "      <td>0.750000</td>\n",
              "    </tr>\n",
              "    <tr>\n",
              "      <th>2</th>\n",
              "      <td>3</td>\n",
              "      <td>0.875000</td>\n",
              "    </tr>\n",
              "    <tr>\n",
              "      <th>3</th>\n",
              "      <td>4</td>\n",
              "      <td>0.937500</td>\n",
              "    </tr>\n",
              "    <tr>\n",
              "      <th>4</th>\n",
              "      <td>5</td>\n",
              "      <td>0.968750</td>\n",
              "    </tr>\n",
              "    <tr>\n",
              "      <th>5</th>\n",
              "      <td>6</td>\n",
              "      <td>0.984375</td>\n",
              "    </tr>\n",
              "    <tr>\n",
              "      <th>6</th>\n",
              "      <td>7</td>\n",
              "      <td>0.992188</td>\n",
              "    </tr>\n",
              "    <tr>\n",
              "      <th>7</th>\n",
              "      <td>8</td>\n",
              "      <td>0.996094</td>\n",
              "    </tr>\n",
              "    <tr>\n",
              "      <th>8</th>\n",
              "      <td>9</td>\n",
              "      <td>0.998047</td>\n",
              "    </tr>\n",
              "    <tr>\n",
              "      <th>9</th>\n",
              "      <td>10</td>\n",
              "      <td>0.999023</td>\n",
              "    </tr>\n",
              "  </tbody>\n",
              "</table>\n",
              "</div>"
            ],
            "text/plain": [
              "   Tosses  Chance of at least one H\n",
              "0       1                  0.500000\n",
              "1       2                  0.750000\n",
              "2       3                  0.875000\n",
              "3       4                  0.937500\n",
              "4       5                  0.968750\n",
              "5       6                  0.984375\n",
              "6       7                  0.992188\n",
              "7       8                  0.996094\n",
              "8       9                  0.998047\n",
              "9      10                  0.999023"
            ]
          },
          "execution_count": 113,
          "metadata": {},
          "output_type": "execute_result"
        }
      ],
      "source": [
        "tosses = np.arange(1, 51, 1)\n",
        "results = pd.DataFrame({'Tosses': tosses, \n",
        "                        'Chance of at least one H': 1 - (1/2)**tosses})\n",
        "results.head(10)"
      ]
    },
    {
      "cell_type": "code",
      "execution_count": 114,
      "metadata": {
        "colab": {
          "base_uri": "https://localhost:8080/",
          "height": 449
        },
        "id": "sjNDeLRRTDR6",
        "outputId": "17854a2b-0437-4c23-902b-46981c196b38"
      },
      "outputs": [
        {
          "data": {
            "image/png": "[encoded data removed]",
            "text/plain": [
              "<Figure size 640x480 with 1 Axes>"
            ]
          },
          "metadata": {},
          "output_type": "display_data"
        }
      ],
      "source": [
        "fig = results.plot.scatter(x='Tosses', y='Chance of at least one H')"
      ]
    },
    {
      "cell_type": "code",
      "execution_count": 115,
      "metadata": {
        "id": "BPDPEkaRTLHu"
      },
      "outputs": [],
      "source": [
        "goats = np.array(['first goat', 'second goat'])\n",
        "hidden_behind_doors = np.append(goats, 'car')\n",
        "\n",
        "def other_goat(x):\n",
        "    if x == 'first goat':\n",
        "        return 'second goat'\n",
        "    elif x == 'second goat':\n",
        "        return 'first goat'"
      ]
    },
    {
      "cell_type": "code",
      "execution_count": 116,
      "metadata": {
        "id": "XyfzeyogTgEp"
      },
      "outputs": [],
      "source": [
        "def monty_hall_game():\n",
        "    \"\"\"Return \n",
        "    [contestant's guess, what Monty reveals, what remains behind the other door]\"\"\"\n",
        "    \n",
        "    contestant_guess = np.random.choice(hidden_behind_doors)\n",
        "    \n",
        "    if contestant_guess == 'first goat':\n",
        "        return [contestant_guess, 'second goat', 'car']\n",
        "    \n",
        "    if contestant_guess == 'second goat':\n",
        "        return [contestant_guess, 'first goat', 'car']\n",
        "    \n",
        "    if contestant_guess == 'car':\n",
        "        revealed = np.random.choice(goats)\n",
        "        return [contestant_guess, revealed, other_goat(revealed)]"
      ]
    },
    {
      "cell_type": "code",
      "execution_count": 117,
      "metadata": {
        "colab": {
          "base_uri": "https://localhost:8080/"
        },
        "id": "4CLcqJ90TneV",
        "outputId": "cbe9cc49-2221-4a61-df85-b86e8515fb20"
      },
      "outputs": [
        {
          "data": {
            "text/plain": [
              "['car', 'first goat', 'second goat']"
            ]
          },
          "execution_count": 117,
          "metadata": {},
          "output_type": "execute_result"
        }
      ],
      "source": [
        "monty_hall_game()"
      ]
    },
    {
      "cell_type": "code",
      "execution_count": 118,
      "metadata": {
        "id": "l370MiI8Ttdm"
      },
      "outputs": [],
      "source": [
        "# empty collection table\n",
        "games= pd.DataFrame(columns=['Guess', 'Revealed', 'Remaining'])\n",
        "\n",
        "# Play the game 10000 times and \n",
        "# record the results in the table games\n",
        "\n",
        "for i in np.arange(10000):\n",
        "    games.loc[i] = monty_hall_game()"
      ]
    },
    {
      "cell_type": "code",
      "execution_count": 119,
      "metadata": {
        "colab": {
          "base_uri": "https://localhost:8080/",
          "height": 206
        },
        "id": "P5clgS-xTzr8",
        "outputId": "a5dc6868-9823-4168-cf65-ffcbe95ae9bc"
      },
      "outputs": [
        {
          "data": {
            "text/html": [
              "<div>\n",
              "<style scoped>\n",
              "    .dataframe tbody tr th:only-of-type {\n",
              "        vertical-align: middle;\n",
              "    }\n",
              "\n",
              "    .dataframe tbody tr th {\n",
              "        vertical-align: top;\n",
              "    }\n",
              "\n",
              "    .dataframe thead th {\n",
              "        text-align: right;\n",
              "    }\n",
              "</style>\n",
              "<table border=\"1\" class=\"dataframe\">\n",
              "  <thead>\n",
              "    <tr style=\"text-align: right;\">\n",
              "      <th></th>\n",
              "      <th>Guess</th>\n",
              "      <th>Revealed</th>\n",
              "      <th>Remaining</th>\n",
              "    </tr>\n",
              "  </thead>\n",
              "  <tbody>\n",
              "    <tr>\n",
              "      <th>0</th>\n",
              "      <td>second goat</td>\n",
              "      <td>first goat</td>\n",
              "      <td>car</td>\n",
              "    </tr>\n",
              "    <tr>\n",
              "      <th>1</th>\n",
              "      <td>second goat</td>\n",
              "      <td>first goat</td>\n",
              "      <td>car</td>\n",
              "    </tr>\n",
              "    <tr>\n",
              "      <th>2</th>\n",
              "      <td>second goat</td>\n",
              "      <td>first goat</td>\n",
              "      <td>car</td>\n",
              "    </tr>\n",
              "    <tr>\n",
              "      <th>3</th>\n",
              "      <td>first goat</td>\n",
              "      <td>second goat</td>\n",
              "      <td>car</td>\n",
              "    </tr>\n",
              "    <tr>\n",
              "      <th>4</th>\n",
              "      <td>car</td>\n",
              "      <td>first goat</td>\n",
              "      <td>second goat</td>\n",
              "    </tr>\n",
              "  </tbody>\n",
              "</table>\n",
              "</div>"
            ],
            "text/plain": [
              "         Guess     Revealed    Remaining\n",
              "0  second goat   first goat          car\n",
              "1  second goat   first goat          car\n",
              "2  second goat   first goat          car\n",
              "3   first goat  second goat          car\n",
              "4          car   first goat  second goat"
            ]
          },
          "execution_count": 119,
          "metadata": {},
          "output_type": "execute_result"
        }
      ],
      "source": [
        "games.head()"
      ]
    },
    {
      "cell_type": "code",
      "execution_count": 120,
      "metadata": {
        "colab": {
          "base_uri": "https://localhost:8080/",
          "height": 143
        },
        "id": "Ct1Cmy0xT4GO",
        "outputId": "fb3330a2-8277-4869-c217-17df99c0d0f4"
      },
      "outputs": [
        {
          "data": {
            "text/html": [
              "<div>\n",
              "<style scoped>\n",
              "    .dataframe tbody tr th:only-of-type {\n",
              "        vertical-align: middle;\n",
              "    }\n",
              "\n",
              "    .dataframe tbody tr th {\n",
              "        vertical-align: top;\n",
              "    }\n",
              "\n",
              "    .dataframe thead th {\n",
              "        text-align: right;\n",
              "    }\n",
              "</style>\n",
              "<table border=\"1\" class=\"dataframe\">\n",
              "  <thead>\n",
              "    <tr style=\"text-align: right;\">\n",
              "      <th></th>\n",
              "      <th>Guess</th>\n",
              "      <th>orig_count</th>\n",
              "    </tr>\n",
              "  </thead>\n",
              "  <tbody>\n",
              "    <tr>\n",
              "      <th>0</th>\n",
              "      <td>car</td>\n",
              "      <td>3338</td>\n",
              "    </tr>\n",
              "    <tr>\n",
              "      <th>1</th>\n",
              "      <td>first goat</td>\n",
              "      <td>3325</td>\n",
              "    </tr>\n",
              "    <tr>\n",
              "      <th>2</th>\n",
              "      <td>second goat</td>\n",
              "      <td>3337</td>\n",
              "    </tr>\n",
              "  </tbody>\n",
              "</table>\n",
              "</div>"
            ],
            "text/plain": [
              "         Guess  orig_count\n",
              "0          car        3338\n",
              "1   first goat        3325\n",
              "2  second goat        3337"
            ]
          },
          "execution_count": 120,
          "metadata": {},
          "output_type": "execute_result"
        }
      ],
      "source": [
        "# distribtion of [1st goat, 2nd goat, car] in the first guess\n",
        "original_choice =\\\n",
        "games.groupby('Guess')['Guess'].count().reset_index(name='orig_count')\n",
        "original_choice"
      ]
    },
    {
      "cell_type": "code",
      "execution_count": 121,
      "metadata": {
        "colab": {
          "base_uri": "https://localhost:8080/",
          "height": 143
        },
        "id": "wDcJmpRKSrmy",
        "outputId": "06b4ee9d-cb9b-469e-c902-08012aa4ea27"
      },
      "outputs": [
        {
          "data": {
            "text/html": [
              "<div>\n",
              "<style scoped>\n",
              "    .dataframe tbody tr th:only-of-type {\n",
              "        vertical-align: middle;\n",
              "    }\n",
              "\n",
              "    .dataframe tbody tr th {\n",
              "        vertical-align: top;\n",
              "    }\n",
              "\n",
              "    .dataframe thead th {\n",
              "        text-align: right;\n",
              "    }\n",
              "</style>\n",
              "<table border=\"1\" class=\"dataframe\">\n",
              "  <thead>\n",
              "    <tr style=\"text-align: right;\">\n",
              "      <th></th>\n",
              "      <th>Remaining</th>\n",
              "      <th>rema_count</th>\n",
              "    </tr>\n",
              "  </thead>\n",
              "  <tbody>\n",
              "    <tr>\n",
              "      <th>0</th>\n",
              "      <td>car</td>\n",
              "      <td>6662</td>\n",
              "    </tr>\n",
              "    <tr>\n",
              "      <th>1</th>\n",
              "      <td>first goat</td>\n",
              "      <td>1644</td>\n",
              "    </tr>\n",
              "    <tr>\n",
              "      <th>2</th>\n",
              "      <td>second goat</td>\n",
              "      <td>1694</td>\n",
              "    </tr>\n",
              "  </tbody>\n",
              "</table>\n",
              "</div>"
            ],
            "text/plain": [
              "     Remaining  rema_count\n",
              "0          car        6662\n",
              "1   first goat        1644\n",
              "2  second goat        1694"
            ]
          },
          "execution_count": 121,
          "metadata": {},
          "output_type": "execute_result"
        }
      ],
      "source": [
        "# distribution of items in the remaining door\n",
        "remaining_door =\\\n",
        "games.groupby('Remaining')['Remaining'].count().reset_index(name='rema_count')\n",
        "remaining_door"
      ]
    },
    {
      "cell_type": "code",
      "execution_count": 122,
      "metadata": {
        "colab": {
          "base_uri": "https://localhost:8080/",
          "height": 143
        },
        "id": "RKc215yoUJiF",
        "outputId": "2cbbf3ac-0c4e-4793-a745-251dadec748b"
      },
      "outputs": [
        {
          "data": {
            "text/html": [
              "<div>\n",
              "<style scoped>\n",
              "    .dataframe tbody tr th:only-of-type {\n",
              "        vertical-align: middle;\n",
              "    }\n",
              "\n",
              "    .dataframe tbody tr th {\n",
              "        vertical-align: top;\n",
              "    }\n",
              "\n",
              "    .dataframe thead th {\n",
              "        text-align: right;\n",
              "    }\n",
              "</style>\n",
              "<table border=\"1\" class=\"dataframe\">\n",
              "  <thead>\n",
              "    <tr style=\"text-align: right;\">\n",
              "      <th></th>\n",
              "      <th>Guess</th>\n",
              "      <th>orig_count</th>\n",
              "      <th>rema_count</th>\n",
              "    </tr>\n",
              "  </thead>\n",
              "  <tbody>\n",
              "    <tr>\n",
              "      <th>0</th>\n",
              "      <td>car</td>\n",
              "      <td>3338</td>\n",
              "      <td>6662</td>\n",
              "    </tr>\n",
              "    <tr>\n",
              "      <th>1</th>\n",
              "      <td>first goat</td>\n",
              "      <td>3325</td>\n",
              "      <td>1644</td>\n",
              "    </tr>\n",
              "    <tr>\n",
              "      <th>2</th>\n",
              "      <td>second goat</td>\n",
              "      <td>3337</td>\n",
              "      <td>1694</td>\n",
              "    </tr>\n",
              "  </tbody>\n",
              "</table>\n",
              "</div>"
            ],
            "text/plain": [
              "         Guess  orig_count  rema_count\n",
              "0          car        3338        6662\n",
              "1   first goat        3325        1644\n",
              "2  second goat        3337        1694"
            ]
          },
          "execution_count": 122,
          "metadata": {},
          "output_type": "execute_result"
        }
      ],
      "source": [
        "joined = original_choice.join(remaining_door.set_index('Remaining'), on='Guess')\n",
        "joined"
      ]
    },
    {
      "cell_type": "code",
      "execution_count": 123,
      "metadata": {
        "colab": {
          "base_uri": "https://localhost:8080/",
          "height": 430
        },
        "id": "cxtaET-aW8Wp",
        "outputId": "2521cb32-c135-4016-afb9-be20dd4dbeff"
      },
      "outputs": [
        {
          "data": {
            "image/png": "[encoded data removed]",
            "text/plain": [
              "<Figure size 640x480 with 1 Axes>"
            ]
          },
          "metadata": {},
          "output_type": "display_data"
        }
      ],
      "source": [
        "fig = joined.set_index('Guess').plot.barh(ylabel = 'Item')"
      ]
    }
  ],
  "metadata": {
    "colab": {
      "provenance": []
    },
    "kernelspec": {
      "display_name": "Python 3",
      "name": "python3"
    },
    "language_info": {
      "codemirror_mode": {
        "name": "ipython",
        "version": 3
      },
      "file_extension": ".py",
      "mimetype": "text/x-python",
      "name": "python",
      "nbconvert_exporter": "python",
      "pygments_lexer": "ipython3",
      "version": "3.11.7"
    }
  },
  "nbformat": 4,
  "nbformat_minor": 0
}
