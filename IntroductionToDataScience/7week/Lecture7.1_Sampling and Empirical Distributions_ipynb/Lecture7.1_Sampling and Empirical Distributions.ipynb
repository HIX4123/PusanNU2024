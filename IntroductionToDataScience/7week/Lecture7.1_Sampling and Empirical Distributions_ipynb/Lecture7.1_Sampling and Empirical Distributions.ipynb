{
  "cells": [
    {
      "cell_type": "markdown",
      "metadata": {
        "id": "I2T60dO22nTa"
      },
      "source": [
        "**Sampling**"
      ]
    },
    {
      "cell_type": "code",
      "execution_count": 1,
      "metadata": {
        "id": "xvCR0pBQl5bz"
      },
      "outputs": [],
      "source": [
        "import pandas as pd\n",
        "import numpy as np"
      ]
    },
    {
      "cell_type": "code",
      "execution_count": 2,
      "metadata": {
        "colab": {
          "base_uri": "https://localhost:8080/",
          "height": 74
        },
        "id": "jW40whxB3ie8",
        "outputId": "1e3c4033-9907-4050-8760-da098a449931"
      },
      "outputs": [],
      "source": [
        "# # upload actor.csv file\n",
        "# from google.colab import files\n",
        "# file_uploaded = files.upload()"
      ]
    },
    {
      "cell_type": "code",
      "execution_count": 3,
      "metadata": {
        "colab": {
          "base_uri": "https://localhost:8080/",
          "height": 424
        },
        "id": "UkKJyOix36QV",
        "outputId": "86b4e236-d994-41b7-a282-c2e512b4cdd5"
      },
      "outputs": [
        {
          "data": {
            "text/html": [
              "<div>\n",
              "<style scoped>\n",
              "    .dataframe tbody tr th:only-of-type {\n",
              "        vertical-align: middle;\n",
              "    }\n",
              "\n",
              "    .dataframe tbody tr th {\n",
              "        vertical-align: top;\n",
              "    }\n",
              "\n",
              "    .dataframe thead th {\n",
              "        text-align: right;\n",
              "    }\n",
              "</style>\n",
              "<table border=\"1\" class=\"dataframe\">\n",
              "  <thead>\n",
              "    <tr style=\"text-align: right;\">\n",
              "      <th></th>\n",
              "      <th>Title</th>\n",
              "      <th>Studio</th>\n",
              "      <th>Gross</th>\n",
              "      <th>Gross (Adjusted)</th>\n",
              "      <th>Year</th>\n",
              "    </tr>\n",
              "  </thead>\n",
              "  <tbody>\n",
              "    <tr>\n",
              "      <th>0</th>\n",
              "      <td>Gone with the Wind</td>\n",
              "      <td>MGM</td>\n",
              "      <td>198676459</td>\n",
              "      <td>1796176700</td>\n",
              "      <td>1939</td>\n",
              "    </tr>\n",
              "    <tr>\n",
              "      <th>1</th>\n",
              "      <td>Star Wars</td>\n",
              "      <td>Fox</td>\n",
              "      <td>460998007</td>\n",
              "      <td>1583483200</td>\n",
              "      <td>1977</td>\n",
              "    </tr>\n",
              "    <tr>\n",
              "      <th>2</th>\n",
              "      <td>The Sound of Music</td>\n",
              "      <td>Fox</td>\n",
              "      <td>158671368</td>\n",
              "      <td>1266072700</td>\n",
              "      <td>1965</td>\n",
              "    </tr>\n",
              "    <tr>\n",
              "      <th>3</th>\n",
              "      <td>E.T.: The Extra-Terrestrial</td>\n",
              "      <td>Universal</td>\n",
              "      <td>435110554</td>\n",
              "      <td>1261085000</td>\n",
              "      <td>1982</td>\n",
              "    </tr>\n",
              "    <tr>\n",
              "      <th>4</th>\n",
              "      <td>Titanic</td>\n",
              "      <td>Paramount</td>\n",
              "      <td>658672302</td>\n",
              "      <td>1204368000</td>\n",
              "      <td>1997</td>\n",
              "    </tr>\n",
              "    <tr>\n",
              "      <th>...</th>\n",
              "      <td>...</td>\n",
              "      <td>...</td>\n",
              "      <td>...</td>\n",
              "      <td>...</td>\n",
              "      <td>...</td>\n",
              "    </tr>\n",
              "    <tr>\n",
              "      <th>195</th>\n",
              "      <td>9 to 5</td>\n",
              "      <td>Fox</td>\n",
              "      <td>103290500</td>\n",
              "      <td>341357800</td>\n",
              "      <td>1980</td>\n",
              "    </tr>\n",
              "    <tr>\n",
              "      <th>196</th>\n",
              "      <td>Batman v Superman: Dawn of Justice</td>\n",
              "      <td>Warner Brothers</td>\n",
              "      <td>330360194</td>\n",
              "      <td>340137000</td>\n",
              "      <td>2016</td>\n",
              "    </tr>\n",
              "    <tr>\n",
              "      <th>197</th>\n",
              "      <td>The Firm</td>\n",
              "      <td>Paramount</td>\n",
              "      <td>158348367</td>\n",
              "      <td>340028200</td>\n",
              "      <td>1993</td>\n",
              "    </tr>\n",
              "    <tr>\n",
              "      <th>198</th>\n",
              "      <td>Suicide Squad</td>\n",
              "      <td>Warner Brothers</td>\n",
              "      <td>325100054</td>\n",
              "      <td>339411900</td>\n",
              "      <td>2016</td>\n",
              "    </tr>\n",
              "    <tr>\n",
              "      <th>199</th>\n",
              "      <td>Who Framed Roger Rabbit</td>\n",
              "      <td>Buena Vista</td>\n",
              "      <td>156452370</td>\n",
              "      <td>338409100</td>\n",
              "      <td>1988</td>\n",
              "    </tr>\n",
              "  </tbody>\n",
              "</table>\n",
              "<p>200 rows × 5 columns</p>\n",
              "</div>"
            ],
            "text/plain": [
              "                                  Title           Studio      Gross  \\\n",
              "0                    Gone with the Wind              MGM  198676459   \n",
              "1                             Star Wars              Fox  460998007   \n",
              "2                    The Sound of Music              Fox  158671368   \n",
              "3           E.T.: The Extra-Terrestrial        Universal  435110554   \n",
              "4                               Titanic        Paramount  658672302   \n",
              "..                                  ...              ...        ...   \n",
              "195                              9 to 5              Fox  103290500   \n",
              "196  Batman v Superman: Dawn of Justice  Warner Brothers  330360194   \n",
              "197                            The Firm        Paramount  158348367   \n",
              "198                       Suicide Squad  Warner Brothers  325100054   \n",
              "199             Who Framed Roger Rabbit      Buena Vista  156452370   \n",
              "\n",
              "     Gross (Adjusted)  Year  \n",
              "0          1796176700  1939  \n",
              "1          1583483200  1977  \n",
              "2          1266072700  1965  \n",
              "3          1261085000  1982  \n",
              "4          1204368000  1997  \n",
              "..                ...   ...  \n",
              "195         341357800  1980  \n",
              "196         340137000  2016  \n",
              "197         340028200  1993  \n",
              "198         339411900  2016  \n",
              "199         338409100  1988  \n",
              "\n",
              "[200 rows x 5 columns]"
            ]
          },
          "execution_count": 3,
          "metadata": {},
          "output_type": "execute_result"
        }
      ],
      "source": [
        "top = pd.read_csv('top_movies_2017.csv')\n",
        "top"
      ]
    },
    {
      "cell_type": "code",
      "execution_count": 4,
      "metadata": {
        "colab": {
          "base_uri": "https://localhost:8080/",
          "height": 143
        },
        "id": "qvTWxA5r5Yy7",
        "outputId": "c3a40866-d4f6-4568-e985-647533d9e52f"
      },
      "outputs": [
        {
          "data": {
            "text/html": [
              "<div>\n",
              "<style scoped>\n",
              "    .dataframe tbody tr th:only-of-type {\n",
              "        vertical-align: middle;\n",
              "    }\n",
              "\n",
              "    .dataframe tbody tr th {\n",
              "        vertical-align: top;\n",
              "    }\n",
              "\n",
              "    .dataframe thead th {\n",
              "        text-align: right;\n",
              "    }\n",
              "</style>\n",
              "<table border=\"1\" class=\"dataframe\">\n",
              "  <thead>\n",
              "    <tr style=\"text-align: right;\">\n",
              "      <th></th>\n",
              "      <th>Title</th>\n",
              "      <th>Studio</th>\n",
              "      <th>Gross</th>\n",
              "      <th>Gross (Adjusted)</th>\n",
              "      <th>Year</th>\n",
              "    </tr>\n",
              "  </thead>\n",
              "  <tbody>\n",
              "    <tr>\n",
              "      <th>3</th>\n",
              "      <td>E.T.: The Extra-Terrestrial</td>\n",
              "      <td>Universal</td>\n",
              "      <td>435110554</td>\n",
              "      <td>1261085000</td>\n",
              "      <td>1982</td>\n",
              "    </tr>\n",
              "    <tr>\n",
              "      <th>18</th>\n",
              "      <td>The Lion King</td>\n",
              "      <td>Buena Vista</td>\n",
              "      <td>422783777</td>\n",
              "      <td>792511700</td>\n",
              "      <td>1994</td>\n",
              "    </tr>\n",
              "    <tr>\n",
              "      <th>100</th>\n",
              "      <td>The Hunger Games</td>\n",
              "      <td>Lionsgate</td>\n",
              "      <td>408010692</td>\n",
              "      <td>452174400</td>\n",
              "      <td>2012</td>\n",
              "    </tr>\n",
              "  </tbody>\n",
              "</table>\n",
              "</div>"
            ],
            "text/plain": [
              "                           Title       Studio      Gross  Gross (Adjusted)  \\\n",
              "3    E.T.: The Extra-Terrestrial    Universal  435110554        1261085000   \n",
              "18                 The Lion King  Buena Vista  422783777         792511700   \n",
              "100             The Hunger Games    Lionsgate  408010692         452174400   \n",
              "\n",
              "     Year  \n",
              "3    1982  \n",
              "18   1994  \n",
              "100  2012  "
            ]
          },
          "execution_count": 4,
          "metadata": {},
          "output_type": "execute_result"
        }
      ],
      "source": [
        "# Deterministic Sample\n",
        "top.iloc[[3, 18, 100], :]"
      ]
    },
    {
      "cell_type": "code",
      "execution_count": 5,
      "metadata": {
        "colab": {
          "base_uri": "https://localhost:8080/",
          "height": 269
        },
        "id": "v2nFz5PW5pyn",
        "outputId": "f4a91e32-5049-4a25-c61b-00083e8e443e"
      },
      "outputs": [
        {
          "data": {
            "text/html": [
              "<div>\n",
              "<style scoped>\n",
              "    .dataframe tbody tr th:only-of-type {\n",
              "        vertical-align: middle;\n",
              "    }\n",
              "\n",
              "    .dataframe tbody tr th {\n",
              "        vertical-align: top;\n",
              "    }\n",
              "\n",
              "    .dataframe thead th {\n",
              "        text-align: right;\n",
              "    }\n",
              "</style>\n",
              "<table border=\"1\" class=\"dataframe\">\n",
              "  <thead>\n",
              "    <tr style=\"text-align: right;\">\n",
              "      <th></th>\n",
              "      <th>Title</th>\n",
              "      <th>Studio</th>\n",
              "      <th>Gross</th>\n",
              "      <th>Gross (Adjusted)</th>\n",
              "      <th>Year</th>\n",
              "    </tr>\n",
              "  </thead>\n",
              "  <tbody>\n",
              "    <tr>\n",
              "      <th>74</th>\n",
              "      <td>Harry Potter and the Sorcerer's Stone</td>\n",
              "      <td>Warner Brothers</td>\n",
              "      <td>317575550</td>\n",
              "      <td>497066400</td>\n",
              "      <td>2001</td>\n",
              "    </tr>\n",
              "    <tr>\n",
              "      <th>114</th>\n",
              "      <td>Harry Potter and the Deathly Hallows Part 2</td>\n",
              "      <td>Warner Brothers</td>\n",
              "      <td>381011219</td>\n",
              "      <td>426630300</td>\n",
              "      <td>2011</td>\n",
              "    </tr>\n",
              "    <tr>\n",
              "      <th>131</th>\n",
              "      <td>Harry Potter and the Goblet of Fire</td>\n",
              "      <td>Warner Brothers</td>\n",
              "      <td>290013036</td>\n",
              "      <td>401608200</td>\n",
              "      <td>2005</td>\n",
              "    </tr>\n",
              "    <tr>\n",
              "      <th>133</th>\n",
              "      <td>Harry Potter and the Chamber of Secrets</td>\n",
              "      <td>Warner Brothers</td>\n",
              "      <td>261988482</td>\n",
              "      <td>399302200</td>\n",
              "      <td>2002</td>\n",
              "    </tr>\n",
              "    <tr>\n",
              "      <th>154</th>\n",
              "      <td>Harry Potter and the Order of the Phoenix</td>\n",
              "      <td>Warner Brothers</td>\n",
              "      <td>292004738</td>\n",
              "      <td>377314200</td>\n",
              "      <td>2007</td>\n",
              "    </tr>\n",
              "    <tr>\n",
              "      <th>175</th>\n",
              "      <td>Harry Potter and the Half-Blood Prince</td>\n",
              "      <td>Warner Brothers</td>\n",
              "      <td>301959197</td>\n",
              "      <td>359788300</td>\n",
              "      <td>2009</td>\n",
              "    </tr>\n",
              "    <tr>\n",
              "      <th>177</th>\n",
              "      <td>Harry Potter and the Prisoner of Azkaban</td>\n",
              "      <td>Warner Brothers</td>\n",
              "      <td>249541069</td>\n",
              "      <td>357233500</td>\n",
              "      <td>2004</td>\n",
              "    </tr>\n",
              "  </tbody>\n",
              "</table>\n",
              "</div>"
            ],
            "text/plain": [
              "                                           Title           Studio      Gross  \\\n",
              "74         Harry Potter and the Sorcerer's Stone  Warner Brothers  317575550   \n",
              "114  Harry Potter and the Deathly Hallows Part 2  Warner Brothers  381011219   \n",
              "131          Harry Potter and the Goblet of Fire  Warner Brothers  290013036   \n",
              "133      Harry Potter and the Chamber of Secrets  Warner Brothers  261988482   \n",
              "154    Harry Potter and the Order of the Phoenix  Warner Brothers  292004738   \n",
              "175       Harry Potter and the Half-Blood Prince  Warner Brothers  301959197   \n",
              "177     Harry Potter and the Prisoner of Azkaban  Warner Brothers  249541069   \n",
              "\n",
              "     Gross (Adjusted)  Year  \n",
              "74          497066400  2001  \n",
              "114         426630300  2011  \n",
              "131         401608200  2005  \n",
              "133         399302200  2002  \n",
              "154         377314200  2007  \n",
              "175         359788300  2009  \n",
              "177         357233500  2004  "
            ]
          },
          "execution_count": 5,
          "metadata": {},
          "output_type": "execute_result"
        }
      ],
      "source": [
        "# Deterministic Sample\n",
        "top.loc[top.Title.str.contains('Harry Potter', regex=False)]"
      ]
    },
    {
      "cell_type": "code",
      "execution_count": 6,
      "metadata": {
        "colab": {
          "base_uri": "https://localhost:8080/",
          "height": 677
        },
        "id": "16RPBBPz6k86",
        "outputId": "29a0c75c-e539-47f0-f5f9-fc32acf25b0a"
      },
      "outputs": [
        {
          "data": {
            "text/html": [
              "<div>\n",
              "<style scoped>\n",
              "    .dataframe tbody tr th:only-of-type {\n",
              "        vertical-align: middle;\n",
              "    }\n",
              "\n",
              "    .dataframe tbody tr th {\n",
              "        vertical-align: top;\n",
              "    }\n",
              "\n",
              "    .dataframe thead th {\n",
              "        text-align: right;\n",
              "    }\n",
              "</style>\n",
              "<table border=\"1\" class=\"dataframe\">\n",
              "  <thead>\n",
              "    <tr style=\"text-align: right;\">\n",
              "      <th></th>\n",
              "      <th>Title</th>\n",
              "      <th>Studio</th>\n",
              "      <th>Gross</th>\n",
              "      <th>Gross (Adjusted)</th>\n",
              "      <th>Year</th>\n",
              "    </tr>\n",
              "  </thead>\n",
              "  <tbody>\n",
              "    <tr>\n",
              "      <th>0</th>\n",
              "      <td>Gone with the Wind</td>\n",
              "      <td>MGM</td>\n",
              "      <td>198676459</td>\n",
              "      <td>1796176700</td>\n",
              "      <td>1939</td>\n",
              "    </tr>\n",
              "    <tr>\n",
              "      <th>10</th>\n",
              "      <td>Star Wars: The Force Awakens</td>\n",
              "      <td>Buena Vista</td>\n",
              "      <td>936662225</td>\n",
              "      <td>961143200</td>\n",
              "      <td>2015</td>\n",
              "    </tr>\n",
              "    <tr>\n",
              "      <th>20</th>\n",
              "      <td>Raiders of the Lost Ark</td>\n",
              "      <td>Paramount</td>\n",
              "      <td>248159971</td>\n",
              "      <td>787003100</td>\n",
              "      <td>1981</td>\n",
              "    </tr>\n",
              "    <tr>\n",
              "      <th>30</th>\n",
              "      <td>The Dark Knight</td>\n",
              "      <td>Warner Brothers</td>\n",
              "      <td>534858444</td>\n",
              "      <td>661980500</td>\n",
              "      <td>2008</td>\n",
              "    </tr>\n",
              "    <tr>\n",
              "      <th>40</th>\n",
              "      <td>Pinocchio</td>\n",
              "      <td>Disney</td>\n",
              "      <td>84254167</td>\n",
              "      <td>599215600</td>\n",
              "      <td>1940</td>\n",
              "    </tr>\n",
              "    <tr>\n",
              "      <th>50</th>\n",
              "      <td>Blazing Saddles</td>\n",
              "      <td>Warner Brothers</td>\n",
              "      <td>119601481</td>\n",
              "      <td>562200300</td>\n",
              "      <td>1974</td>\n",
              "    </tr>\n",
              "    <tr>\n",
              "      <th>60</th>\n",
              "      <td>My Fair Lady</td>\n",
              "      <td>Warner Brothers</td>\n",
              "      <td>72000000</td>\n",
              "      <td>533400000</td>\n",
              "      <td>1964</td>\n",
              "    </tr>\n",
              "    <tr>\n",
              "      <th>70</th>\n",
              "      <td>Smokey and the Bandit</td>\n",
              "      <td>Universal</td>\n",
              "      <td>126737428</td>\n",
              "      <td>505244700</td>\n",
              "      <td>1977</td>\n",
              "    </tr>\n",
              "    <tr>\n",
              "      <th>80</th>\n",
              "      <td>The Best Years of Our Lives</td>\n",
              "      <td>RKO</td>\n",
              "      <td>23650000</td>\n",
              "      <td>488950000</td>\n",
              "      <td>1946</td>\n",
              "    </tr>\n",
              "    <tr>\n",
              "      <th>90</th>\n",
              "      <td>M.A.S.H.</td>\n",
              "      <td>Fox</td>\n",
              "      <td>81600000</td>\n",
              "      <td>477252600</td>\n",
              "      <td>1970</td>\n",
              "    </tr>\n",
              "    <tr>\n",
              "      <th>100</th>\n",
              "      <td>The Hunger Games</td>\n",
              "      <td>Lionsgate</td>\n",
              "      <td>408010692</td>\n",
              "      <td>452174400</td>\n",
              "      <td>2012</td>\n",
              "    </tr>\n",
              "    <tr>\n",
              "      <th>110</th>\n",
              "      <td>Terminator 2: Judgment Day</td>\n",
              "      <td>Tristar</td>\n",
              "      <td>205396118</td>\n",
              "      <td>433104200</td>\n",
              "      <td>1991</td>\n",
              "    </tr>\n",
              "    <tr>\n",
              "      <th>120</th>\n",
              "      <td>The Matrix Reloaded</td>\n",
              "      <td>Warner Brothers</td>\n",
              "      <td>281576461</td>\n",
              "      <td>415126800</td>\n",
              "      <td>2003</td>\n",
              "    </tr>\n",
              "    <tr>\n",
              "      <th>130</th>\n",
              "      <td>The Chronicles of Narnia: The Lion, the Witch ...</td>\n",
              "      <td>Buena Vista</td>\n",
              "      <td>291710957</td>\n",
              "      <td>401616500</td>\n",
              "      <td>2005</td>\n",
              "    </tr>\n",
              "    <tr>\n",
              "      <th>140</th>\n",
              "      <td>Toy Story</td>\n",
              "      <td>Buena Vista</td>\n",
              "      <td>191796233</td>\n",
              "      <td>389989400</td>\n",
              "      <td>1995</td>\n",
              "    </tr>\n",
              "    <tr>\n",
              "      <th>150</th>\n",
              "      <td>Kramer Vs. Kramer</td>\n",
              "      <td>Columbia</td>\n",
              "      <td>106260000</td>\n",
              "      <td>382450000</td>\n",
              "      <td>1979</td>\n",
              "    </tr>\n",
              "    <tr>\n",
              "      <th>160</th>\n",
              "      <td>Alice in Wonderland (2010)</td>\n",
              "      <td>Buena Vista</td>\n",
              "      <td>334191110</td>\n",
              "      <td>373705500</td>\n",
              "      <td>2010</td>\n",
              "    </tr>\n",
              "    <tr>\n",
              "      <th>170</th>\n",
              "      <td>The Hunger Games: Mockingjay - Part 1</td>\n",
              "      <td>Lionsgate</td>\n",
              "      <td>337135885</td>\n",
              "      <td>362062100</td>\n",
              "      <td>2014</td>\n",
              "    </tr>\n",
              "    <tr>\n",
              "      <th>180</th>\n",
              "      <td>Rush Hour 2</td>\n",
              "      <td>Newline</td>\n",
              "      <td>226164286</td>\n",
              "      <td>355229800</td>\n",
              "      <td>2001</td>\n",
              "    </tr>\n",
              "    <tr>\n",
              "      <th>190</th>\n",
              "      <td>Batman Returns</td>\n",
              "      <td>Warner Brothers</td>\n",
              "      <td>162831698</td>\n",
              "      <td>348813000</td>\n",
              "      <td>1992</td>\n",
              "    </tr>\n",
              "  </tbody>\n",
              "</table>\n",
              "</div>"
            ],
            "text/plain": [
              "                                                 Title           Studio  \\\n",
              "0                                   Gone with the Wind              MGM   \n",
              "10                        Star Wars: The Force Awakens      Buena Vista   \n",
              "20                             Raiders of the Lost Ark        Paramount   \n",
              "30                                     The Dark Knight  Warner Brothers   \n",
              "40                                           Pinocchio           Disney   \n",
              "50                                     Blazing Saddles  Warner Brothers   \n",
              "60                                        My Fair Lady  Warner Brothers   \n",
              "70                               Smokey and the Bandit        Universal   \n",
              "80                         The Best Years of Our Lives              RKO   \n",
              "90                                            M.A.S.H.              Fox   \n",
              "100                                   The Hunger Games        Lionsgate   \n",
              "110                         Terminator 2: Judgment Day          Tristar   \n",
              "120                                The Matrix Reloaded  Warner Brothers   \n",
              "130  The Chronicles of Narnia: The Lion, the Witch ...      Buena Vista   \n",
              "140                                          Toy Story      Buena Vista   \n",
              "150                                  Kramer Vs. Kramer         Columbia   \n",
              "160                         Alice in Wonderland (2010)      Buena Vista   \n",
              "170              The Hunger Games: Mockingjay - Part 1        Lionsgate   \n",
              "180                                        Rush Hour 2          Newline   \n",
              "190                                     Batman Returns  Warner Brothers   \n",
              "\n",
              "         Gross  Gross (Adjusted)  Year  \n",
              "0    198676459        1796176700  1939  \n",
              "10   936662225         961143200  2015  \n",
              "20   248159971         787003100  1981  \n",
              "30   534858444         661980500  2008  \n",
              "40    84254167         599215600  1940  \n",
              "50   119601481         562200300  1974  \n",
              "60    72000000         533400000  1964  \n",
              "70   126737428         505244700  1977  \n",
              "80    23650000         488950000  1946  \n",
              "90    81600000         477252600  1970  \n",
              "100  408010692         452174400  2012  \n",
              "110  205396118         433104200  1991  \n",
              "120  281576461         415126800  2003  \n",
              "130  291710957         401616500  2005  \n",
              "140  191796233         389989400  1995  \n",
              "150  106260000         382450000  1979  \n",
              "160  334191110         373705500  2010  \n",
              "170  337135885         362062100  2014  \n",
              "180  226164286         355229800  2001  \n",
              "190  162831698         348813000  1992  "
            ]
          },
          "execution_count": 6,
          "metadata": {},
          "output_type": "execute_result"
        }
      ],
      "source": [
        "\"\"\"Choose a random start among rows 0 through 9;\n",
        "then take every 10th row.\"\"\"\n",
        "\n",
        "start = np.random.choice(np.arange(10))\n",
        "top.iloc[np.arange(start, len(top), 10), :]"
      ]
    },
    {
      "cell_type": "markdown",
      "metadata": {
        "id": "1GMn7T8p-vNL"
      },
      "source": [
        "**Distributions**\n"
      ]
    },
    {
      "cell_type": "code",
      "execution_count": 7,
      "metadata": {
        "colab": {
          "base_uri": "https://localhost:8080/",
          "height": 237
        },
        "id": "LksBE_N1_4HH",
        "outputId": "551e04f2-89ab-488b-c450-9c9204f8be16"
      },
      "outputs": [
        {
          "data": {
            "text/html": [
              "<div>\n",
              "<style scoped>\n",
              "    .dataframe tbody tr th:only-of-type {\n",
              "        vertical-align: middle;\n",
              "    }\n",
              "\n",
              "    .dataframe tbody tr th {\n",
              "        vertical-align: top;\n",
              "    }\n",
              "\n",
              "    .dataframe thead th {\n",
              "        text-align: right;\n",
              "    }\n",
              "</style>\n",
              "<table border=\"1\" class=\"dataframe\">\n",
              "  <thead>\n",
              "    <tr style=\"text-align: right;\">\n",
              "      <th></th>\n",
              "      <th>Face</th>\n",
              "    </tr>\n",
              "  </thead>\n",
              "  <tbody>\n",
              "    <tr>\n",
              "      <th>0</th>\n",
              "      <td>1</td>\n",
              "    </tr>\n",
              "    <tr>\n",
              "      <th>1</th>\n",
              "      <td>2</td>\n",
              "    </tr>\n",
              "    <tr>\n",
              "      <th>2</th>\n",
              "      <td>3</td>\n",
              "    </tr>\n",
              "    <tr>\n",
              "      <th>3</th>\n",
              "      <td>4</td>\n",
              "    </tr>\n",
              "    <tr>\n",
              "      <th>4</th>\n",
              "      <td>5</td>\n",
              "    </tr>\n",
              "    <tr>\n",
              "      <th>5</th>\n",
              "      <td>6</td>\n",
              "    </tr>\n",
              "  </tbody>\n",
              "</table>\n",
              "</div>"
            ],
            "text/plain": [
              "   Face\n",
              "0     1\n",
              "1     2\n",
              "2     3\n",
              "3     4\n",
              "4     5\n",
              "5     6"
            ]
          },
          "execution_count": 7,
          "metadata": {},
          "output_type": "execute_result"
        }
      ],
      "source": [
        "# Define all possible results\n",
        "die = pd.DataFrame({'Face': np.arange(1, 7, 1)})\n",
        "die"
      ]
    },
    {
      "cell_type": "code",
      "execution_count": 8,
      "metadata": {
        "colab": {
          "base_uri": "https://localhost:8080/"
        },
        "id": "2W2F7o2bAEPA",
        "outputId": "58fb97ee-cd36-44aa-8a86-1f52c5258ec0"
      },
      "outputs": [
        {
          "data": {
            "text/plain": [
              "array([0.5, 1.5, 2.5, 3.5, 4.5, 5.5, 6.5])"
            ]
          },
          "execution_count": 8,
          "metadata": {},
          "output_type": "execute_result"
        }
      ],
      "source": [
        "die_bins = np.arange(0.5, 6.6, 1)\n",
        "die_bins"
      ]
    },
    {
      "cell_type": "code",
      "execution_count": 9,
      "metadata": {
        "colab": {
          "base_uri": "https://localhost:8080/",
          "height": 488
        },
        "id": "QgONT_9EAZfQ",
        "outputId": "c58c123b-844f-484b-cee9-8cd0d876acfb"
      },
      "outputs": [
        {
          "name": "stderr",
          "output_type": "stream",
          "text": [
            "c:\\Users\\rnjsa\\anaconda3\\Lib\\site-packages\\seaborn\\_oldcore.py:1119: FutureWarning: use_inf_as_na option is deprecated and will be removed in a future version. Convert inf values to NaN before operating instead.\n",
            "  with pd.option_context('mode.use_inf_as_na', True):\n"
          ]
        },
        {
          "data": {
            "image/png": "[encoded data removed]",
            "text/plain": [
              "<Figure size 640x480 with 1 Axes>"
            ]
          },
          "metadata": {},
          "output_type": "display_data"
        }
      ],
      "source": [
        "import matplotlib.pyplot as plt\n",
        "import seaborn as sns\n",
        "\n",
        "sns.set_theme(style=\"darkgrid\")\n",
        "fig, ax = plt.subplots()\n",
        "ax=sns.histplot(data=die, x=\"Face\", bins=die_bins, stat=\"percent\", discrete=True )\n",
        "\n",
        "ax.set_title(\"Percent per unit\", size=20, color=\"red\")\n",
        "plt.show()\n"
      ]
    },
    {
      "cell_type": "code",
      "execution_count": 10,
      "metadata": {
        "colab": {
          "base_uri": "https://localhost:8080/"
        },
        "id": "pNyK7sXSGMDM",
        "outputId": "7d5a9a0e-9be1-4953-c02c-720d43263da1"
      },
      "outputs": [
        {
          "data": {
            "text/plain": [
              "array([3, 1, 1, 2, 2, 1, 4, 3, 2, 5])"
            ]
          },
          "execution_count": 10,
          "metadata": {},
          "output_type": "execute_result"
        }
      ],
      "source": [
        "# Numpy np.random.choice\n",
        "# rng = random number generator, seed 2003\n",
        "rng = np.random.default_rng(2023)\n",
        "rng.choice(die.Face, 10, replace=True)"
      ]
    },
    {
      "cell_type": "code",
      "execution_count": 11,
      "metadata": {
        "colab": {
          "base_uri": "https://localhost:8080/",
          "height": 363
        },
        "id": "lte2xg85GapH",
        "outputId": "02dcaad7-72b4-4def-8cb2-ed057d642df9"
      },
      "outputs": [
        {
          "data": {
            "text/html": [
              "<div>\n",
              "<style scoped>\n",
              "    .dataframe tbody tr th:only-of-type {\n",
              "        vertical-align: middle;\n",
              "    }\n",
              "\n",
              "    .dataframe tbody tr th {\n",
              "        vertical-align: top;\n",
              "    }\n",
              "\n",
              "    .dataframe thead th {\n",
              "        text-align: right;\n",
              "    }\n",
              "</style>\n",
              "<table border=\"1\" class=\"dataframe\">\n",
              "  <thead>\n",
              "    <tr style=\"text-align: right;\">\n",
              "      <th></th>\n",
              "      <th>Face</th>\n",
              "    </tr>\n",
              "  </thead>\n",
              "  <tbody>\n",
              "    <tr>\n",
              "      <th>1</th>\n",
              "      <td>2</td>\n",
              "    </tr>\n",
              "    <tr>\n",
              "      <th>1</th>\n",
              "      <td>2</td>\n",
              "    </tr>\n",
              "    <tr>\n",
              "      <th>4</th>\n",
              "      <td>5</td>\n",
              "    </tr>\n",
              "    <tr>\n",
              "      <th>3</th>\n",
              "      <td>4</td>\n",
              "    </tr>\n",
              "    <tr>\n",
              "      <th>4</th>\n",
              "      <td>5</td>\n",
              "    </tr>\n",
              "    <tr>\n",
              "      <th>4</th>\n",
              "      <td>5</td>\n",
              "    </tr>\n",
              "    <tr>\n",
              "      <th>5</th>\n",
              "      <td>6</td>\n",
              "    </tr>\n",
              "    <tr>\n",
              "      <th>0</th>\n",
              "      <td>1</td>\n",
              "    </tr>\n",
              "    <tr>\n",
              "      <th>1</th>\n",
              "      <td>2</td>\n",
              "    </tr>\n",
              "    <tr>\n",
              "      <th>5</th>\n",
              "      <td>6</td>\n",
              "    </tr>\n",
              "  </tbody>\n",
              "</table>\n",
              "</div>"
            ],
            "text/plain": [
              "   Face\n",
              "1     2\n",
              "1     2\n",
              "4     5\n",
              "3     4\n",
              "4     5\n",
              "4     5\n",
              "5     6\n",
              "0     1\n",
              "1     2\n",
              "5     6"
            ]
          },
          "execution_count": 11,
          "metadata": {},
          "output_type": "execute_result"
        }
      ],
      "source": [
        "# Pandas pd.DataFrame.sample\n",
        "die.sample(n=10, replace=True, random_state=2023)"
      ]
    },
    {
      "cell_type": "code",
      "execution_count": 12,
      "metadata": {
        "id": "6m1ihYpPHRTK"
      },
      "outputs": [],
      "source": [
        "# Define Empirical Histogram Function\n",
        "def empirical_hist_die(n):\n",
        "    # Run one experiment\n",
        "    die_sample = die.sample(n=n, replace=True, random_state=2023)\n",
        "\n",
        "    # set die bins\n",
        "    die_bins = np.arange(0.5, 6.6, 1)\n",
        "    # Define Empirical Histogram\n",
        "    sns.set_theme(style=\"darkgrid\")\n",
        "    fig, ax = plt.subplots()\n",
        "    ax=sns.histplot(data=die_sample, x=\"Face\", bins=die_bins, stat=\"percent\", discrete=True )\n",
        "\n",
        "    ax.set_title(\"Sample size =\" + str(n))\n",
        "    plt.show()"
      ]
    },
    {
      "cell_type": "code",
      "execution_count": 13,
      "metadata": {
        "colab": {
          "base_uri": "https://localhost:8080/",
          "height": 480
        },
        "id": "o63XIKQ-Htxk",
        "outputId": "7f4b14c2-d961-4f4c-a1e5-37918807ca5f"
      },
      "outputs": [
        {
          "name": "stderr",
          "output_type": "stream",
          "text": [
            "c:\\Users\\rnjsa\\anaconda3\\Lib\\site-packages\\seaborn\\_oldcore.py:1119: FutureWarning: use_inf_as_na option is deprecated and will be removed in a future version. Convert inf values to NaN before operating instead.\n",
            "  with pd.option_context('mode.use_inf_as_na', True):\n"
          ]
        },
        {
          "data": {
            "image/png": "[encoded data removed]",
            "text/plain": [
              "<Figure size 640x480 with 1 Axes>"
            ]
          },
          "metadata": {},
          "output_type": "display_data"
        }
      ],
      "source": [
        "empirical_hist_die(10)"
      ]
    },
    {
      "cell_type": "code",
      "execution_count": 14,
      "metadata": {
        "colab": {
          "base_uri": "https://localhost:8080/",
          "height": 480
        },
        "id": "YptnjEI5Hxtp",
        "outputId": "babdba07-c5a7-4851-fc63-4ad47ff26cec"
      },
      "outputs": [
        {
          "name": "stderr",
          "output_type": "stream",
          "text": [
            "c:\\Users\\rnjsa\\anaconda3\\Lib\\site-packages\\seaborn\\_oldcore.py:1119: FutureWarning: use_inf_as_na option is deprecated and will be removed in a future version. Convert inf values to NaN before operating instead.\n",
            "  with pd.option_context('mode.use_inf_as_na', True):\n"
          ]
        },
        {
          "data": {
            "image/png": "[encoded data removed]",
            "text/plain": [
              "<Figure size 640x480 with 1 Axes>"
            ]
          },
          "metadata": {},
          "output_type": "display_data"
        }
      ],
      "source": [
        "empirical_hist_die(100)"
      ]
    },
    {
      "cell_type": "code",
      "execution_count": 15,
      "metadata": {
        "colab": {
          "base_uri": "https://localhost:8080/",
          "height": 480
        },
        "id": "EbxXSNixH9-K",
        "outputId": "7caa1ebe-5aa5-463f-dcd0-77d5910b49a4"
      },
      "outputs": [
        {
          "name": "stderr",
          "output_type": "stream",
          "text": [
            "c:\\Users\\rnjsa\\anaconda3\\Lib\\site-packages\\seaborn\\_oldcore.py:1119: FutureWarning: use_inf_as_na option is deprecated and will be removed in a future version. Convert inf values to NaN before operating instead.\n",
            "  with pd.option_context('mode.use_inf_as_na', True):\n"
          ]
        },
        {
          "data": {
            "image/png": "[encoded data removed]",
            "text/plain": [
              "<Figure size 640x480 with 1 Axes>"
            ]
          },
          "metadata": {},
          "output_type": "display_data"
        }
      ],
      "source": [
        "empirical_hist_die(1000)"
      ]
    },
    {
      "cell_type": "markdown",
      "metadata": {
        "id": "61evmUcUOzGY"
      },
      "source": [
        "**Large Random Samples**"
      ]
    },
    {
      "cell_type": "code",
      "execution_count": 16,
      "metadata": {
        "colab": {
          "base_uri": "https://localhost:8080/",
          "height": 74
        },
        "id": "Qmr7pJaSO0cc",
        "outputId": "7138fa9e-2a8c-422a-b0dc-c2ab6767d4b9"
      },
      "outputs": [],
      "source": [
        "# # upload actor.csv file\n",
        "# from google.colab import files\n",
        "# file_uploaded = files.upload()"
      ]
    },
    {
      "cell_type": "code",
      "execution_count": 17,
      "metadata": {
        "colab": {
          "base_uri": "https://localhost:8080/",
          "height": 424
        },
        "id": "zXPm-4nZO97j",
        "outputId": "0b48ef57-da37-4119-d3a7-a632583ffddb"
      },
      "outputs": [
        {
          "data": {
            "text/html": [
              "<div>\n",
              "<style scoped>\n",
              "    .dataframe tbody tr th:only-of-type {\n",
              "        vertical-align: middle;\n",
              "    }\n",
              "\n",
              "    .dataframe tbody tr th {\n",
              "        vertical-align: top;\n",
              "    }\n",
              "\n",
              "    .dataframe thead th {\n",
              "        text-align: right;\n",
              "    }\n",
              "</style>\n",
              "<table border=\"1\" class=\"dataframe\">\n",
              "  <thead>\n",
              "    <tr style=\"text-align: right;\">\n",
              "      <th></th>\n",
              "      <th>Date</th>\n",
              "      <th>Flight Number</th>\n",
              "      <th>Destination</th>\n",
              "      <th>Delay</th>\n",
              "    </tr>\n",
              "  </thead>\n",
              "  <tbody>\n",
              "    <tr>\n",
              "      <th>0</th>\n",
              "      <td>6/1/15</td>\n",
              "      <td>73</td>\n",
              "      <td>HNL</td>\n",
              "      <td>257</td>\n",
              "    </tr>\n",
              "    <tr>\n",
              "      <th>1</th>\n",
              "      <td>6/1/15</td>\n",
              "      <td>217</td>\n",
              "      <td>EWR</td>\n",
              "      <td>28</td>\n",
              "    </tr>\n",
              "    <tr>\n",
              "      <th>2</th>\n",
              "      <td>6/1/15</td>\n",
              "      <td>237</td>\n",
              "      <td>STL</td>\n",
              "      <td>-3</td>\n",
              "    </tr>\n",
              "    <tr>\n",
              "      <th>3</th>\n",
              "      <td>6/1/15</td>\n",
              "      <td>250</td>\n",
              "      <td>SAN</td>\n",
              "      <td>0</td>\n",
              "    </tr>\n",
              "    <tr>\n",
              "      <th>4</th>\n",
              "      <td>6/1/15</td>\n",
              "      <td>267</td>\n",
              "      <td>PHL</td>\n",
              "      <td>64</td>\n",
              "    </tr>\n",
              "    <tr>\n",
              "      <th>...</th>\n",
              "      <td>...</td>\n",
              "      <td>...</td>\n",
              "      <td>...</td>\n",
              "      <td>...</td>\n",
              "    </tr>\n",
              "    <tr>\n",
              "      <th>13820</th>\n",
              "      <td>8/31/15</td>\n",
              "      <td>1978</td>\n",
              "      <td>LAS</td>\n",
              "      <td>-4</td>\n",
              "    </tr>\n",
              "    <tr>\n",
              "      <th>13821</th>\n",
              "      <td>8/31/15</td>\n",
              "      <td>1993</td>\n",
              "      <td>IAD</td>\n",
              "      <td>8</td>\n",
              "    </tr>\n",
              "    <tr>\n",
              "      <th>13822</th>\n",
              "      <td>8/31/15</td>\n",
              "      <td>1994</td>\n",
              "      <td>ORD</td>\n",
              "      <td>3</td>\n",
              "    </tr>\n",
              "    <tr>\n",
              "      <th>13823</th>\n",
              "      <td>8/31/15</td>\n",
              "      <td>2000</td>\n",
              "      <td>PHX</td>\n",
              "      <td>-1</td>\n",
              "    </tr>\n",
              "    <tr>\n",
              "      <th>13824</th>\n",
              "      <td>8/31/15</td>\n",
              "      <td>2013</td>\n",
              "      <td>EWR</td>\n",
              "      <td>-2</td>\n",
              "    </tr>\n",
              "  </tbody>\n",
              "</table>\n",
              "<p>13825 rows × 4 columns</p>\n",
              "</div>"
            ],
            "text/plain": [
              "          Date  Flight Number Destination  Delay\n",
              "0       6/1/15             73         HNL    257\n",
              "1       6/1/15            217         EWR     28\n",
              "2       6/1/15            237         STL     -3\n",
              "3       6/1/15            250         SAN      0\n",
              "4       6/1/15            267         PHL     64\n",
              "...        ...            ...         ...    ...\n",
              "13820  8/31/15           1978         LAS     -4\n",
              "13821  8/31/15           1993         IAD      8\n",
              "13822  8/31/15           1994         ORD      3\n",
              "13823  8/31/15           2000         PHX     -1\n",
              "13824  8/31/15           2013         EWR     -2\n",
              "\n",
              "[13825 rows x 4 columns]"
            ]
          },
          "execution_count": 17,
          "metadata": {},
          "output_type": "execute_result"
        }
      ],
      "source": [
        "united = pd.read_csv('united_summer2015.csv')\n",
        "united"
      ]
    },
    {
      "cell_type": "code",
      "execution_count": 18,
      "metadata": {
        "colab": {
          "base_uri": "https://localhost:8080/"
        },
        "id": "q9EbavhdPKXP",
        "outputId": "9b54b6e4-aebb-4d70-ad0c-15f324a0dad7"
      },
      "outputs": [
        {
          "data": {
            "text/plain": [
              "-16"
            ]
          },
          "execution_count": 18,
          "metadata": {},
          "output_type": "execute_result"
        }
      ],
      "source": [
        "united.Delay.min()"
      ]
    },
    {
      "cell_type": "code",
      "execution_count": 19,
      "metadata": {
        "colab": {
          "base_uri": "https://localhost:8080/"
        },
        "id": "jixb3l4ePMss",
        "outputId": "b3e04c56-105f-4fa6-c761-56c48de88438"
      },
      "outputs": [
        {
          "data": {
            "text/plain": [
              "580"
            ]
          },
          "execution_count": 19,
          "metadata": {},
          "output_type": "execute_result"
        }
      ],
      "source": [
        "united.Delay.max()"
      ]
    },
    {
      "cell_type": "code",
      "execution_count": 20,
      "metadata": {
        "colab": {
          "base_uri": "https://localhost:8080/"
        },
        "id": "zj6D5i7wRJea",
        "outputId": "7f782726-85c7-49b3-ca44-de9c082e25ab"
      },
      "outputs": [
        {
          "data": {
            "text/plain": [
              "array([-20, -10,   0,  10,  20,  30,  40,  50,  60,  70,  80,  90, 100,\n",
              "       110, 120, 130, 140, 150, 160, 170, 180, 190, 200, 210, 220, 230,\n",
              "       240, 250, 260, 270, 280, 290, 300, 600])"
            ]
          },
          "execution_count": 20,
          "metadata": {},
          "output_type": "execute_result"
        }
      ],
      "source": [
        "delay_bins = np.append(np.arange(-20, 301, 10), 600)\n",
        "delay_bins"
      ]
    },
    {
      "cell_type": "code",
      "execution_count": 21,
      "metadata": {
        "colab": {
          "base_uri": "https://localhost:8080/",
          "height": 1000
        },
        "id": "Vsuwpx4hRsj3",
        "outputId": "dbf364f0-0492-4dc4-da47-00a2446e4668"
      },
      "outputs": [
        {
          "name": "stderr",
          "output_type": "stream",
          "text": [
            "C:\\Users\\rnjsa\\AppData\\Local\\Temp\\ipykernel_13552\\35960793.py:2: FutureWarning: The default of observed=False is deprecated and will be changed to True in a future version of pandas. Pass observed=False to retain current behavior or observed=True to adopt the future default and silence this warning.\n",
            "  bins = united.groupby(pd.cut(united['Delay'], delay_bins, right=False))\n"
          ]
        },
        {
          "data": {
            "text/html": [
              "<div>\n",
              "<style scoped>\n",
              "    .dataframe tbody tr th:only-of-type {\n",
              "        vertical-align: middle;\n",
              "    }\n",
              "\n",
              "    .dataframe tbody tr th {\n",
              "        vertical-align: top;\n",
              "    }\n",
              "\n",
              "    .dataframe thead th {\n",
              "        text-align: right;\n",
              "    }\n",
              "</style>\n",
              "<table border=\"1\" class=\"dataframe\">\n",
              "  <thead>\n",
              "    <tr style=\"text-align: right;\">\n",
              "      <th></th>\n",
              "      <th>bins</th>\n",
              "      <th>Delay Count</th>\n",
              "    </tr>\n",
              "  </thead>\n",
              "  <tbody>\n",
              "    <tr>\n",
              "      <th>0</th>\n",
              "      <td>[-20, -10)</td>\n",
              "      <td>55</td>\n",
              "    </tr>\n",
              "    <tr>\n",
              "      <th>1</th>\n",
              "      <td>[-10, 0)</td>\n",
              "      <td>4994</td>\n",
              "    </tr>\n",
              "    <tr>\n",
              "      <th>2</th>\n",
              "      <td>[0, 10)</td>\n",
              "      <td>4059</td>\n",
              "    </tr>\n",
              "    <tr>\n",
              "      <th>3</th>\n",
              "      <td>[10, 20)</td>\n",
              "      <td>1445</td>\n",
              "    </tr>\n",
              "    <tr>\n",
              "      <th>4</th>\n",
              "      <td>[20, 30)</td>\n",
              "      <td>773</td>\n",
              "    </tr>\n",
              "    <tr>\n",
              "      <th>5</th>\n",
              "      <td>[30, 40)</td>\n",
              "      <td>590</td>\n",
              "    </tr>\n",
              "    <tr>\n",
              "      <th>6</th>\n",
              "      <td>[40, 50)</td>\n",
              "      <td>357</td>\n",
              "    </tr>\n",
              "    <tr>\n",
              "      <th>7</th>\n",
              "      <td>[50, 60)</td>\n",
              "      <td>301</td>\n",
              "    </tr>\n",
              "    <tr>\n",
              "      <th>8</th>\n",
              "      <td>[60, 70)</td>\n",
              "      <td>216</td>\n",
              "    </tr>\n",
              "    <tr>\n",
              "      <th>9</th>\n",
              "      <td>[70, 80)</td>\n",
              "      <td>192</td>\n",
              "    </tr>\n",
              "    <tr>\n",
              "      <th>10</th>\n",
              "      <td>[80, 90)</td>\n",
              "      <td>152</td>\n",
              "    </tr>\n",
              "    <tr>\n",
              "      <th>11</th>\n",
              "      <td>[90, 100)</td>\n",
              "      <td>138</td>\n",
              "    </tr>\n",
              "    <tr>\n",
              "      <th>12</th>\n",
              "      <td>[100, 110)</td>\n",
              "      <td>91</td>\n",
              "    </tr>\n",
              "    <tr>\n",
              "      <th>13</th>\n",
              "      <td>[110, 120)</td>\n",
              "      <td>72</td>\n",
              "    </tr>\n",
              "    <tr>\n",
              "      <th>14</th>\n",
              "      <td>[120, 130)</td>\n",
              "      <td>70</td>\n",
              "    </tr>\n",
              "    <tr>\n",
              "      <th>15</th>\n",
              "      <td>[130, 140)</td>\n",
              "      <td>45</td>\n",
              "    </tr>\n",
              "    <tr>\n",
              "      <th>16</th>\n",
              "      <td>[140, 150)</td>\n",
              "      <td>37</td>\n",
              "    </tr>\n",
              "    <tr>\n",
              "      <th>17</th>\n",
              "      <td>[150, 160)</td>\n",
              "      <td>32</td>\n",
              "    </tr>\n",
              "    <tr>\n",
              "      <th>18</th>\n",
              "      <td>[160, 170)</td>\n",
              "      <td>25</td>\n",
              "    </tr>\n",
              "    <tr>\n",
              "      <th>19</th>\n",
              "      <td>[170, 180)</td>\n",
              "      <td>22</td>\n",
              "    </tr>\n",
              "    <tr>\n",
              "      <th>20</th>\n",
              "      <td>[180, 190)</td>\n",
              "      <td>22</td>\n",
              "    </tr>\n",
              "    <tr>\n",
              "      <th>21</th>\n",
              "      <td>[190, 200)</td>\n",
              "      <td>19</td>\n",
              "    </tr>\n",
              "    <tr>\n",
              "      <th>22</th>\n",
              "      <td>[200, 210)</td>\n",
              "      <td>22</td>\n",
              "    </tr>\n",
              "    <tr>\n",
              "      <th>23</th>\n",
              "      <td>[210, 220)</td>\n",
              "      <td>12</td>\n",
              "    </tr>\n",
              "    <tr>\n",
              "      <th>24</th>\n",
              "      <td>[220, 230)</td>\n",
              "      <td>12</td>\n",
              "    </tr>\n",
              "    <tr>\n",
              "      <th>25</th>\n",
              "      <td>[230, 240)</td>\n",
              "      <td>3</td>\n",
              "    </tr>\n",
              "    <tr>\n",
              "      <th>26</th>\n",
              "      <td>[240, 250)</td>\n",
              "      <td>6</td>\n",
              "    </tr>\n",
              "    <tr>\n",
              "      <th>27</th>\n",
              "      <td>[250, 260)</td>\n",
              "      <td>6</td>\n",
              "    </tr>\n",
              "    <tr>\n",
              "      <th>28</th>\n",
              "      <td>[260, 270)</td>\n",
              "      <td>5</td>\n",
              "    </tr>\n",
              "    <tr>\n",
              "      <th>29</th>\n",
              "      <td>[270, 280)</td>\n",
              "      <td>8</td>\n",
              "    </tr>\n",
              "    <tr>\n",
              "      <th>30</th>\n",
              "      <td>[280, 290)</td>\n",
              "      <td>1</td>\n",
              "    </tr>\n",
              "    <tr>\n",
              "      <th>31</th>\n",
              "      <td>[290, 300)</td>\n",
              "      <td>5</td>\n",
              "    </tr>\n",
              "    <tr>\n",
              "      <th>32</th>\n",
              "      <td>[300, 600)</td>\n",
              "      <td>38</td>\n",
              "    </tr>\n",
              "  </tbody>\n",
              "</table>\n",
              "</div>"
            ],
            "text/plain": [
              "          bins  Delay Count\n",
              "0   [-20, -10)           55\n",
              "1     [-10, 0)         4994\n",
              "2      [0, 10)         4059\n",
              "3     [10, 20)         1445\n",
              "4     [20, 30)          773\n",
              "5     [30, 40)          590\n",
              "6     [40, 50)          357\n",
              "7     [50, 60)          301\n",
              "8     [60, 70)          216\n",
              "9     [70, 80)          192\n",
              "10    [80, 90)          152\n",
              "11   [90, 100)          138\n",
              "12  [100, 110)           91\n",
              "13  [110, 120)           72\n",
              "14  [120, 130)           70\n",
              "15  [130, 140)           45\n",
              "16  [140, 150)           37\n",
              "17  [150, 160)           32\n",
              "18  [160, 170)           25\n",
              "19  [170, 180)           22\n",
              "20  [180, 190)           22\n",
              "21  [190, 200)           19\n",
              "22  [200, 210)           22\n",
              "23  [210, 220)           12\n",
              "24  [220, 230)           12\n",
              "25  [230, 240)            3\n",
              "26  [240, 250)            6\n",
              "27  [250, 260)            6\n",
              "28  [260, 270)            5\n",
              "29  [270, 280)            8\n",
              "30  [280, 290)            1\n",
              "31  [290, 300)            5\n",
              "32  [300, 600)           38"
            ]
          },
          "execution_count": 21,
          "metadata": {},
          "output_type": "execute_result"
        }
      ],
      "source": [
        "# Construct bins and Delay Count\n",
        "bins = united.groupby(pd.cut(united['Delay'], delay_bins, right=False))\n",
        "bins = pd.DataFrame(bins['Delay'].count().reset_index(name='Delay Count'))\n",
        "bins.rename(columns={'Delay': 'bins'}, inplace=True)\n",
        "bins"
      ]
    },
    {
      "cell_type": "code",
      "execution_count": 22,
      "metadata": {
        "colab": {
          "base_uri": "https://localhost:8080/",
          "height": 1000
        },
        "id": "S24seo83STwQ",
        "outputId": "c9b13235-5b94-4546-9b73-0c4898a8e4ed"
      },
      "outputs": [
        {
          "data": {
            "text/html": [
              "<div>\n",
              "<style scoped>\n",
              "    .dataframe tbody tr th:only-of-type {\n",
              "        vertical-align: middle;\n",
              "    }\n",
              "\n",
              "    .dataframe tbody tr th {\n",
              "        vertical-align: top;\n",
              "    }\n",
              "\n",
              "    .dataframe thead th {\n",
              "        text-align: right;\n",
              "    }\n",
              "</style>\n",
              "<table border=\"1\" class=\"dataframe\">\n",
              "  <thead>\n",
              "    <tr style=\"text-align: right;\">\n",
              "      <th></th>\n",
              "      <th>bins</th>\n",
              "      <th>Delay Count</th>\n",
              "      <th>Percent %</th>\n",
              "    </tr>\n",
              "  </thead>\n",
              "  <tbody>\n",
              "    <tr>\n",
              "      <th>0</th>\n",
              "      <td>[-20, -10)</td>\n",
              "      <td>55</td>\n",
              "      <td>0.398</td>\n",
              "    </tr>\n",
              "    <tr>\n",
              "      <th>1</th>\n",
              "      <td>[-10, 0)</td>\n",
              "      <td>4994</td>\n",
              "      <td>36.123</td>\n",
              "    </tr>\n",
              "    <tr>\n",
              "      <th>2</th>\n",
              "      <td>[0, 10)</td>\n",
              "      <td>4059</td>\n",
              "      <td>29.360</td>\n",
              "    </tr>\n",
              "    <tr>\n",
              "      <th>3</th>\n",
              "      <td>[10, 20)</td>\n",
              "      <td>1445</td>\n",
              "      <td>10.452</td>\n",
              "    </tr>\n",
              "    <tr>\n",
              "      <th>4</th>\n",
              "      <td>[20, 30)</td>\n",
              "      <td>773</td>\n",
              "      <td>5.591</td>\n",
              "    </tr>\n",
              "    <tr>\n",
              "      <th>5</th>\n",
              "      <td>[30, 40)</td>\n",
              "      <td>590</td>\n",
              "      <td>4.268</td>\n",
              "    </tr>\n",
              "    <tr>\n",
              "      <th>6</th>\n",
              "      <td>[40, 50)</td>\n",
              "      <td>357</td>\n",
              "      <td>2.582</td>\n",
              "    </tr>\n",
              "    <tr>\n",
              "      <th>7</th>\n",
              "      <td>[50, 60)</td>\n",
              "      <td>301</td>\n",
              "      <td>2.177</td>\n",
              "    </tr>\n",
              "    <tr>\n",
              "      <th>8</th>\n",
              "      <td>[60, 70)</td>\n",
              "      <td>216</td>\n",
              "      <td>1.562</td>\n",
              "    </tr>\n",
              "    <tr>\n",
              "      <th>9</th>\n",
              "      <td>[70, 80)</td>\n",
              "      <td>192</td>\n",
              "      <td>1.389</td>\n",
              "    </tr>\n",
              "    <tr>\n",
              "      <th>10</th>\n",
              "      <td>[80, 90)</td>\n",
              "      <td>152</td>\n",
              "      <td>1.099</td>\n",
              "    </tr>\n",
              "    <tr>\n",
              "      <th>11</th>\n",
              "      <td>[90, 100)</td>\n",
              "      <td>138</td>\n",
              "      <td>0.998</td>\n",
              "    </tr>\n",
              "    <tr>\n",
              "      <th>12</th>\n",
              "      <td>[100, 110)</td>\n",
              "      <td>91</td>\n",
              "      <td>0.658</td>\n",
              "    </tr>\n",
              "    <tr>\n",
              "      <th>13</th>\n",
              "      <td>[110, 120)</td>\n",
              "      <td>72</td>\n",
              "      <td>0.521</td>\n",
              "    </tr>\n",
              "    <tr>\n",
              "      <th>14</th>\n",
              "      <td>[120, 130)</td>\n",
              "      <td>70</td>\n",
              "      <td>0.506</td>\n",
              "    </tr>\n",
              "    <tr>\n",
              "      <th>15</th>\n",
              "      <td>[130, 140)</td>\n",
              "      <td>45</td>\n",
              "      <td>0.325</td>\n",
              "    </tr>\n",
              "    <tr>\n",
              "      <th>16</th>\n",
              "      <td>[140, 150)</td>\n",
              "      <td>37</td>\n",
              "      <td>0.268</td>\n",
              "    </tr>\n",
              "    <tr>\n",
              "      <th>17</th>\n",
              "      <td>[150, 160)</td>\n",
              "      <td>32</td>\n",
              "      <td>0.231</td>\n",
              "    </tr>\n",
              "    <tr>\n",
              "      <th>18</th>\n",
              "      <td>[160, 170)</td>\n",
              "      <td>25</td>\n",
              "      <td>0.181</td>\n",
              "    </tr>\n",
              "    <tr>\n",
              "      <th>19</th>\n",
              "      <td>[170, 180)</td>\n",
              "      <td>22</td>\n",
              "      <td>0.159</td>\n",
              "    </tr>\n",
              "    <tr>\n",
              "      <th>20</th>\n",
              "      <td>[180, 190)</td>\n",
              "      <td>22</td>\n",
              "      <td>0.159</td>\n",
              "    </tr>\n",
              "    <tr>\n",
              "      <th>21</th>\n",
              "      <td>[190, 200)</td>\n",
              "      <td>19</td>\n",
              "      <td>0.137</td>\n",
              "    </tr>\n",
              "    <tr>\n",
              "      <th>22</th>\n",
              "      <td>[200, 210)</td>\n",
              "      <td>22</td>\n",
              "      <td>0.159</td>\n",
              "    </tr>\n",
              "    <tr>\n",
              "      <th>23</th>\n",
              "      <td>[210, 220)</td>\n",
              "      <td>12</td>\n",
              "      <td>0.087</td>\n",
              "    </tr>\n",
              "    <tr>\n",
              "      <th>24</th>\n",
              "      <td>[220, 230)</td>\n",
              "      <td>12</td>\n",
              "      <td>0.087</td>\n",
              "    </tr>\n",
              "    <tr>\n",
              "      <th>25</th>\n",
              "      <td>[230, 240)</td>\n",
              "      <td>3</td>\n",
              "      <td>0.022</td>\n",
              "    </tr>\n",
              "    <tr>\n",
              "      <th>26</th>\n",
              "      <td>[240, 250)</td>\n",
              "      <td>6</td>\n",
              "      <td>0.043</td>\n",
              "    </tr>\n",
              "    <tr>\n",
              "      <th>27</th>\n",
              "      <td>[250, 260)</td>\n",
              "      <td>6</td>\n",
              "      <td>0.043</td>\n",
              "    </tr>\n",
              "    <tr>\n",
              "      <th>28</th>\n",
              "      <td>[260, 270)</td>\n",
              "      <td>5</td>\n",
              "      <td>0.036</td>\n",
              "    </tr>\n",
              "    <tr>\n",
              "      <th>29</th>\n",
              "      <td>[270, 280)</td>\n",
              "      <td>8</td>\n",
              "      <td>0.058</td>\n",
              "    </tr>\n",
              "    <tr>\n",
              "      <th>30</th>\n",
              "      <td>[280, 290)</td>\n",
              "      <td>1</td>\n",
              "      <td>0.007</td>\n",
              "    </tr>\n",
              "    <tr>\n",
              "      <th>31</th>\n",
              "      <td>[290, 300)</td>\n",
              "      <td>5</td>\n",
              "      <td>0.036</td>\n",
              "    </tr>\n",
              "    <tr>\n",
              "      <th>32</th>\n",
              "      <td>[300, 600)</td>\n",
              "      <td>38</td>\n",
              "      <td>0.275</td>\n",
              "    </tr>\n",
              "  </tbody>\n",
              "</table>\n",
              "</div>"
            ],
            "text/plain": [
              "          bins  Delay Count  Percent %\n",
              "0   [-20, -10)           55      0.398\n",
              "1     [-10, 0)         4994     36.123\n",
              "2      [0, 10)         4059     29.360\n",
              "3     [10, 20)         1445     10.452\n",
              "4     [20, 30)          773      5.591\n",
              "5     [30, 40)          590      4.268\n",
              "6     [40, 50)          357      2.582\n",
              "7     [50, 60)          301      2.177\n",
              "8     [60, 70)          216      1.562\n",
              "9     [70, 80)          192      1.389\n",
              "10    [80, 90)          152      1.099\n",
              "11   [90, 100)          138      0.998\n",
              "12  [100, 110)           91      0.658\n",
              "13  [110, 120)           72      0.521\n",
              "14  [120, 130)           70      0.506\n",
              "15  [130, 140)           45      0.325\n",
              "16  [140, 150)           37      0.268\n",
              "17  [150, 160)           32      0.231\n",
              "18  [160, 170)           25      0.181\n",
              "19  [170, 180)           22      0.159\n",
              "20  [180, 190)           22      0.159\n",
              "21  [190, 200)           19      0.137\n",
              "22  [200, 210)           22      0.159\n",
              "23  [210, 220)           12      0.087\n",
              "24  [220, 230)           12      0.087\n",
              "25  [230, 240)            3      0.022\n",
              "26  [240, 250)            6      0.043\n",
              "27  [250, 260)            6      0.043\n",
              "28  [260, 270)            5      0.036\n",
              "29  [270, 280)            8      0.058\n",
              "30  [280, 290)            1      0.007\n",
              "31  [290, 300)            5      0.036\n",
              "32  [300, 600)           38      0.275"
            ]
          },
          "execution_count": 22,
          "metadata": {},
          "output_type": "execute_result"
        }
      ],
      "source": [
        "# Define population. Since we only extract -20 < Delay < 201, we set this part of data as population.\n",
        "data_amount = len(united[(-20 < united['Delay']) & (united['Delay'] < 600)])\n",
        "\n",
        "# Add percent data to bins\n",
        "bins['Percent %'] = round(bins['Delay Count']/data_amount*100, 3)\n",
        "bins"
      ]
    },
    {
      "cell_type": "code",
      "execution_count": 23,
      "metadata": {
        "colab": {
          "base_uri": "https://localhost:8080/",
          "height": 480
        },
        "id": "boWjs-xxP5Hi",
        "outputId": "64a444e2-1987-44d0-e331-4ac1a7770479"
      },
      "outputs": [
        {
          "name": "stderr",
          "output_type": "stream",
          "text": [
            "c:\\Users\\rnjsa\\anaconda3\\Lib\\site-packages\\seaborn\\_oldcore.py:1119: FutureWarning: use_inf_as_na option is deprecated and will be removed in a future version. Convert inf values to NaN before operating instead.\n",
            "  with pd.option_context('mode.use_inf_as_na', True):\n"
          ]
        },
        {
          "data": {
            "image/png": "[encoded data removed]",
            "text/plain": [
              "<Figure size 640x480 with 1 Axes>"
            ]
          },
          "metadata": {},
          "output_type": "display_data"
        }
      ],
      "source": [
        "delay_bins = np.append(np.arange(-20, 301, 10), 600)\n",
        "# draw histogram\n",
        "fig, ax = plt.subplots()\n",
        "ax=sns.histplot(data=united, x=\"Delay\", bins=delay_bins, stat=\"percent\", discrete=False)\n",
        "ax.set_ylabel(\"Percent\")\n",
        "ax.set_xlabel(\"Delay (minutes)\")\n",
        "ax.set_title(\"Delays\")\n",
        "\n",
        "plt.show()"
      ]
    },
    {
      "cell_type": "code",
      "execution_count": 24,
      "metadata": {
        "id": "9QiTkxEmXru-"
      },
      "outputs": [],
      "source": [
        "# Define Empirical Histogram Function\n",
        "def empirical_hist_delay(n):\n",
        "    # Extract sample\n",
        "    united_sample = united.sample(n=n, replace=True, random_state=2023)\n",
        "\n",
        "    # set delays_bins, only consider minutes in  -20 < delay <= 200\n",
        "    delay_bins = np.arange(-20, 201, 10)\n",
        "    # draw histogram\n",
        "    fig, ax = plt.subplots()\n",
        "    ax=sns.histplot(data=united_sample, x=\"Delay\", bins=delay_bins, stat=\"percent\", discrete=False)\n",
        "    ax.set_ylabel(\"Percent\")\n",
        "    ax.set_xlabel(\"Delay (minutes)\")\n",
        "    ax.set_title('Sample Size = ' + str(n))\n",
        "\n",
        "    plt.show()"
      ]
    },
    {
      "cell_type": "code",
      "execution_count": 25,
      "metadata": {
        "colab": {
          "base_uri": "https://localhost:8080/",
          "height": 480
        },
        "id": "nIctq0ZhYu9g",
        "outputId": "96c40f28-cc7c-47a4-ba50-455b7352b619"
      },
      "outputs": [
        {
          "name": "stderr",
          "output_type": "stream",
          "text": [
            "c:\\Users\\rnjsa\\anaconda3\\Lib\\site-packages\\seaborn\\_oldcore.py:1119: FutureWarning: use_inf_as_na option is deprecated and will be removed in a future version. Convert inf values to NaN before operating instead.\n",
            "  with pd.option_context('mode.use_inf_as_na', True):\n"
          ]
        },
        {
          "data": {
            "image/png": "[encoded data removed]",
            "text/plain": [
              "<Figure size 640x480 with 1 Axes>"
            ]
          },
          "metadata": {},
          "output_type": "display_data"
        }
      ],
      "source": [
        "empirical_hist_delay(10)"
      ]
    },
    {
      "cell_type": "code",
      "execution_count": 26,
      "metadata": {
        "colab": {
          "base_uri": "https://localhost:8080/",
          "height": 480
        },
        "id": "CzfShkz4Y3JO",
        "outputId": "b5c8a88f-9d19-467d-beae-2d1d39c138b0"
      },
      "outputs": [
        {
          "name": "stderr",
          "output_type": "stream",
          "text": [
            "c:\\Users\\rnjsa\\anaconda3\\Lib\\site-packages\\seaborn\\_oldcore.py:1119: FutureWarning: use_inf_as_na option is deprecated and will be removed in a future version. Convert inf values to NaN before operating instead.\n",
            "  with pd.option_context('mode.use_inf_as_na', True):\n"
          ]
        },
        {
          "data": {
            "image/png": "[encoded data removed]",
            "text/plain": [
              "<Figure size 640x480 with 1 Axes>"
            ]
          },
          "metadata": {},
          "output_type": "display_data"
        }
      ],
      "source": [
        "empirical_hist_delay(100)"
      ]
    },
    {
      "cell_type": "code",
      "execution_count": 27,
      "metadata": {
        "colab": {
          "base_uri": "https://localhost:8080/",
          "height": 480
        },
        "id": "1ufjinyQY8n1",
        "outputId": "5e6e8b43-0ff3-4d16-fb53-0f874286efdd"
      },
      "outputs": [
        {
          "name": "stderr",
          "output_type": "stream",
          "text": [
            "c:\\Users\\rnjsa\\anaconda3\\Lib\\site-packages\\seaborn\\_oldcore.py:1119: FutureWarning: use_inf_as_na option is deprecated and will be removed in a future version. Convert inf values to NaN before operating instead.\n",
            "  with pd.option_context('mode.use_inf_as_na', True):\n"
          ]
        },
        {
          "data": {
            "image/png": "[encoded data removed]",
            "text/plain": [
              "<Figure size 640x480 with 1 Axes>"
            ]
          },
          "metadata": {},
          "output_type": "display_data"
        }
      ],
      "source": [
        "empirical_hist_delay(1000)"
      ]
    },
    {
      "cell_type": "markdown",
      "metadata": {
        "id": "E6-_xODAa9q9"
      },
      "source": [
        "**Simulating Statistics**"
      ]
    },
    {
      "cell_type": "code",
      "execution_count": 28,
      "metadata": {
        "colab": {
          "base_uri": "https://localhost:8080/",
          "height": 424
        },
        "id": "K5JF-ciWa8VC",
        "outputId": "f338fc5e-1d5d-49a5-d4e5-99f958f4d21c"
      },
      "outputs": [
        {
          "data": {
            "text/html": [
              "<div>\n",
              "<style scoped>\n",
              "    .dataframe tbody tr th:only-of-type {\n",
              "        vertical-align: middle;\n",
              "    }\n",
              "\n",
              "    .dataframe tbody tr th {\n",
              "        vertical-align: top;\n",
              "    }\n",
              "\n",
              "    .dataframe thead th {\n",
              "        text-align: right;\n",
              "    }\n",
              "</style>\n",
              "<table border=\"1\" class=\"dataframe\">\n",
              "  <thead>\n",
              "    <tr style=\"text-align: right;\">\n",
              "      <th></th>\n",
              "      <th>Date</th>\n",
              "      <th>Flight Number</th>\n",
              "      <th>Destination</th>\n",
              "      <th>Delay</th>\n",
              "    </tr>\n",
              "  </thead>\n",
              "  <tbody>\n",
              "    <tr>\n",
              "      <th>0</th>\n",
              "      <td>6/1/15</td>\n",
              "      <td>73</td>\n",
              "      <td>HNL</td>\n",
              "      <td>257</td>\n",
              "    </tr>\n",
              "    <tr>\n",
              "      <th>1</th>\n",
              "      <td>6/1/15</td>\n",
              "      <td>217</td>\n",
              "      <td>EWR</td>\n",
              "      <td>28</td>\n",
              "    </tr>\n",
              "    <tr>\n",
              "      <th>2</th>\n",
              "      <td>6/1/15</td>\n",
              "      <td>237</td>\n",
              "      <td>STL</td>\n",
              "      <td>-3</td>\n",
              "    </tr>\n",
              "    <tr>\n",
              "      <th>3</th>\n",
              "      <td>6/1/15</td>\n",
              "      <td>250</td>\n",
              "      <td>SAN</td>\n",
              "      <td>0</td>\n",
              "    </tr>\n",
              "    <tr>\n",
              "      <th>4</th>\n",
              "      <td>6/1/15</td>\n",
              "      <td>267</td>\n",
              "      <td>PHL</td>\n",
              "      <td>64</td>\n",
              "    </tr>\n",
              "    <tr>\n",
              "      <th>...</th>\n",
              "      <td>...</td>\n",
              "      <td>...</td>\n",
              "      <td>...</td>\n",
              "      <td>...</td>\n",
              "    </tr>\n",
              "    <tr>\n",
              "      <th>13820</th>\n",
              "      <td>8/31/15</td>\n",
              "      <td>1978</td>\n",
              "      <td>LAS</td>\n",
              "      <td>-4</td>\n",
              "    </tr>\n",
              "    <tr>\n",
              "      <th>13821</th>\n",
              "      <td>8/31/15</td>\n",
              "      <td>1993</td>\n",
              "      <td>IAD</td>\n",
              "      <td>8</td>\n",
              "    </tr>\n",
              "    <tr>\n",
              "      <th>13822</th>\n",
              "      <td>8/31/15</td>\n",
              "      <td>1994</td>\n",
              "      <td>ORD</td>\n",
              "      <td>3</td>\n",
              "    </tr>\n",
              "    <tr>\n",
              "      <th>13823</th>\n",
              "      <td>8/31/15</td>\n",
              "      <td>2000</td>\n",
              "      <td>PHX</td>\n",
              "      <td>-1</td>\n",
              "    </tr>\n",
              "    <tr>\n",
              "      <th>13824</th>\n",
              "      <td>8/31/15</td>\n",
              "      <td>2013</td>\n",
              "      <td>EWR</td>\n",
              "      <td>-2</td>\n",
              "    </tr>\n",
              "  </tbody>\n",
              "</table>\n",
              "<p>13825 rows × 4 columns</p>\n",
              "</div>"
            ],
            "text/plain": [
              "          Date  Flight Number Destination  Delay\n",
              "0       6/1/15             73         HNL    257\n",
              "1       6/1/15            217         EWR     28\n",
              "2       6/1/15            237         STL     -3\n",
              "3       6/1/15            250         SAN      0\n",
              "4       6/1/15            267         PHL     64\n",
              "...        ...            ...         ...    ...\n",
              "13820  8/31/15           1978         LAS     -4\n",
              "13821  8/31/15           1993         IAD      8\n",
              "13822  8/31/15           1994         ORD      3\n",
              "13823  8/31/15           2000         PHX     -1\n",
              "13824  8/31/15           2013         EWR     -2\n",
              "\n",
              "[13825 rows x 4 columns]"
            ]
          },
          "execution_count": 28,
          "metadata": {},
          "output_type": "execute_result"
        }
      ],
      "source": [
        "united = pd.read_csv('united_summer2015.csv')\n",
        "united"
      ]
    },
    {
      "cell_type": "code",
      "execution_count": 29,
      "metadata": {
        "colab": {
          "base_uri": "https://localhost:8080/"
        },
        "id": "y3Ta-FWHbXUF",
        "outputId": "7cd08157-ad1c-4c42-f0d0-e58d20072981"
      },
      "outputs": [
        {
          "data": {
            "text/plain": [
              "2.0"
            ]
          },
          "execution_count": 29,
          "metadata": {},
          "output_type": "execute_result"
        }
      ],
      "source": [
        "# Median of Delay\n",
        "np.median(united.Delay)\n",
        "# 2.0"
      ]
    },
    {
      "cell_type": "code",
      "execution_count": 30,
      "metadata": {
        "colab": {
          "base_uri": "https://localhost:8080/"
        },
        "id": "UjODOxcybfzl",
        "outputId": "c1eee789-300e-4b18-edd4-dfbdd506ba5b"
      },
      "outputs": [
        {
          "data": {
            "text/plain": [
              "0.5018444846292948"
            ]
          },
          "execution_count": 30,
          "metadata": {},
          "output_type": "execute_result"
        }
      ],
      "source": [
        "# Percentage of Delay that is lower or equal than 2.0\n",
        "len(united.loc[united.Delay <= 2.0])/len(united)\n",
        "# 0.5018444846292948"
      ]
    },
    {
      "cell_type": "code",
      "execution_count": 31,
      "metadata": {
        "colab": {
          "base_uri": "https://localhost:8080/"
        },
        "id": "ibLTCjEObxC7",
        "outputId": "9af9924f-3525-4132-b67b-2bc30367990e"
      },
      "outputs": [
        {
          "data": {
            "text/plain": [
              "480"
            ]
          },
          "execution_count": 31,
          "metadata": {},
          "output_type": "execute_result"
        }
      ],
      "source": [
        "# Amount of Delay that equal than 2.0\n",
        "len(united.loc[united.Delay == 2.0])"
      ]
    },
    {
      "cell_type": "code",
      "execution_count": 32,
      "metadata": {
        "colab": {
          "base_uri": "https://localhost:8080/"
        },
        "id": "0M48fNAKccCE",
        "outputId": "53c4ddf9-3616-49cb-e879-875e6e1c6795"
      },
      "outputs": [
        {
          "data": {
            "text/plain": [
              "3.0"
            ]
          },
          "execution_count": 32,
          "metadata": {},
          "output_type": "execute_result"
        }
      ],
      "source": [
        "# Define sample_1000\n",
        "sample_1000 = united.Delay.sample(n=1000, replace=True)\n",
        "\n",
        "# Median of smaple_1000\n",
        "np.median(sample_1000)\n"
      ]
    },
    {
      "cell_type": "code",
      "execution_count": 33,
      "metadata": {
        "colab": {
          "base_uri": "https://localhost:8080/"
        },
        "id": "DX_NoIC8dIgB",
        "outputId": "14168a17-866c-4783-98e4-0a1e51562a16"
      },
      "outputs": [
        {
          "data": {
            "text/plain": [
              "4.0"
            ]
          },
          "execution_count": 33,
          "metadata": {},
          "output_type": "execute_result"
        }
      ],
      "source": [
        "# Median of another 1000 sample from united\n",
        "np.median(united.sample(n=1000, replace=True).Delay)\n",
        "# 2.0"
      ]
    },
    {
      "cell_type": "code",
      "execution_count": 34,
      "metadata": {
        "id": "TsPV6iByeyIA"
      },
      "outputs": [],
      "source": [
        "# Define function to generate one value of the statistic\n",
        "def random_sample_median(size):\n",
        "    return np.median(united.sample(n=size, replace=True).Delay)"
      ]
    },
    {
      "cell_type": "code",
      "execution_count": 35,
      "metadata": {
        "id": "IqZOm1hefQ6t"
      },
      "outputs": [],
      "source": [
        "# Create Array medians to store repitions\n",
        "medians = np.array([])\n",
        "\n",
        "# Repeat the function 5,000 times.\n",
        "for i in np.arange(5000):\n",
        "    medians = np.append(medians, random_sample_median(1000))"
      ]
    },
    {
      "cell_type": "code",
      "execution_count": 36,
      "metadata": {
        "colab": {
          "base_uri": "https://localhost:8080/",
          "height": 424
        },
        "id": "veAj77XIfWCJ",
        "outputId": "710b6e3b-e41d-4e65-8b72-6ca895bec613"
      },
      "outputs": [
        {
          "data": {
            "text/html": [
              "<div>\n",
              "<style scoped>\n",
              "    .dataframe tbody tr th:only-of-type {\n",
              "        vertical-align: middle;\n",
              "    }\n",
              "\n",
              "    .dataframe tbody tr th {\n",
              "        vertical-align: top;\n",
              "    }\n",
              "\n",
              "    .dataframe thead th {\n",
              "        text-align: right;\n",
              "    }\n",
              "</style>\n",
              "<table border=\"1\" class=\"dataframe\">\n",
              "  <thead>\n",
              "    <tr style=\"text-align: right;\">\n",
              "      <th></th>\n",
              "      <th>Sample Median</th>\n",
              "    </tr>\n",
              "  </thead>\n",
              "  <tbody>\n",
              "    <tr>\n",
              "      <th>0</th>\n",
              "      <td>2.0</td>\n",
              "    </tr>\n",
              "    <tr>\n",
              "      <th>1</th>\n",
              "      <td>2.0</td>\n",
              "    </tr>\n",
              "    <tr>\n",
              "      <th>2</th>\n",
              "      <td>3.0</td>\n",
              "    </tr>\n",
              "    <tr>\n",
              "      <th>3</th>\n",
              "      <td>2.5</td>\n",
              "    </tr>\n",
              "    <tr>\n",
              "      <th>4</th>\n",
              "      <td>3.0</td>\n",
              "    </tr>\n",
              "    <tr>\n",
              "      <th>...</th>\n",
              "      <td>...</td>\n",
              "    </tr>\n",
              "    <tr>\n",
              "      <th>4995</th>\n",
              "      <td>2.0</td>\n",
              "    </tr>\n",
              "    <tr>\n",
              "      <th>4996</th>\n",
              "      <td>2.0</td>\n",
              "    </tr>\n",
              "    <tr>\n",
              "      <th>4997</th>\n",
              "      <td>3.0</td>\n",
              "    </tr>\n",
              "    <tr>\n",
              "      <th>4998</th>\n",
              "      <td>2.0</td>\n",
              "    </tr>\n",
              "    <tr>\n",
              "      <th>4999</th>\n",
              "      <td>2.0</td>\n",
              "    </tr>\n",
              "  </tbody>\n",
              "</table>\n",
              "<p>5000 rows × 1 columns</p>\n",
              "</div>"
            ],
            "text/plain": [
              "      Sample Median\n",
              "0               2.0\n",
              "1               2.0\n",
              "2               3.0\n",
              "3               2.5\n",
              "4               3.0\n",
              "...             ...\n",
              "4995            2.0\n",
              "4996            2.0\n",
              "4997            3.0\n",
              "4998            2.0\n",
              "4999            2.0\n",
              "\n",
              "[5000 rows x 1 columns]"
            ]
          },
          "execution_count": 36,
          "metadata": {},
          "output_type": "execute_result"
        }
      ],
      "source": [
        "# Createa DataFrame\n",
        "simulated_medians = pd.DataFrame({'Sample Median': medians})\n",
        "simulated_medians"
      ]
    },
    {
      "cell_type": "code",
      "execution_count": 37,
      "metadata": {
        "colab": {
          "base_uri": "https://localhost:8080/",
          "height": 480
        },
        "id": "0O7tuogOfa2T",
        "outputId": "aa1fcf47-9bc9-4739-9c0c-b6aa195127eb"
      },
      "outputs": [
        {
          "name": "stderr",
          "output_type": "stream",
          "text": [
            "c:\\Users\\rnjsa\\anaconda3\\Lib\\site-packages\\seaborn\\_oldcore.py:1119: FutureWarning: use_inf_as_na option is deprecated and will be removed in a future version. Convert inf values to NaN before operating instead.\n",
            "  with pd.option_context('mode.use_inf_as_na', True):\n"
          ]
        },
        {
          "data": {
            "image/png": "[encoded data removed]",
            "text/plain": [
              "<Figure size 640x480 with 1 Axes>"
            ]
          },
          "metadata": {},
          "output_type": "display_data"
        }
      ],
      "source": [
        "# draw histogram\n",
        "median_bins = np.arange(0.5, 5, 1)\n",
        "fig, ax = plt.subplots()\n",
        "ax=sns.histplot(data=simulated_medians, x=\"Sample Median\", bins=median_bins, stat=\"percent\", discrete=True)\n",
        "ax.set_ylabel(\"Percent\")\n",
        "ax.set_xlabel(\"Sample Mean\")\n",
        "ax.set_title(\"Simulation\")\n",
        "plt.show()"
      ]
    },
    {
      "cell_type": "code",
      "execution_count": 38,
      "metadata": {
        "id": "wNnplFdVijG7"
      },
      "outputs": [],
      "source": [
        "# Create Array medians to store repitions\n",
        "medians = np.array([])\n",
        "\n",
        "# Repeat the function 5,000 times.\n",
        "for i in np.arange(5000):\n",
        "    medians = np.append(medians, random_sample_median(10))"
      ]
    },
    {
      "cell_type": "code",
      "execution_count": 39,
      "metadata": {
        "colab": {
          "base_uri": "https://localhost:8080/",
          "height": 424
        },
        "id": "AuYBr65firga",
        "outputId": "de16c730-1243-4cf7-83ed-6a601c115682"
      },
      "outputs": [
        {
          "data": {
            "text/html": [
              "<div>\n",
              "<style scoped>\n",
              "    .dataframe tbody tr th:only-of-type {\n",
              "        vertical-align: middle;\n",
              "    }\n",
              "\n",
              "    .dataframe tbody tr th {\n",
              "        vertical-align: top;\n",
              "    }\n",
              "\n",
              "    .dataframe thead th {\n",
              "        text-align: right;\n",
              "    }\n",
              "</style>\n",
              "<table border=\"1\" class=\"dataframe\">\n",
              "  <thead>\n",
              "    <tr style=\"text-align: right;\">\n",
              "      <th></th>\n",
              "      <th>Sample Median</th>\n",
              "    </tr>\n",
              "  </thead>\n",
              "  <tbody>\n",
              "    <tr>\n",
              "      <th>0</th>\n",
              "      <td>8.0</td>\n",
              "    </tr>\n",
              "    <tr>\n",
              "      <th>1</th>\n",
              "      <td>0.0</td>\n",
              "    </tr>\n",
              "    <tr>\n",
              "      <th>2</th>\n",
              "      <td>-2.5</td>\n",
              "    </tr>\n",
              "    <tr>\n",
              "      <th>3</th>\n",
              "      <td>7.0</td>\n",
              "    </tr>\n",
              "    <tr>\n",
              "      <th>4</th>\n",
              "      <td>6.0</td>\n",
              "    </tr>\n",
              "    <tr>\n",
              "      <th>...</th>\n",
              "      <td>...</td>\n",
              "    </tr>\n",
              "    <tr>\n",
              "      <th>4995</th>\n",
              "      <td>24.0</td>\n",
              "    </tr>\n",
              "    <tr>\n",
              "      <th>4996</th>\n",
              "      <td>8.5</td>\n",
              "    </tr>\n",
              "    <tr>\n",
              "      <th>4997</th>\n",
              "      <td>5.5</td>\n",
              "    </tr>\n",
              "    <tr>\n",
              "      <th>4998</th>\n",
              "      <td>25.0</td>\n",
              "    </tr>\n",
              "    <tr>\n",
              "      <th>4999</th>\n",
              "      <td>0.5</td>\n",
              "    </tr>\n",
              "  </tbody>\n",
              "</table>\n",
              "<p>5000 rows × 1 columns</p>\n",
              "</div>"
            ],
            "text/plain": [
              "      Sample Median\n",
              "0               8.0\n",
              "1               0.0\n",
              "2              -2.5\n",
              "3               7.0\n",
              "4               6.0\n",
              "...             ...\n",
              "4995           24.0\n",
              "4996            8.5\n",
              "4997            5.5\n",
              "4998           25.0\n",
              "4999            0.5\n",
              "\n",
              "[5000 rows x 1 columns]"
            ]
          },
          "execution_count": 39,
          "metadata": {},
          "output_type": "execute_result"
        }
      ],
      "source": [
        "# Createa DataFrame\n",
        "simulated_medians_10 = pd.DataFrame({'Sample Median': medians})\n",
        "simulated_medians_10"
      ]
    },
    {
      "cell_type": "code",
      "execution_count": 40,
      "metadata": {
        "colab": {
          "base_uri": "https://localhost:8080/",
          "height": 480
        },
        "id": "TXqyIYT4iyyr",
        "outputId": "cafc1954-a22f-4a34-b197-561e3bdba998"
      },
      "outputs": [
        {
          "name": "stderr",
          "output_type": "stream",
          "text": [
            "c:\\Users\\rnjsa\\anaconda3\\Lib\\site-packages\\seaborn\\_oldcore.py:1119: FutureWarning: use_inf_as_na option is deprecated and will be removed in a future version. Convert inf values to NaN before operating instead.\n",
            "  with pd.option_context('mode.use_inf_as_na', True):\n"
          ]
        },
        {
          "data": {
            "image/png": "[encoded data removed]",
            "text/plain": [
              "<Figure size 640x480 with 1 Axes>"
            ]
          },
          "metadata": {},
          "output_type": "display_data"
        }
      ],
      "source": [
        "# draw histogram\n",
        "fig, ax = plt.subplots()\n",
        "ax=sns.histplot(data=simulated_medians_10, x=\"Sample Median\", bins=50, stat=\"percent\", discrete=True)\n",
        "ax.set_ylabel(\"Percent\")\n",
        "ax.set_xlabel(\"Sample Mean\")\n",
        "ax.set_title(\"Simulation\")\n",
        "plt.show()"
      ]
    },
    {
      "cell_type": "code",
      "execution_count": null,
      "metadata": {
        "id": "JsJ0y2U8jDnc"
      },
      "outputs": [],
      "source": []
    }
  ],
  "metadata": {
    "colab": {
      "provenance": []
    },
    "kernelspec": {
      "display_name": "Python 3",
      "name": "python3"
    },
    "language_info": {
      "codemirror_mode": {
        "name": "ipython",
        "version": 3
      },
      "file_extension": ".py",
      "mimetype": "text/x-python",
      "name": "python",
      "nbconvert_exporter": "python",
      "pygments_lexer": "ipython3",
      "version": "3.11.7"
    }
  },
  "nbformat": 4,
  "nbformat_minor": 0
}
